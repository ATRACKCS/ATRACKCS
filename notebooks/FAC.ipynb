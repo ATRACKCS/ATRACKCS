{
 "cells": [
  {
   "cell_type": "markdown",
   "metadata": {},
   "source": [
    "# Track Mesoescale Convective Systems (MCS) at consecutive time steps to form tracks with a scheme based on brightness temperature and precipitation\n",
    "\n",
    "This notebook tracks detected MCS at individual time steps to form tracks. In production, you can use the `scripts/1_detect_and_track_MCS_scheme_Tb_and_P.py` for this step.\n",
    "\n",
    "The principle for detecting the MCS is from the cold top of the clouds, according to a limiting range of brightness temperature, and an approximate horizontal area generating from the convex hull. The algorithm has the option to operate with only brightness temperature or associating this scheme with precipitation features. The selection criteria and filters for considering or not a MCS can be modified. The parameterization in this notebook was established from an extensive literature review, which can be consulted below.\n",
    "\n",
    "## The detection of the MCS (regions) is performed using these steps:\n",
    "\n",
    "1. At any time pixel, find all where brightness temperature `Tb` $\\le 225 K$ and trace an approximate region, with the convex hull, according to a binary structure where the pixels that satisfy the described condition are equal to $1$ and those that do not are equal to $0$.\n",
    "2. Transform from geographic to plane coordinates the pixels and compute an approximate area of those regions traced. \n",
    "3. Discard all regions whose area is $< 2000 km^2$.\n",
    "4. Estimate the average, minimum and maximum brightness temperature of those regions.\n",
    "5. At any time pixel, find all where precipitation `P` $\\ge 2 mm \\times {h^{-1}}$ and discard pixels that do not match with the regions estimated in that time step.\n",
    "6. Estimate an approximate area of those precipitation pixels, that satisfy the previous condition and that are contained in the regions.\n",
    "7. Estimate the average and maximum precipitation for each region whose area is $\\ge 500 km^2$. The algorithm has the option of discard those regions whose precipitaion area is $< 500 km^2$, but in this case those regions are going to be part of the possible tracks.\n",
    "\n",
    "## The tracks are performed using these steps:\n",
    "\n",
    "Specifically, assume we have detected $n$ MSC at time $t$, and $m$ MSC at time $t+1$. There are theoretically $n \\times m$ possible associations to link these two groups of MCS. Of course not all of them are meaningful. The rules that are applied in the association process are:\n",
    "\n",
    "1. **overlapping priority** principle: for any MCS at time $t$, the MCS with the highest percentage of overlap at time $t+1$ \"wins\" and is associated with it. \n",
    "2. The MCS with the lowest percentage of overlap at time $t+1$ could form a track on their own, and waits to be associated in the next iteration between $t+1$ and $t+2$.\n",
    "3. No merging or splitting is allowed, any MCS at time $t$ can only be linked to one MCS at time $t+1$, similarly, any MCS at time $t+1$ can only be linked to one MCS at time $t$.\n",
    "4. All tracks that do not get updated during the $t$ - $t+1$ process terminate. This assumes that no gap in the track is allowed. \n",
    "5. In this first part no tracks are discarded based on their total duration. The algorithm has the option for filtering the tracks with a specific minimun duration or not.\n",
    "\n",
    "## Input data\n",
    "\n",
    "**Brightness Temperature:**\n",
    "NCEP/CPC L3 (Merge IR V1): Spatial and temporal resolution is 4 km and 30 minutes, \n",
    "data availability from February 7, 2000 to present. The interest variable of this dataset is `Tb` and the files format must be `netCDF4`.\n",
    "https://doi.org/10.5067/P4HZB9N27EKU\n",
    "\n",
    "**Precipitation:**\n",
    "GPM (IMERG V06B): Spatial and temporal resolution is 10 km and 30 minutes, \n",
    "data availability from June 1, 2000 to present. The interest variable of this dataset is `PrecipitationCal` and the files format must be `netCDF4`.\n",
    "https://doi.org/10.5067/GPM/IMERG/3B-HH/06\n",
    "\n",
    "In this case the algorithm is run for 5 days (2019/12/25/ 00 (UTC) - 2019/12/31/ 00 (UTC)) for northern South America. The input data are in the notebooks folder in the repository. The raw data can be downloaded with the links at the top.\n",
    "\n",
    "## Steps\n",
    "\n",
    "1. Make sure you have successfully installed the ATRACKCS library.\n",
    "2. Execute the following code blocks in sequence.\n",
    "\n",
    "## Results\n",
    "\n",
    "* `resume_Tb_P_2019_12_24_19_2019_12_31_17.csv`: a csv table listing various attributes for the tracks and MCS associated.\n",
    "* `map_Tb_P_2019_12_24_19_2019_12_31_10.html` (folium): plot of the geographical locations of the MSC with informations that links to the associaded tracks and features of the MSC.\n",
    "\n",
    "## Bibliography\n",
    "* Feng, Z., Leung, L. R., Liu, N., Wang, J., Houze, R. A., Li, J., Hardin, J. C., Chen, D., & Guo, J. (2021). A Global High‐resolution Mesoscale Convective System Database using Satellite‐derived Cloud Tops, Surface Precipitation, and Tracking. Journal of Geophysical Research: Atmospheres. https://doi.org/10.1029/2020jd034202\n",
    "* Li, J., Feng, Z., Qian, Y., & Leung, L. R. (2020). A high-resolution unified observational data product of mesoscale convective systems and isolated deep convection in the United States for 2004–2017. Earth System Science Data Discussions, October, 1–48. https://doi.org/10.5194/essd-2020-151\n",
    "* Liu, W., Cook, K. H., & Vizy, E. K. (2019). The role of mesoscale convective systems in the diurnal cycle of rainfall and its seasonality over sub-Saharan Northern Africa. Climate Dynamics, 52(1–2), 729–745. https://doi.org/10.1007/s00382-018-4162-y\n",
    "* Vizy, E. K., & Cook, K. H. (2018). Mesoscale convective systems and nocturnal rainfall over the West African Sahel: role of the Inter-tropical front. Climate Dynamics, 50(1–2), 587–614. https://doi.org/10.1007/s00382-017-3628-7"
   ]
  },
  {
   "cell_type": "markdown",
   "metadata": {},
   "source": [
    "### Set paths\n",
    "\n",
    "First of all we assign the locations to the input (raw data) using `TBDIR` and `PDIR` and output data using `OUTDIR`."
   ]
  },
  {
   "cell_type": "code",
   "execution_count": 1,
   "metadata": {
    "scrolled": true
   },
   "outputs": [],
   "source": [
    "%matplotlib inline\n",
    "import os\n",
    "\n",
    "TBDIR=os.path.join('FAC', 'tb/')\n",
    "PDIR=os.path.join('FAC', 'p/')\n",
    "\n",
    "OUTDIR=os.path.join('FAC, output_data/')"
   ]
  },
  {
   "cell_type": "markdown",
   "metadata": {},
   "source": [
    "### Parameters used in the MCS detection and tracking process\n",
    "\n",
    "* `UTM_LOCAL_ZONE`: int, is needed for converting the WGS geodetic coordinate system to plane coordinate system. This is a constant that must be asociated with the interest region. \n",
    "* `UTC_LOCAL_HOUR`: int, is needed for converting the raw data hour (UTC) to a local hour (interest region).\n",
    "* `UTC_LOCAL_SIGN`: str (minus, plus, local), is needed for converting the raw data hour (UTC) to a local hour (interest region).\n",
    "* `DETECT_SCHEME`: str (Tb, Both), association scheme: Tb or Both (Tb and P). \n",
    "* `TB`: int, MCS based on limited maximun threshold cold cloud top.\n",
    "* `AREA_TB`: int, MCS with a minimun largest area.\n",
    "* `MIN_P`: int, MCS with a minimun precipitation pixel.\n",
    "* `AREA_P`: int, MCS with an mimimum area precipitation.\n",
    "* `DROP_EMPTY_PRECIPITATION`: boolean, if `True` eliminates MCS that do not contain precipitation with the `MIN_P` and `AREA_P` selected. \n",
    "* `THRESHOLD_OVERLAPPING_P`: int, percentage overlap limit between MCS.\n",
    "* `LOCATION_FOLIUM`: list (lat, lon), location for center the map_folium.\n",
    "* `MIN_DURATION`: int, minimum required number of hours of a track.\n"
   ]
  },
  {
   "cell_type": "code",
   "execution_count": 2,
   "metadata": {
    "scrolled": true
   },
   "outputs": [],
   "source": [
    "#32718 is the UTM zone 18S plane coordinate system. \n",
    "#It was Used for tracking MCS in South America - Colombia.\n",
    "UTM_LOCAL_ZONE = 32718 \n",
    "\n",
    "#UTC-5 is the local hour for Colombia\n",
    "UTC_LOCAL_HOUR = 0\n",
    "UTC_LOCAL_SIGN = \"local\"\n",
    "\n",
    "#Scheme of association\n",
    "DETECT_SCHEME = \"Both\"\n",
    "\n",
    "#RANGE Tb \n",
    "#Tb [200 k - 240 k]\n",
    "#RANGE AREA TB\n",
    "#area_Tb[>999 km]\n",
    "\n",
    "TB = 225 #[Feng et al.,(2021); Li et al.,(2020)]\n",
    "\n",
    "AREA_TB = 2000 # [Lui et al., (2019); Vizy & Cook,(2018)] \n",
    "\n",
    "#NO RESTRICTIONS AREA_P AND MIN_P\n",
    "\n",
    "MIN_P = 2 #[Feng et al.,(2021)]  \n",
    "\n",
    "AREA_P = 500 #[Feng et al.,(2021)]\n",
    "\n",
    "DROP_EMPTY_PRECIPITATION = False\n",
    "\n",
    "THRESHOLD_OVERLAPPING_P = 0\n",
    "\n",
    "LOCATION_FOLIUM = [5, -73.94]\n",
    "\n",
    "MIN_DURATION = 6"
   ]
  },
  {
   "cell_type": "markdown",
   "metadata": {},
   "source": [
    "### Importing modules"
   ]
  },
  {
   "cell_type": "code",
   "execution_count": 3,
   "metadata": {
    "scrolled": true
   },
   "outputs": [],
   "source": [
    "#--------Import modules-------------------------\n",
    "from atrackcs.utils import funcs\n",
    "from atrackcs.detect import detect_mcs\n",
    "from atrackcs.features import features_Tb, features_P, features_Tracks\n",
    "from atrackcs.track import track_mcs"
   ]
  },
  {
   "cell_type": "markdown",
   "metadata": {},
   "source": [
    "### Reading raw Tb and P data.\n",
    "\n",
    "The reading process is handled with the function `funcs.readNC()`.\n",
    "\n",
    "Also make sure the output folder exists."
   ]
  },
  {
   "cell_type": "code",
   "execution_count": 4,
   "metadata": {
    "scrolled": true
   },
   "outputs": [
    {
     "name": "stdout",
     "output_type": "stream",
     "text": [
      "Complete Tb and P data reading 2021-08-01T00:00 - 2021-10-29T23:00\n"
     ]
    }
   ],
   "source": [
    "ds = funcs.readNC(pathTb = TBDIR, pathP =PDIR, utc_local_hour = UTC_LOCAL_HOUR, \n",
    "                  utc_local_sign = UTC_LOCAL_SIGN)\n",
    "\n",
    "if not os.path.exists(OUTDIR):\n",
    "    os.makedirs(OUTDIR)"
   ]
  },
  {
   "cell_type": "markdown",
   "metadata": {},
   "source": [
    "The detection process is handled with the function `detect_mcs()`.\n",
    "\n",
    "* `ds` is the `xarray.Dataset` object we just read in."
   ]
  },
  {
   "cell_type": "markdown",
   "metadata": {},
   "source": [
    "### Detecting MCS"
   ]
  },
  {
   "cell_type": "code",
   "execution_count": 5,
   "metadata": {},
   "outputs": [
    {
     "name": "stdout",
     "output_type": "stream",
     "text": [
      "MCS detection completed\n"
     ]
    }
   ],
   "source": [
    "mcs_l = detect_mcs(ds, detect_scheme = DETECT_SCHEME, Tb = TB, area_Tb = AREA_TB, \n",
    "                   utm_local_zone = UTM_LOCAL_ZONE, path_save = None)"
   ]
  },
  {
   "cell_type": "markdown",
   "metadata": {},
   "source": [
    "The MCS Tb features is handled with the function `features_Tb()`.\n",
    "\n",
    "* `mcs_l` is the `Geopandas.GeoDataFrame` object we just created in the detection process."
   ]
  },
  {
   "cell_type": "code",
   "execution_count": 6,
   "metadata": {},
   "outputs": [
    {
     "name": "stdout",
     "output_type": "stream",
     "text": [
      "Estimating MCS's brightness temperature attributes: \n"
     ]
    },
    {
     "name": "stderr",
     "output_type": "stream",
     "text": [
      "100%|██████████████████████████████████████████████████████████████████████████████| 8446/8446 [10:06<00:00, 13.93it/s]\n"
     ]
    }
   ],
   "source": [
    "mcs_l = features_Tb(mcs_l, ds)"
   ]
  },
  {
   "cell_type": "markdown",
   "metadata": {},
   "source": [
    "* `mcs_l` is the `geopandas.GeoDataFrame` object we just created in the tracking process.\n",
    "\n",
    "Each `row` object in `mcs_l` stores a MCS record. We can have a peak into what `msc_l` columns contains so far. \n",
    "\n",
    "* `time`: datetime64, hour (UTC-5) for this case.\n",
    "* `Tb`: float, polygon index after being filtered by the established parameterization.\n",
    "* `geometry`: geometry, MCS polygon (convex hull). To view the coordinate reference system of the geometry column, access the crs attribute. For this case is `EPSG:32718`.\n",
    "* `area_Tb`: float, area polygon [$km^2$]\n",
    "* `centroid_`: geometry, geometric centroid polygon (convex hull). The crs in  this case is `EPSG:32718`.\n",
    "* `mean_tb`: float, brightness temperature average of the pixels composing the polygon. [$K$]\n",
    "* `min_tb`: float, brightness temperature min value of the pixels composing the polygon. [$K$]\n",
    "* `max_tb`: float, brightness temperature max value of the pixels composing the polygon. [$K$]\n",
    "\n",
    "For this case 3201 MCS were detected with the selected parameterization."
   ]
  },
  {
   "cell_type": "code",
   "execution_count": 7,
   "metadata": {
    "scrolled": true
   },
   "outputs": [
    {
     "data": {
      "text/html": [
       "<div>\n",
       "<style scoped>\n",
       "    .dataframe tbody tr th:only-of-type {\n",
       "        vertical-align: middle;\n",
       "    }\n",
       "\n",
       "    .dataframe tbody tr th {\n",
       "        vertical-align: top;\n",
       "    }\n",
       "\n",
       "    .dataframe thead th {\n",
       "        text-align: right;\n",
       "    }\n",
       "</style>\n",
       "<table border=\"1\" class=\"dataframe\">\n",
       "  <thead>\n",
       "    <tr style=\"text-align: right;\">\n",
       "      <th></th>\n",
       "      <th>time</th>\n",
       "      <th>Tb</th>\n",
       "      <th>geometry</th>\n",
       "      <th>area_tb</th>\n",
       "      <th>centroid_</th>\n",
       "      <th>mean_tb</th>\n",
       "      <th>min_tb</th>\n",
       "      <th>max_tb</th>\n",
       "    </tr>\n",
       "  </thead>\n",
       "  <tbody>\n",
       "    <tr>\n",
       "      <th>0</th>\n",
       "      <td>2021-08-01 00:00:00</td>\n",
       "      <td>8.0</td>\n",
       "      <td>POLYGON ((294642.098 10458947.737, 283565.248 ...</td>\n",
       "      <td>2148.3</td>\n",
       "      <td>POINT (287338.854 10498042.790)</td>\n",
       "      <td>219.9816</td>\n",
       "      <td>214.6666</td>\n",
       "      <td>225.6053</td>\n",
       "    </tr>\n",
       "    <tr>\n",
       "      <th>1</th>\n",
       "      <td>2021-08-01 00:00:00</td>\n",
       "      <td>9.0</td>\n",
       "      <td>POLYGON ((328194.345 10569453.757, 294964.065 ...</td>\n",
       "      <td>3370.0</td>\n",
       "      <td>POINT (308289.087 10610189.288)</td>\n",
       "      <td>216.1496</td>\n",
       "      <td>207.0629</td>\n",
       "      <td>224.4173</td>\n",
       "    </tr>\n",
       "    <tr>\n",
       "      <th>2</th>\n",
       "      <td>2021-08-01 00:00:00</td>\n",
       "      <td>10.0</td>\n",
       "      <td>POLYGON ((1664193.249 10601335.998, 1641481.25...</td>\n",
       "      <td>7907.5</td>\n",
       "      <td>POINT (1662321.536 10648509.021)</td>\n",
       "      <td>219.3849</td>\n",
       "      <td>212.1818</td>\n",
       "      <td>228.1542</td>\n",
       "    </tr>\n",
       "    <tr>\n",
       "      <th>3</th>\n",
       "      <td>2021-08-01 00:00:00</td>\n",
       "      <td>11.0</td>\n",
       "      <td>POLYGON ((-1071492.357 10643778.552, -1116882....</td>\n",
       "      <td>4688.8</td>\n",
       "      <td>POINT (-1097611.089 10682158.931)</td>\n",
       "      <td>221.5973</td>\n",
       "      <td>212.9739</td>\n",
       "      <td>236.5700</td>\n",
       "    </tr>\n",
       "    <tr>\n",
       "      <th>4</th>\n",
       "      <td>2021-08-01 00:00:00</td>\n",
       "      <td>12.0</td>\n",
       "      <td>POLYGON ((1911953.809 10651380.608, 1866366.19...</td>\n",
       "      <td>16445.4</td>\n",
       "      <td>POINT (1867410.108 10731151.235)</td>\n",
       "      <td>222.9712</td>\n",
       "      <td>202.7540</td>\n",
       "      <td>267.0389</td>\n",
       "    </tr>\n",
       "    <tr>\n",
       "      <th>...</th>\n",
       "      <td>...</td>\n",
       "      <td>...</td>\n",
       "      <td>...</td>\n",
       "      <td>...</td>\n",
       "      <td>...</td>\n",
       "      <td>...</td>\n",
       "      <td>...</td>\n",
       "      <td>...</td>\n",
       "    </tr>\n",
       "    <tr>\n",
       "      <th>8442</th>\n",
       "      <td>2021-10-29 23:00:00</td>\n",
       "      <td>177.0</td>\n",
       "      <td>POLYGON ((-978464.580 11539489.685, -988914.46...</td>\n",
       "      <td>16443.6</td>\n",
       "      <td>POINT (-913169.283 11585989.119)</td>\n",
       "      <td>219.2127</td>\n",
       "      <td>195.8632</td>\n",
       "      <td>283.3979</td>\n",
       "    </tr>\n",
       "    <tr>\n",
       "      <th>8443</th>\n",
       "      <td>2021-10-29 23:00:00</td>\n",
       "      <td>178.0</td>\n",
       "      <td>POLYGON ((-548108.484 11529993.541, -546745.39...</td>\n",
       "      <td>8367.5</td>\n",
       "      <td>POINT (-460348.267 11580708.881)</td>\n",
       "      <td>222.9454</td>\n",
       "      <td>210.0641</td>\n",
       "      <td>242.7126</td>\n",
       "    </tr>\n",
       "    <tr>\n",
       "      <th>8444</th>\n",
       "      <td>2021-10-29 23:00:00</td>\n",
       "      <td>179.0</td>\n",
       "      <td>POLYGON ((-807228.270 11632171.059, -817612.40...</td>\n",
       "      <td>12950.6</td>\n",
       "      <td>POINT (-706214.722 11665369.148)</td>\n",
       "      <td>219.3431</td>\n",
       "      <td>196.3320</td>\n",
       "      <td>273.6818</td>\n",
       "    </tr>\n",
       "    <tr>\n",
       "      <th>8445</th>\n",
       "      <td>2021-10-29 23:00:00</td>\n",
       "      <td>181.0</td>\n",
       "      <td>POLYGON ((-814509.498 11700446.829, -824834.46...</td>\n",
       "      <td>30944.8</td>\n",
       "      <td>POINT (-757692.890 11807364.440)</td>\n",
       "      <td>214.1800</td>\n",
       "      <td>198.4479</td>\n",
       "      <td>241.3825</td>\n",
       "    </tr>\n",
       "    <tr>\n",
       "      <th>8446</th>\n",
       "      <td>2021-10-29 23:00:00</td>\n",
       "      <td>189.0</td>\n",
       "      <td>POLYGON ((-145497.073 11872866.521, -155852.18...</td>\n",
       "      <td>4157.2</td>\n",
       "      <td>POINT (-134738.106 11919439.332)</td>\n",
       "      <td>NaN</td>\n",
       "      <td>NaN</td>\n",
       "      <td>NaN</td>\n",
       "    </tr>\n",
       "  </tbody>\n",
       "</table>\n",
       "<p>8447 rows × 8 columns</p>\n",
       "</div>"
      ],
      "text/plain": [
       "                    time     Tb  \\\n",
       "0    2021-08-01 00:00:00    8.0   \n",
       "1    2021-08-01 00:00:00    9.0   \n",
       "2    2021-08-01 00:00:00   10.0   \n",
       "3    2021-08-01 00:00:00   11.0   \n",
       "4    2021-08-01 00:00:00   12.0   \n",
       "...                  ...    ...   \n",
       "8442 2021-10-29 23:00:00  177.0   \n",
       "8443 2021-10-29 23:00:00  178.0   \n",
       "8444 2021-10-29 23:00:00  179.0   \n",
       "8445 2021-10-29 23:00:00  181.0   \n",
       "8446 2021-10-29 23:00:00  189.0   \n",
       "\n",
       "                                               geometry  area_tb  \\\n",
       "0     POLYGON ((294642.098 10458947.737, 283565.248 ...   2148.3   \n",
       "1     POLYGON ((328194.345 10569453.757, 294964.065 ...   3370.0   \n",
       "2     POLYGON ((1664193.249 10601335.998, 1641481.25...   7907.5   \n",
       "3     POLYGON ((-1071492.357 10643778.552, -1116882....   4688.8   \n",
       "4     POLYGON ((1911953.809 10651380.608, 1866366.19...  16445.4   \n",
       "...                                                 ...      ...   \n",
       "8442  POLYGON ((-978464.580 11539489.685, -988914.46...  16443.6   \n",
       "8443  POLYGON ((-548108.484 11529993.541, -546745.39...   8367.5   \n",
       "8444  POLYGON ((-807228.270 11632171.059, -817612.40...  12950.6   \n",
       "8445  POLYGON ((-814509.498 11700446.829, -824834.46...  30944.8   \n",
       "8446  POLYGON ((-145497.073 11872866.521, -155852.18...   4157.2   \n",
       "\n",
       "                              centroid_   mean_tb    min_tb    max_tb  \n",
       "0       POINT (287338.854 10498042.790)  219.9816  214.6666  225.6053  \n",
       "1       POINT (308289.087 10610189.288)  216.1496  207.0629  224.4173  \n",
       "2      POINT (1662321.536 10648509.021)  219.3849  212.1818  228.1542  \n",
       "3     POINT (-1097611.089 10682158.931)  221.5973  212.9739  236.5700  \n",
       "4      POINT (1867410.108 10731151.235)  222.9712  202.7540  267.0389  \n",
       "...                                 ...       ...       ...       ...  \n",
       "8442   POINT (-913169.283 11585989.119)  219.2127  195.8632  283.3979  \n",
       "8443   POINT (-460348.267 11580708.881)  222.9454  210.0641  242.7126  \n",
       "8444   POINT (-706214.722 11665369.148)  219.3431  196.3320  273.6818  \n",
       "8445   POINT (-757692.890 11807364.440)  214.1800  198.4479  241.3825  \n",
       "8446   POINT (-134738.106 11919439.332)       NaN       NaN       NaN  \n",
       "\n",
       "[8447 rows x 8 columns]"
      ]
     },
     "execution_count": 7,
     "metadata": {},
     "output_type": "execute_result"
    }
   ],
   "source": [
    "mcs_l"
   ]
  },
  {
   "cell_type": "code",
   "execution_count": 8,
   "metadata": {},
   "outputs": [
    {
     "data": {
      "text/plain": [
       "<Projected CRS: EPSG:32718>\n",
       "Name: WGS 84 / UTM zone 18S\n",
       "Axis Info [cartesian]:\n",
       "- E[east]: Easting (metre)\n",
       "- N[north]: Northing (metre)\n",
       "Area of Use:\n",
       "- name: Between 78°W and 72°W, southern hemisphere between 80°S and equator, onshore and offshore. Argentina. Brazil. Chile. Colombia. Ecuador. Peru.\n",
       "- bounds: (-78.0, -80.0, -72.0, 0.0)\n",
       "Coordinate Operation:\n",
       "- name: UTM zone 18S\n",
       "- method: Transverse Mercator\n",
       "Datum: World Geodetic System 1984\n",
       "- Ellipsoid: WGS 84\n",
       "- Prime Meridian: Greenwich"
      ]
     },
     "execution_count": 8,
     "metadata": {},
     "output_type": "execute_result"
    }
   ],
   "source": [
    "mcs_l.crs"
   ]
  },
  {
   "cell_type": "markdown",
   "metadata": {},
   "source": [
    "The MCS P features is handled with the function `features_P()`."
   ]
  },
  {
   "cell_type": "code",
   "execution_count": 9,
   "metadata": {
    "scrolled": true
   },
   "outputs": [
    {
     "name": "stdout",
     "output_type": "stream",
     "text": [
      "Estimating MCS's precipitation attributes: \n"
     ]
    },
    {
     "name": "stderr",
     "output_type": "stream",
     "text": [
      "100%|██████████████████████████████████████████████████████████████████████████████| 8446/8446 [10:03<00:00, 13.99it/s]\n"
     ]
    }
   ],
   "source": [
    "mcs_l = features_P(mcs_l, ds, min_precipitation = MIN_P, area_P = AREA_P,\n",
    "                   drop_empty_precipitation = DROP_EMPTY_PRECIPITATION)"
   ]
  },
  {
   "cell_type": "markdown",
   "metadata": {},
   "source": [
    "### Tracking MCS\n",
    "\n",
    "The tracking process is handled with the function `track_mcs()`. However, these have not been characterized in this phase. The tracks features are handled with the function `features_Tracks()`."
   ]
  },
  {
   "cell_type": "code",
   "execution_count": 10,
   "metadata": {
    "scrolled": true
   },
   "outputs": [
    {
     "name": "stdout",
     "output_type": "stream",
     "text": [
      "Estimating trajectories: \n"
     ]
    },
    {
     "name": "stderr",
     "output_type": "stream",
     "text": [
      "100%|██████████████████████████████████████████████████████████████████████████████| 8446/8446 [14:26<00:00,  9.75it/s]\n"
     ]
    }
   ],
   "source": [
    "tracks_l = track_mcs(mcs_l, threshold_overlapping_percentage = THRESHOLD_OVERLAPPING_P, utm_local_zone = UTM_LOCAL_ZONE,\n",
    "                path_save = None)"
   ]
  },
  {
   "cell_type": "code",
   "execution_count": 11,
   "metadata": {},
   "outputs": [
    {
     "name": "stdout",
     "output_type": "stream",
     "text": [
      "Estimating distance and direction between geometrics centroids: \n"
     ]
    },
    {
     "name": "stderr",
     "output_type": "stream",
     "text": [
      "100%|██████████████████████████████████████████████████████████████████████████████| 3105/3105 [01:41<00:00, 30.66it/s]\n"
     ]
    }
   ],
   "source": [
    "tracks_l = features_Tracks(tracks_l, initial_time_hour = MIN_DURATION,\n",
    "                         path_save = OUTDIR)"
   ]
  },
  {
   "cell_type": "markdown",
   "metadata": {},
   "source": [
    "* `tracks_l` is a `geopandas.GeoDataFrame` object we just created in the tracking process and stores the MCS polygons and the tracks. \n",
    "* This `GeoDataFrame` contains exactly the information previously referenced except for the dropping of some features associated to the brightness temperature and the addition of some characteristics associated to the MCS precipitation and some characteristics generated for the tracks.\n",
    "* The indexing of this object is a `pandas.MultiIndex` since it hierarchically associates an id for each track and an id for each MCS.\n",
    "* The indexing of this object is encrypted generated using the `uuid` library. To disable encryption for both MCS and tracks, use the parameter `encrypt_index = False` in the `features_Tracks()` function. The index generated when not using encryption is a `int` iteration result  of the tracking process.\n",
    "* The indexes encryption is useful when processing a long period of time and must iterate for smaller periods of time, for example every 6 months. This is a limitation imposed by the hardware used to run the algorithm.\n",
    "\n",
    "We can have a peak into what `tracks_l` new columns contains. \n",
    "\n",
    "\n",
    "* `belong`: str, encrypted index generated for each track.\n",
    "* `id_gdf`: str, encrypted index generated for each MCS.\n",
    "* `geometry`: geometry, polygon. The crs is `EPSG:4326-WGS84`\n",
    "* `centroid_`: geometry, geometric centroid polygon. The crs is `EPSG:4326`.\n",
    "* `mean_pp`: float, precipitation average of the pixels composing the polygon [$mm \\times {h^{-1}}$].\n",
    "* `max_pp`: float, precipitation max value of the pixels composing the polygon [$mm \\times {h^{-1}}$].\n",
    "* `intersection_percentage`: float, percentage overlap between MCS [%].\n",
    "* `distance_c`: float, distance between the overlapping geometric centroids of the MCS [km].\n",
    "* `direction`: float, direction between the overlapping geometric centroids of the MCS [°].\n",
    "* `total_duration`: float, total duration of the event or the track. This value is associated to each MCS of the corresponding track [h]. \n",
    "* `total_distance`: float, total distance of the event or the track. This value is associated to each MCS of the corresponding track [km]. \n",
    "* `mean_velocity`: float, velocity average of the  event or the track. This value is associated to each MCS of the corresponding track [$km \\times {h^{-1}}$]. "
   ]
  },
  {
   "cell_type": "code",
   "execution_count": 12,
   "metadata": {},
   "outputs": [
    {
     "data": {
      "text/html": [
       "<div>\n",
       "<style scoped>\n",
       "    .dataframe tbody tr th:only-of-type {\n",
       "        vertical-align: middle;\n",
       "    }\n",
       "\n",
       "    .dataframe tbody tr th {\n",
       "        vertical-align: top;\n",
       "    }\n",
       "\n",
       "    .dataframe thead th {\n",
       "        text-align: right;\n",
       "    }\n",
       "</style>\n",
       "<table border=\"1\" class=\"dataframe\">\n",
       "  <thead>\n",
       "    <tr style=\"text-align: right;\">\n",
       "      <th></th>\n",
       "      <th></th>\n",
       "      <th>time</th>\n",
       "      <th>geometry</th>\n",
       "      <th>area_tb</th>\n",
       "      <th>centroid_</th>\n",
       "      <th>mean_tb</th>\n",
       "      <th>mean_pp</th>\n",
       "      <th>max_pp</th>\n",
       "      <th>intersection_percentage</th>\n",
       "      <th>distance_c</th>\n",
       "      <th>direction</th>\n",
       "      <th>total_duration</th>\n",
       "      <th>total_distance</th>\n",
       "      <th>mean_velocity</th>\n",
       "    </tr>\n",
       "    <tr>\n",
       "      <th>belong</th>\n",
       "      <th>id_gdf</th>\n",
       "      <th></th>\n",
       "      <th></th>\n",
       "      <th></th>\n",
       "      <th></th>\n",
       "      <th></th>\n",
       "      <th></th>\n",
       "      <th></th>\n",
       "      <th></th>\n",
       "      <th></th>\n",
       "      <th></th>\n",
       "      <th></th>\n",
       "      <th></th>\n",
       "      <th></th>\n",
       "    </tr>\n",
       "  </thead>\n",
       "  <tbody>\n",
       "    <tr>\n",
       "      <th rowspan=\"5\" valign=\"top\">00187b65-15ea</th>\n",
       "      <th>4397-abbb-3555b04fb8ae</th>\n",
       "      <td>2021-09-24 20:00:00</td>\n",
       "      <td>POLYGON ((-73.85000 0.45000, -73.95000 0.55000...</td>\n",
       "      <td>14953.4</td>\n",
       "      <td>POINT (-73.35840 1.25312)</td>\n",
       "      <td>222.5814</td>\n",
       "      <td>4.3826</td>\n",
       "      <td>9.4014</td>\n",
       "      <td>48.6</td>\n",
       "      <td>99.619780</td>\n",
       "      <td>227.2</td>\n",
       "      <td>6</td>\n",
       "      <td>271.69443</td>\n",
       "      <td>45.282405</td>\n",
       "    </tr>\n",
       "    <tr>\n",
       "      <th>48ff-9e12-3c8d4588c179</th>\n",
       "      <td>2021-09-25 00:00:00</td>\n",
       "      <td>POLYGON ((-74.65000 1.65000, -74.65000 2.15000...</td>\n",
       "      <td>3195.8</td>\n",
       "      <td>POINT (-74.44490 2.13589)</td>\n",
       "      <td>224.3726</td>\n",
       "      <td>NaN</td>\n",
       "      <td>NaN</td>\n",
       "      <td>NaN</td>\n",
       "      <td>64.525702</td>\n",
       "      <td>338.6</td>\n",
       "      <td>6</td>\n",
       "      <td>271.69443</td>\n",
       "      <td>45.282405</td>\n",
       "    </tr>\n",
       "    <tr>\n",
       "      <th>4964-9d46-61e79179c644</th>\n",
       "      <td>2021-09-24 19:00:00</td>\n",
       "      <td>POLYGON ((-72.75000 1.55000, -72.95000 1.95000...</td>\n",
       "      <td>2585.6</td>\n",
       "      <td>POINT (-72.69919 1.86268)</td>\n",
       "      <td>217.7535</td>\n",
       "      <td>NaN</td>\n",
       "      <td>NaN</td>\n",
       "      <td>0.0</td>\n",
       "      <td>NaN</td>\n",
       "      <td>NaN</td>\n",
       "      <td>6</td>\n",
       "      <td>271.69443</td>\n",
       "      <td>45.282405</td>\n",
       "    </tr>\n",
       "    <tr>\n",
       "      <th>4d92-98aa-e9dda63dec77</th>\n",
       "      <td>2021-09-24 22:00:00</td>\n",
       "      <td>POLYGON ((-74.25000 0.75000, -74.35000 0.85000...</td>\n",
       "      <td>17219.6</td>\n",
       "      <td>POINT (-73.98021 1.45800)</td>\n",
       "      <td>218.7721</td>\n",
       "      <td>3.5859</td>\n",
       "      <td>19.7889</td>\n",
       "      <td>51.7</td>\n",
       "      <td>35.207150</td>\n",
       "      <td>270.9</td>\n",
       "      <td>6</td>\n",
       "      <td>271.69443</td>\n",
       "      <td>45.282405</td>\n",
       "    </tr>\n",
       "    <tr>\n",
       "      <th>4e76-acd2-e2212b8fa9e1</th>\n",
       "      <td>2021-09-24 23:00:00</td>\n",
       "      <td>POLYGON ((-74.45000 0.75000, -74.55000 0.85000...</td>\n",
       "      <td>12665.6</td>\n",
       "      <td>POINT (-74.23255 1.59287)</td>\n",
       "      <td>223.1849</td>\n",
       "      <td>2.6519</td>\n",
       "      <td>4.3409</td>\n",
       "      <td>7.9</td>\n",
       "      <td>31.795186</td>\n",
       "      <td>298.1</td>\n",
       "      <td>6</td>\n",
       "      <td>271.69443</td>\n",
       "      <td>45.282405</td>\n",
       "    </tr>\n",
       "    <tr>\n",
       "      <th>...</th>\n",
       "      <th>...</th>\n",
       "      <td>...</td>\n",
       "      <td>...</td>\n",
       "      <td>...</td>\n",
       "      <td>...</td>\n",
       "      <td>...</td>\n",
       "      <td>...</td>\n",
       "      <td>...</td>\n",
       "      <td>...</td>\n",
       "      <td>...</td>\n",
       "      <td>...</td>\n",
       "      <td>...</td>\n",
       "      <td>...</td>\n",
       "      <td>...</td>\n",
       "    </tr>\n",
       "    <tr>\n",
       "      <th rowspan=\"5\" valign=\"top\">fc0d2a47-7012</th>\n",
       "      <th>4ab3-84ca-9f038c48d9e7</th>\n",
       "      <td>2021-09-22 07:00:00</td>\n",
       "      <td>POLYGON ((-68.45000 2.75000, -69.05000 2.95000...</td>\n",
       "      <td>44093.2</td>\n",
       "      <td>POINT (-67.66171 3.76872)</td>\n",
       "      <td>218.0966</td>\n",
       "      <td>4.6533</td>\n",
       "      <td>9.9393</td>\n",
       "      <td>76.5</td>\n",
       "      <td>42.504586</td>\n",
       "      <td>45.2</td>\n",
       "      <td>9</td>\n",
       "      <td>304.296502</td>\n",
       "      <td>33.810722</td>\n",
       "    </tr>\n",
       "    <tr>\n",
       "      <th>4b37-9bca-6c488e948c1c</th>\n",
       "      <td>2021-09-22 08:00:00</td>\n",
       "      <td>POLYGON ((-69.35000 2.85000, -69.45000 3.05000...</td>\n",
       "      <td>50420.5</td>\n",
       "      <td>POINT (-67.87038 3.83996)</td>\n",
       "      <td>221.7950</td>\n",
       "      <td>7.1384</td>\n",
       "      <td>33.2969</td>\n",
       "      <td>NaN</td>\n",
       "      <td>24.481022</td>\n",
       "      <td>288.8</td>\n",
       "      <td>9</td>\n",
       "      <td>304.296502</td>\n",
       "      <td>33.810722</td>\n",
       "    </tr>\n",
       "    <tr>\n",
       "      <th>4cc3-9024-4741c7a5acce</th>\n",
       "      <td>2021-09-22 00:00:00</td>\n",
       "      <td>POLYGON ((-67.85000 2.85000, -67.95000 2.95000...</td>\n",
       "      <td>2495.7</td>\n",
       "      <td>POINT (-67.79077 3.11581)</td>\n",
       "      <td>205.1374</td>\n",
       "      <td>4.3045</td>\n",
       "      <td>6.3069</td>\n",
       "      <td>9.6</td>\n",
       "      <td>NaN</td>\n",
       "      <td>NaN</td>\n",
       "      <td>9</td>\n",
       "      <td>304.296502</td>\n",
       "      <td>33.810722</td>\n",
       "    </tr>\n",
       "    <tr>\n",
       "      <th>4d50-a634-06cebb75a3fb</th>\n",
       "      <td>2021-09-22 06:00:00</td>\n",
       "      <td>POLYGON ((-68.05000 2.85000, -68.45000 2.95000...</td>\n",
       "      <td>21068.6</td>\n",
       "      <td>POINT (-67.93402 3.49872)</td>\n",
       "      <td>211.0295</td>\n",
       "      <td>7.3695</td>\n",
       "      <td>14.7163</td>\n",
       "      <td>45.7</td>\n",
       "      <td>34.748545</td>\n",
       "      <td>306.7</td>\n",
       "      <td>9</td>\n",
       "      <td>304.296502</td>\n",
       "      <td>33.810722</td>\n",
       "    </tr>\n",
       "    <tr>\n",
       "      <th>4f79-b45d-6ff2697f9e1d</th>\n",
       "      <td>2021-09-22 05:00:00</td>\n",
       "      <td>POLYGON ((-67.45000 2.65000, -68.35000 2.85000...</td>\n",
       "      <td>23529.9</td>\n",
       "      <td>POINT (-67.68301 3.31131)</td>\n",
       "      <td>215.5185</td>\n",
       "      <td>8.8993</td>\n",
       "      <td>16.9644</td>\n",
       "      <td>70.3</td>\n",
       "      <td>35.707470</td>\n",
       "      <td>292.5</td>\n",
       "      <td>9</td>\n",
       "      <td>304.296502</td>\n",
       "      <td>33.810722</td>\n",
       "    </tr>\n",
       "  </tbody>\n",
       "</table>\n",
       "<p>2104 rows × 13 columns</p>\n",
       "</div>"
      ],
      "text/plain": [
       "                                                    time  \\\n",
       "belong        id_gdf                                       \n",
       "00187b65-15ea 4397-abbb-3555b04fb8ae 2021-09-24 20:00:00   \n",
       "              48ff-9e12-3c8d4588c179 2021-09-25 00:00:00   \n",
       "              4964-9d46-61e79179c644 2021-09-24 19:00:00   \n",
       "              4d92-98aa-e9dda63dec77 2021-09-24 22:00:00   \n",
       "              4e76-acd2-e2212b8fa9e1 2021-09-24 23:00:00   \n",
       "...                                                  ...   \n",
       "fc0d2a47-7012 4ab3-84ca-9f038c48d9e7 2021-09-22 07:00:00   \n",
       "              4b37-9bca-6c488e948c1c 2021-09-22 08:00:00   \n",
       "              4cc3-9024-4741c7a5acce 2021-09-22 00:00:00   \n",
       "              4d50-a634-06cebb75a3fb 2021-09-22 06:00:00   \n",
       "              4f79-b45d-6ff2697f9e1d 2021-09-22 05:00:00   \n",
       "\n",
       "                                                                               geometry  \\\n",
       "belong        id_gdf                                                                      \n",
       "00187b65-15ea 4397-abbb-3555b04fb8ae  POLYGON ((-73.85000 0.45000, -73.95000 0.55000...   \n",
       "              48ff-9e12-3c8d4588c179  POLYGON ((-74.65000 1.65000, -74.65000 2.15000...   \n",
       "              4964-9d46-61e79179c644  POLYGON ((-72.75000 1.55000, -72.95000 1.95000...   \n",
       "              4d92-98aa-e9dda63dec77  POLYGON ((-74.25000 0.75000, -74.35000 0.85000...   \n",
       "              4e76-acd2-e2212b8fa9e1  POLYGON ((-74.45000 0.75000, -74.55000 0.85000...   \n",
       "...                                                                                 ...   \n",
       "fc0d2a47-7012 4ab3-84ca-9f038c48d9e7  POLYGON ((-68.45000 2.75000, -69.05000 2.95000...   \n",
       "              4b37-9bca-6c488e948c1c  POLYGON ((-69.35000 2.85000, -69.45000 3.05000...   \n",
       "              4cc3-9024-4741c7a5acce  POLYGON ((-67.85000 2.85000, -67.95000 2.95000...   \n",
       "              4d50-a634-06cebb75a3fb  POLYGON ((-68.05000 2.85000, -68.45000 2.95000...   \n",
       "              4f79-b45d-6ff2697f9e1d  POLYGON ((-67.45000 2.65000, -68.35000 2.85000...   \n",
       "\n",
       "                                      area_tb                  centroid_  \\\n",
       "belong        id_gdf                                                       \n",
       "00187b65-15ea 4397-abbb-3555b04fb8ae  14953.4  POINT (-73.35840 1.25312)   \n",
       "              48ff-9e12-3c8d4588c179   3195.8  POINT (-74.44490 2.13589)   \n",
       "              4964-9d46-61e79179c644   2585.6  POINT (-72.69919 1.86268)   \n",
       "              4d92-98aa-e9dda63dec77  17219.6  POINT (-73.98021 1.45800)   \n",
       "              4e76-acd2-e2212b8fa9e1  12665.6  POINT (-74.23255 1.59287)   \n",
       "...                                       ...                        ...   \n",
       "fc0d2a47-7012 4ab3-84ca-9f038c48d9e7  44093.2  POINT (-67.66171 3.76872)   \n",
       "              4b37-9bca-6c488e948c1c  50420.5  POINT (-67.87038 3.83996)   \n",
       "              4cc3-9024-4741c7a5acce   2495.7  POINT (-67.79077 3.11581)   \n",
       "              4d50-a634-06cebb75a3fb  21068.6  POINT (-67.93402 3.49872)   \n",
       "              4f79-b45d-6ff2697f9e1d  23529.9  POINT (-67.68301 3.31131)   \n",
       "\n",
       "                                       mean_tb  mean_pp   max_pp  \\\n",
       "belong        id_gdf                                               \n",
       "00187b65-15ea 4397-abbb-3555b04fb8ae  222.5814   4.3826   9.4014   \n",
       "              48ff-9e12-3c8d4588c179  224.3726      NaN      NaN   \n",
       "              4964-9d46-61e79179c644  217.7535      NaN      NaN   \n",
       "              4d92-98aa-e9dda63dec77  218.7721   3.5859  19.7889   \n",
       "              4e76-acd2-e2212b8fa9e1  223.1849   2.6519   4.3409   \n",
       "...                                        ...      ...      ...   \n",
       "fc0d2a47-7012 4ab3-84ca-9f038c48d9e7  218.0966   4.6533   9.9393   \n",
       "              4b37-9bca-6c488e948c1c  221.7950   7.1384  33.2969   \n",
       "              4cc3-9024-4741c7a5acce  205.1374   4.3045   6.3069   \n",
       "              4d50-a634-06cebb75a3fb  211.0295   7.3695  14.7163   \n",
       "              4f79-b45d-6ff2697f9e1d  215.5185   8.8993  16.9644   \n",
       "\n",
       "                                      intersection_percentage  distance_c  \\\n",
       "belong        id_gdf                                                        \n",
       "00187b65-15ea 4397-abbb-3555b04fb8ae                     48.6   99.619780   \n",
       "              48ff-9e12-3c8d4588c179                      NaN   64.525702   \n",
       "              4964-9d46-61e79179c644                      0.0         NaN   \n",
       "              4d92-98aa-e9dda63dec77                     51.7   35.207150   \n",
       "              4e76-acd2-e2212b8fa9e1                      7.9   31.795186   \n",
       "...                                                       ...         ...   \n",
       "fc0d2a47-7012 4ab3-84ca-9f038c48d9e7                     76.5   42.504586   \n",
       "              4b37-9bca-6c488e948c1c                      NaN   24.481022   \n",
       "              4cc3-9024-4741c7a5acce                      9.6         NaN   \n",
       "              4d50-a634-06cebb75a3fb                     45.7   34.748545   \n",
       "              4f79-b45d-6ff2697f9e1d                     70.3   35.707470   \n",
       "\n",
       "                                      direction total_duration total_distance  \\\n",
       "belong        id_gdf                                                            \n",
       "00187b65-15ea 4397-abbb-3555b04fb8ae      227.2              6      271.69443   \n",
       "              48ff-9e12-3c8d4588c179      338.6              6      271.69443   \n",
       "              4964-9d46-61e79179c644        NaN              6      271.69443   \n",
       "              4d92-98aa-e9dda63dec77      270.9              6      271.69443   \n",
       "              4e76-acd2-e2212b8fa9e1      298.1              6      271.69443   \n",
       "...                                         ...            ...            ...   \n",
       "fc0d2a47-7012 4ab3-84ca-9f038c48d9e7       45.2              9     304.296502   \n",
       "              4b37-9bca-6c488e948c1c      288.8              9     304.296502   \n",
       "              4cc3-9024-4741c7a5acce        NaN              9     304.296502   \n",
       "              4d50-a634-06cebb75a3fb      306.7              9     304.296502   \n",
       "              4f79-b45d-6ff2697f9e1d      292.5              9     304.296502   \n",
       "\n",
       "                                     mean_velocity  \n",
       "belong        id_gdf                                \n",
       "00187b65-15ea 4397-abbb-3555b04fb8ae     45.282405  \n",
       "              48ff-9e12-3c8d4588c179     45.282405  \n",
       "              4964-9d46-61e79179c644     45.282405  \n",
       "              4d92-98aa-e9dda63dec77     45.282405  \n",
       "              4e76-acd2-e2212b8fa9e1     45.282405  \n",
       "...                                            ...  \n",
       "fc0d2a47-7012 4ab3-84ca-9f038c48d9e7     33.810722  \n",
       "              4b37-9bca-6c488e948c1c     33.810722  \n",
       "              4cc3-9024-4741c7a5acce     33.810722  \n",
       "              4d50-a634-06cebb75a3fb     33.810722  \n",
       "              4f79-b45d-6ff2697f9e1d     33.810722  \n",
       "\n",
       "[2104 rows x 13 columns]"
      ]
     },
     "execution_count": 12,
     "metadata": {},
     "output_type": "execute_result"
    }
   ],
   "source": [
    "tracks_l"
   ]
  },
  {
   "cell_type": "code",
   "execution_count": 13,
   "metadata": {},
   "outputs": [
    {
     "data": {
      "text/plain": [
       "<Geographic 2D CRS: EPSG:4326>\n",
       "Name: WGS 84\n",
       "Axis Info [ellipsoidal]:\n",
       "- Lat[north]: Geodetic latitude (degree)\n",
       "- Lon[east]: Geodetic longitude (degree)\n",
       "Area of Use:\n",
       "- name: World.\n",
       "- bounds: (-180.0, -90.0, 180.0, 90.0)\n",
       "Datum: World Geodetic System 1984\n",
       "- Ellipsoid: WGS 84\n",
       "- Prime Meridian: Greenwich"
      ]
     },
     "execution_count": 13,
     "metadata": {},
     "output_type": "execute_result"
    }
   ],
   "source": [
    "tracks_l.crs"
   ]
  },
  {
   "cell_type": "code",
   "execution_count": 14,
   "metadata": {},
   "outputs": [
    {
     "name": "stdout",
     "output_type": "stream",
     "text": [
      "total tracks detected: 276 and total MCS detected: 2104\n"
     ]
    }
   ],
   "source": [
    "#Total tracks and MCS detected \n",
    "\n",
    "print (\"total tracks detected: \" + str(len(tracks_l.index.levels[0])) + \" and total MCS detected: \" + str(len(tracks_l.index.levels[1])))"
   ]
  },
  {
   "cell_type": "markdown",
   "metadata": {},
   "source": [
    "### As the last step, let is reload the tracks results from the local storage and plot the MCS with the help of the folium library.\n",
    "\n",
    "The read process tracks is handled with the function `funcs.readTRACKS()`.\n"
   ]
  },
  {
   "cell_type": "code",
   "execution_count": 27,
   "metadata": {},
   "outputs": [],
   "source": [
    "tracks_l = funcs.readTRACKS('FAC_output_data/resume_Tb_P_2021_08_01_00_2021_10_29_23.csv')\n",
    "\n",
    "#---------Discarding tracks that last less than 10 hours--------\n",
    "tracks_l = tracks_l.reset_index()\n",
    "tracks_l = tracks_l.set_index(\"time\")"
   ]
  },
  {
   "cell_type": "code",
   "execution_count": 32,
   "metadata": {},
   "outputs": [],
   "source": [
    "#-------------------Load results-------------------\n",
    "tracks_l = funcs.readTRACKS('FAC_output_data/resume_Tb_P_2021_08_01_00_2021_10_29_23.csv')\n",
    "\n",
    "#---------Discarding tracks that last less than 10 hours--------\n",
    "tracks_l = tracks_l.reset_index()\n",
    "tracks_l = tracks_l.set_index(\"time\")\n",
    "\n",
    "for mes in [\"2021/08\",\"2021/09\",\"2021/10\"]:\n",
    "    tracks_ = tracks_l[mes]\n",
    "    tracks_ = tracks_.reset_index()\n",
    "    tracks_ = tracks_.set_index([\"belong\", \"id_gdf\"])\n",
    "    tracks_ = tracks_.sort_index()\n",
    "    path_html_folium = funcs.plot_folium(tracks_, location = LOCATION_FOLIUM, path_save = OUTDIR)\n",
    "    \n",
    "#print (\"total tracks that last less than 10 hours : \" + str(len(tracks_l.index.levels[0])) + \" and total MCS detected: \" + str(len(tracks_l.index.levels[1])))"
   ]
  },
  {
   "cell_type": "markdown",
   "metadata": {},
   "source": [
    "The function `funcs.plot_folium()` saves the `.html` result and return the path where was saved.\n"
   ]
  },
  {
   "cell_type": "code",
   "execution_count": 16,
   "metadata": {
    "scrolled": true
   },
   "outputs": [],
   "source": [
    "path_html_folium = funcs.plot_folium(tracks_l, location = LOCATION_FOLIUM, path_save = OUTDIR)"
   ]
  },
  {
   "cell_type": "code",
   "execution_count": 17,
   "metadata": {},
   "outputs": [
    {
     "data": {
      "text/html": [
       "<iframe src=FAC, output_data/map_Tb_P_2019_12_24_19_2019_12_31_10.html width=1000 height=500></iframe>"
      ],
      "text/plain": [
       "<IPython.core.display.HTML object>"
      ]
     },
     "execution_count": 17,
     "metadata": {},
     "output_type": "execute_result"
    }
   ],
   "source": [
    "import IPython\n",
    "iframe = '<iframe src=' + path_html_folium + ' width=1000 height=500></iframe>'\n",
    "IPython.display.HTML(iframe)"
   ]
  }
 ],
 "metadata": {
  "kernelspec": {
   "display_name": "Python 3 (ipykernel)",
   "language": "python",
   "name": "python3"
  },
  "language_info": {
   "codemirror_mode": {
    "name": "ipython",
    "version": 3
   },
   "file_extension": ".py",
   "mimetype": "text/x-python",
   "name": "python",
   "nbconvert_exporter": "python",
   "pygments_lexer": "ipython3",
   "version": "3.7.13"
  }
 },
 "nbformat": 4,
 "nbformat_minor": 4
}
