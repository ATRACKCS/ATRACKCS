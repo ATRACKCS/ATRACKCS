{
 "cells": [
  {
   "cell_type": "markdown",
   "id": "314ddbee-0aae-45ac-9ba8-707df281d400",
   "metadata": {},
   "source": [
    "# Create a visualization of ATRACKCS performance\n"
   ]
  },
  {
   "cell_type": "code",
   "execution_count": 20,
   "id": "cdd796da",
   "metadata": {},
   "outputs": [],
   "source": [
    "import numpy as np \n",
    "import pandas as pd\n",
    "import xarray as xr\n",
    "import glob\n",
    "import geopandas as gpd\n",
    "import matplotlib.pyplot as plt\n",
    "import cartopy.crs as ccrs\n",
    "import cartopy.feature as cfeature\n",
    "from shapely.wkt import loads\n",
    "import os\n",
    "from matplotlib.cm import get_cmap\n",
    "import matplotlib.patches as mpatches"
   ]
  },
  {
   "cell_type": "code",
   "execution_count": 21,
   "id": "37c869c6-4305-475d-80ea-7b727cbacb12",
   "metadata": {
    "scrolled": true
   },
   "outputs": [],
   "source": [
    "# === Load Data ===\n",
    "# Path to ATRACKCS CSV file\n",
    "csv_file_path = '../tests/Results/resume_DeepConvection_2016-08-01 0_2016-08-04.csv'\n",
    "atracks_resume = pd.read_csv(csv_file_path, sep=',')\n",
    "\n",
    "# Load brightness temperature data (Tb)\n",
    "wa_nc = xr.open_mfdataset('../tests/WA/tb/*.nc4', engine='netcdf4')\n",
    "tb = wa_nc['Tb']\n",
    "tb = tb.resample(time=\"1h\").nearest(tolerance=\"1h\")\n",
    "\n",
    "\n",
    "# Convert geometry column to shapely objects\n",
    "atracks_resume['geometry'] = atracks_resume['geometry'].apply(loads)\n",
    "atrackcs_gdf = gpd.GeoDataFrame(atracks_resume, geometry='geometry')\n",
    "atrackcs_gdf.set_crs(\"EPSG:4326\", inplace=True)\n",
    "\n",
    "# Convert 'time' column to datetime\n",
    "atrackcs_gdf['time'] = pd.to_datetime(atrackcs_gdf['time'])\n",
    "\n",
    "# === Domain Extent ===\n",
    "lonW, lonE = wa_nc.lon.values[0], wa_nc.lon.values[-1]\n",
    "latS, latN = wa_nc.lat.values[0], wa_nc.lat.values[-1]\n",
    "\n",
    "# === Colormap Setup ===\n",
    "unique_belong_ids = sorted(atrackcs_gdf['track_id'].unique())\n",
    "n_ids = len(unique_belong_ids)\n",
    "# Use a continuous colormap (e.g., tab20, tab20c, viridis, etc.)\n",
    "cmap = plt.colormaps['tab20']  # or plt.cm.get_cmap('tab20')\n",
    "# Map each ID to a unique color by sampling evenly across the colormap\n",
    "color_mapping = {\n",
    "    belong: cmap(i / n_ids) for i, belong in enumerate(unique_belong_ids)\n",
    "}\n",
    "\n",
    "# === Output Folder ===\n",
    "output_folder = \"../tests/Results/Figures/\"\n",
    "os.makedirs(output_folder, exist_ok=True)\n",
    "\n",
    "\n"
   ]
  },
  {
   "cell_type": "code",
   "execution_count": 22,
   "id": "0e3d3192-6b85-44d0-9e4f-867674568db2",
   "metadata": {},
   "outputs": [
    {
     "name": "stdout",
     "output_type": "stream",
     "text": [
      "Frames saved in: ../tests/Results/Figures/\n"
     ]
    }
   ],
   "source": [
    "# === Plotting Loop ===\n",
    "# In this example, I'm just plotting 2 days for demonstration\n",
    "# You can adjust the range as needed\n",
    "\n",
    "fig = plt.figure(figsize=(10, 6))\n",
    "\n",
    "for i, time in enumerate(tb['time'].values[:48]):  # First 48 hours\n",
    "    timestamp = pd.Timestamp(time)\n",
    "    \n",
    "    # Match time exactly or approximately\n",
    "    time_gdf = atrackcs_gdf[atrackcs_gdf['time'] == timestamp]\n",
    "\n",
    "    fig.clf()\n",
    "    ax = fig.add_subplot(1, 1, 1, projection=ccrs.PlateCarree())\n",
    "    ax.set_extent([lonW, lonE, latS, latN], crs=ccrs.PlateCarree())\n",
    "\n",
    "    # Plot brightness temperature\n",
    "    tb.sel(time=time).plot(ax=ax, transform=ccrs.PlateCarree(), cmap='Greys', \n",
    "                           levels=np.arange(180, 300, 1),\n",
    "                           cbar_kwargs={'shrink': 0.6, 'aspect': 20, 'pad': 0.01, 'label': 'Tb (K)'})\n",
    "    masked_t = tb.sel(time=time).where(tb.sel(time=time) <= 241)\n",
    "    masked_t.plot.contourf(ax=ax, transform=ccrs.PlateCarree(), cmap='Spectral', levels = np.arange(180,241,1),\n",
    "                           cbar_kwargs={'shrink': 0.6, 'aspect': 20, 'pad': 0.01, 'label': 'Tb_241 (K)'})\n",
    "    ax.add_feature(cfeature.COASTLINE, linewidth=0.5, edgecolor='white')\n",
    "    ax.add_feature(cfeature.BORDERS, linewidth=0.5, edgecolor='gray')\n",
    "\n",
    "    # Plot polygons\n",
    "    for _, row in time_gdf.iterrows():\n",
    "        color = color_mapping.get(row['track_id'], 'black')\n",
    "        ax.add_geometries([row['geometry']], crs=ccrs.PlateCarree(),\n",
    "                          edgecolor=color, facecolor='none', linewidth=2)\n",
    "\n",
    "    ax.set_title(f\"Time: {timestamp} UTC\")\n",
    "\n",
    "    # Save figure\n",
    "    fig_path = os.path.join(output_folder, f\"frame_{i:04d}.png\")\n",
    "    plt.savefig(fig_path, dpi=150, bbox_inches='tight')\n",
    "    #plt.show()\n",
    "\n",
    "plt.close(fig)\n",
    "print(\"Frames saved in:\", output_folder)"
   ]
  },
  {
   "cell_type": "markdown",
   "id": "c5965b14",
   "metadata": {},
   "source": [
    "Now let's create a GIF file."
   ]
  },
  {
   "cell_type": "code",
   "execution_count": 23,
   "id": "4b4c79d1",
   "metadata": {},
   "outputs": [],
   "source": [
    "from PIL import Image\n",
    "import glob\n",
    "\n",
    "# Get PNG files (ensure they are in the right order)\n",
    "png_files = sorted(glob.glob(f\"{output_folder}*.png\"))\n",
    "\n",
    "# Open all frames\n",
    "frames = [Image.open(f).convert(\"RGB\") for f in png_files]\n",
    "\n",
    "# Save as a multi-frame (animated) TIFF\n",
    "frames[0].save(\n",
    "    f\"{output_folder}/ATRACKCS_animation.gif\",\n",
    "    save_all=True,\n",
    "    append_images=frames[1:],\n",
    "    duration=250,   # time per frame in milliseconds\n",
    "    loop=0          # 0 = infinite loop\n",
    ")"
   ]
  },
  {
   "cell_type": "code",
   "execution_count": null,
   "id": "0802d439",
   "metadata": {},
   "outputs": [],
   "source": []
  }
 ],
 "metadata": {
  "kernelspec": {
   "display_name": "atrackcs",
   "language": "python",
   "name": "python3"
  },
  "language_info": {
   "codemirror_mode": {
    "name": "ipython",
    "version": 3
   },
   "file_extension": ".py",
   "mimetype": "text/x-python",
   "name": "python",
   "nbconvert_exporter": "python",
   "pygments_lexer": "ipython3",
   "version": "3.12.12"
  }
 },
 "nbformat": 4,
 "nbformat_minor": 5
}
