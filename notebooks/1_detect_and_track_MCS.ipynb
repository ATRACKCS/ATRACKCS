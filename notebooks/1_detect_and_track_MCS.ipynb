{
 "cells": [
  {
   "cell_type": "markdown",
   "metadata": {},
   "source": [
    "# Track Mesoescale Convective Systems (MCS) at consecutive time steps to form tracks\n",
    "\n",
    "This notebook tracks detected MCS at individual time steps to form tracks.\n",
    "\n",
    "The principle for detecting the MCS is from the cold top of the clouds, according to a limiting range of brightness temperature, and an approximate horizontal area generating from the convex hull. The algorithm has the option to operate with only brightness temperature or associating this scheme with precipitation features. The selection criteria and filters for considering or not a MCS can be modified. The parameterization in this notebook was established from an extensive literature review, which can be consulted below.\n",
    "\n",
    "## The detection of the MCS (regions) is performed using these steps:\n",
    "\n",
    "1. At any time pixel, find all where temperature brightness `Tb` $\\le 225 K$ and trace an approximate region, with the convex hull, according to a binary structure where the pixels that satisfy the described condition are equal to $1$ and those that do not are equal to $0$.\n",
    "2. Transform from geographic to plane coordinates the pixels and compute an approximate area of those regions traced. \n",
    "3. Discard all regions whose area is $\\le 2000 km^2$.\n",
    "4. Estimate the average, minimum and maximum temperature brightness of those regions.\n",
    "5. At any time pixel, find all where precipitation `P` $\\ge 2 mm \\times {h^{-1}}$ and discard pixels that do not match with the regions estimated in that time step.\n",
    "6. Estimate an approximate area of those precipitation pixels, that satisfy the previous condition and that are contained in the regions.\n",
    "7. Estimate the average and maximum precipitation for each region whose area is $\\ge 500 km^2$. The algorithm has the option of discard those regions whose precipitaion area is $\\le 500 km^2$, but in this case those regions are going to be part of the possible tracks.\n",
    "\n",
    "## The tracks are performed using these steps:\n",
    "\n",
    "Specifically, assume we have detected $n$ MSC at time $t$, and $m$ MSC at time $t+1$. There are theoretically $n \\times m$ possible associations to link these two groups of MCS. Of cause not all of them are meaningful. The rules that are applied in the association process are:\n",
    "\n",
    "1. **overlapping priority** principle: for any MCS at time $t$, the MCS with the highest percentage of overlap at time $t+1$ \"wins\" and is associated with it. \n",
    "2. The MCS with the lowest percentage of overlap at time $t+1$ could form a track on their own, and waits to be associated in the next iteration between $t+1$ and $t+2$.\n",
    "3. No merging or splitting is allowed, any MCS at time $t$ can only be linked to one MCS at time $t+1$, similarly, any MCS at time $t+1$ can only be linked to one MCS at time $t$.\n",
    "4. All tracks that do not get updated during the $t$ - $t+1$ process terminates. This assumes that no gap in the track is allowed. \n",
    "5. Discard all tracks whose total duration is $\\le 4 h$. The algorithm has the option for filtering the tracks with a specific minimun duration or not.\n",
    "\n",
    "## Input data\n",
    "\n",
    "**Brightness Temperature:**\n",
    "NCEP/CPC L3 (Merge IR V1): Spatial and temporal resolution is 4 km and 30 minutes, \n",
    "data availability from February 7, 2000 to present. The interest variable of this dataset is `Tb`.\n",
    "https://doi.org/10.5067/P4HZB9N27EKU\n",
    "\n",
    "**Precipitation:**\n",
    "GPM (IMERG V06B): Spatial and temporal resolution is 10 km and 30 minutes, \n",
    "data availability from June 1, 2000 to present. The interest variable of this dataset is `PrecipitationCal`.\n",
    "https://doi.org/10.5067/GPM/IMERG/3B-HH/06\n",
    "\n",
    "In this case the algorithm is executed for 5 days (2019/12/25/ 00 - 2019/12/31/ 00) UTC. The input data is in the folder notebook in the reposotory and could be download for specifics dates with the links at the top.\n",
    "\n",
    "## Steps\n",
    "\n",
    "1. Make sure you have successfully run the previous notebook.\n",
    "2. Execute the following code blocks in sequence.\n",
    "\n",
    "## Results\n",
    "\n",
    "* `.csv`: a csv table listing various attributes for the tracks and MCS associated.\n",
    "* `plots/ar_track_198405.html` (folium): plot of the geographical locations of the MSC with informations that links to the associaded tracks and features of the MSC.\n",
    "\n",
    "## Bibliography\n",
    "* Feng, Z., Leung, L. R., Liu, N., Wang, J., Houze, R. A., Li, J., Hardin, J. C., Chen, D., & Guo, J. (2021). A Global High‐resolution Mesoscale Convective System Database using Satellite‐derived Cloud Tops, Surface Precipitation, and Tracking. Journal of Geophysical Research: Atmospheres. https://doi.org/10.1029/2020jd034202\n",
    "* Li, J., Feng, Z., Qian, Y., & Leung, L. R. (2020). A high-resolution unified observational data product of mesoscale convective systems and isolated deep convection in the United States for 2004–2017. Earth System Science Data Discussions, October, 1–48. https://doi.org/10.5194/essd-2020-151\n",
    "* Liu, W., Cook, K. H., & Vizy, E. K. (2019). The role of mesoscale convective systems in the diurnal cycle of rainfall and its seasonality over sub-Saharan Northern Africa. Climate Dynamics, 52(1–2), 729–745. https://doi.org/10.1007/s00382-018-4162-y\n",
    "* Vizy, E. K., & Cook, K. H. (2018). Mesoscale convective systems and nocturnal rainfall over the West African Sahel: role of the Inter-tropical front. Climate Dynamics, 50(1–2), 587–614. https://doi.org/10.1007/s00382-017-3628-7\n"
   ]
  },
  {
   "cell_type": "markdown",
   "metadata": {},
   "source": [
    "# Set paths\n",
    "\n",
    "As before, first we give the locations to the input (raw data) using `TBDIR` and `PDIR` and output data using `OUTDIR`."
   ]
  },
  {
   "cell_type": "code",
   "execution_count": 3,
   "metadata": {
    "scrolled": true
   },
   "outputs": [],
   "source": [
    "%matplotlib inline\n",
    "import os\n",
    "\n",
    "TBDIR=os.path.join('1_input_data', 'tb')\n",
    "PDIR=os.path.join('1_input_data', 'p')\n",
    "\n",
    "OUTDIR=os.path.join('1_output_data')"
   ]
  },
  {
   "cell_type": "markdown",
   "metadata": {},
   "source": [
    "Below is the important parameters used in the tracking process.\n",
    "\n",
    "* `UTM_LOCAL_ZONE`: int, is needed for converting the WGS geodetic coordinate system to plane coordinate system. This is a constant that must be asociated with the interest region. \n",
    "* `UTC_LOCAL_HOUR`: int, is needed for converting the raw data hour (UTC) to a local hour (interest region).\n",
    "* `UTC_LOCAL_SIGN`: str (minus, plus, local), is needed for converting the raw data hour (UTC) to a local hour (interest region).\n",
    "* `VARIABLES`: str (Tb, Both), association scheme: Tb or Both (Tb and P). \n",
    "* `TB`: int, MCS based on limited maximun threshold cold cloud top.\n",
    "* `AREA_TB`: int, MCS with a minimun largest area.\n",
    "* `MIN_P`: int, MCS with a minimun precipitation pixel.\n",
    "* `AREA_P`: int, MCS with an mimimum area precipitation.\n",
    "* `DROP_EMPTY_PRECIPITATION`: boolean, if `True` eliminates MCS that do not contain precipitation with the `MIN_P` and `AREA_P` selected. \n",
    "* `THRESHOLD_OVERLAPPING_P`: int, percentage overlap limit between MCS.\n",
    "* `LOCATION_FOLIUM`: list (lat, lon), location for center the map_folium.\n",
    "* `MIN_DURATION`: int, minimum required number of hours of a track.\n"
   ]
  },
  {
   "cell_type": "code",
   "execution_count": null,
   "metadata": {
    "scrolled": true
   },
   "outputs": [],
   "source": [
    "#32718 is the UTM zone 18S plane coordinate system. \n",
    "#It was Used for tracking MCS in South America - Colombia.\n",
    "UTM_LOCAL_ZONE = 32718 \n",
    "\n",
    "#UTC-5 is the local hour for Colombia\n",
    "UTC_LOCAL_HOUR = 5\n",
    "UTC_LOCAL_SIGN = \"minus\"\n",
    "\n",
    "#Scheme of association\n",
    "VARIABLES = \"Both\"\n",
    "\n",
    "TB = 225 #[Feng et al.,(2021); Li et al.,(2020)]\n",
    "\n",
    "AREA_TB = 2000 # [Lui et al., (2019); Vizy & Cook,(2018)] \n",
    "\n",
    "MIN_P = 2 #[Feng et al.,(2021)]  \n",
    "\n",
    "AREA_P = 500 #[Feng et al.,(2021)]\n",
    "\n",
    "DROP_EMPTY_PRECIPITATION = False\n",
    "\n",
    "THRESHOLD_OVERLAPPING_P = 0\n",
    "\n",
    "LOCATION_FOLIUM = [5, -73.94]\n",
    "\n",
    "MIN_DURATION = 10\n",
    "\n"
   ]
  },
  {
   "cell_type": "markdown",
   "metadata": {},
   "source": [
    "Import modules"
   ]
  },
  {
   "cell_type": "code",
   "execution_count": null,
   "metadata": {
    "scrolled": true
   },
   "outputs": [],
   "source": [
    "#--------Import modules-------------------------\n",
    "import os, sys\n",
    "import numpy as np\n",
    "import pandas as pd\n",
    "\n",
    "from ipart.AR_tracer import readCSVRecord, trackARs, filterTracks"
   ]
  },
  {
   "cell_type": "markdown",
   "metadata": {},
   "source": [
    "Then read in the data from the previous step -- the `csv` table containing AR records at individual time points.\n",
    "\n",
    "Also make sure the output folder exists."
   ]
  },
  {
   "cell_type": "code",
   "execution_count": null,
   "metadata": {
    "scrolled": true
   },
   "outputs": [],
   "source": [
    "print('\\n# Read in file:\\n', 'ar_records.csv')\n",
    "ardf=readCSVRecord(RECORD_FILE)\n",
    "\n",
    "if not os.path.exists(OUTPUTDIR):\n",
    "    os.makedirs(OUTPUTDIR)\n",
    "\n",
    "if SCHEMATIC:\n",
    "    plot_dir=os.path.join(OUTPUTDIR, 'plots')\n",
    "    if not os.path.exists(plot_dir):\n",
    "        os.makedirs(plot_dir)"
   ]
  },
  {
   "cell_type": "markdown",
   "metadata": {},
   "source": [
    "The tracking process is handled with this single function `trackARs()`.\n",
    "\n",
    "* `ardf` is the `pandas.DataFrame` object we just read in.\n",
    "* `track_list` is a list of `AR` objects, the class definition can be found in `ipart.AR_tracer.py`."
   ]
  },
  {
   "cell_type": "code",
   "execution_count": null,
   "metadata": {},
   "outputs": [],
   "source": [
    "track_list=trackARs(ardf, TIME_GAP_ALLOW, MAX_DIST_ALLOW,\n",
    "        track_scheme=TRACK_SCHEME, isplot=SCHEMATIC, plot_dir=plot_dir)"
   ]
  },
  {
   "cell_type": "markdown",
   "metadata": {},
   "source": [
    "We can have a peak into what `track_list` contains:"
   ]
  },
  {
   "cell_type": "code",
   "execution_count": null,
   "metadata": {
    "scrolled": true
   },
   "outputs": [],
   "source": [
    "print('Number of AR tracks = ', len(track_list))\n",
    "print(track_list[0])"
   ]
  },
  {
   "cell_type": "code",
   "execution_count": null,
   "metadata": {
    "scrolled": true
   },
   "outputs": [],
   "source": [
    "track_list[0].data"
   ]
  },
  {
   "cell_type": "code",
   "execution_count": null,
   "metadata": {
    "scrolled": true
   },
   "outputs": [],
   "source": [
    "track_list[0].duration"
   ]
  },
  {
   "cell_type": "code",
   "execution_count": null,
   "metadata": {
    "scrolled": true
   },
   "outputs": [],
   "source": [
    "track_list[7].data"
   ]
  },
  {
   "cell_type": "code",
   "execution_count": null,
   "metadata": {
    "scrolled": true
   },
   "outputs": [],
   "source": [
    "track_list[6].duration"
   ]
  },
  {
   "cell_type": "markdown",
   "metadata": {},
   "source": [
    "Each `AR` object in `track_list` stores a sequence of AR records that form a single track. The 1st one, `track_list[0]` is a short track with only 1 record. This one will be filtered out given a minimum duration requirement of 24 hours.\n",
    "\n",
    "The 7th one, `track_list[6]`, lasted for 36 hours.\n",
    "\n",
    "To filter out short tracks, and those that consist only of *relaxed* AR records: "
   ]
  },
  {
   "cell_type": "code",
   "execution_count": null,
   "metadata": {
    "scrolled": true
   },
   "outputs": [],
   "source": [
    "#------------------Filter tracks------------------\n",
    "track_list=filterTracks(track_list, MIN_DURATION, MIN_NONRELAX)\n",
    "print(len(track_list))"
   ]
  },
  {
   "cell_type": "markdown",
   "metadata": {},
   "source": [
    "Note that now the number of tracks has dropped to 9.\n",
    "\n",
    "Lets plot out the sequence of an AR. Only the AR axis is plotted, and a black-to-yellow color scheme is used to indicate the evolution of the AR."
   ]
  },
  {
   "cell_type": "code",
   "execution_count": null,
   "metadata": {
    "scrolled": true
   },
   "outputs": [],
   "source": [
    "import matplotlib.pyplot as plt\n",
    "import cartopy.crs as ccrs\n",
    "from ipart.utils import plot\n",
    "\n",
    "latax=np.arange(LAT1, LAT2)\n",
    "lonax=np.arange(LON1, LON2)\n",
    "\n",
    "plot_ar=track_list[7]\n",
    "\n",
    "figure=plt.figure(figsize=(12,6),dpi=100)\n",
    "ax=figure.add_subplot(111, projection=ccrs.PlateCarree())\n",
    "plot.plotARTrack(plot_ar,latax,lonax,ax,full=True)"
   ]
  },
  {
   "cell_type": "markdown",
   "metadata": {},
   "source": [
    "## As the last step, save the results to disk."
   ]
  },
  {
   "cell_type": "code",
   "execution_count": null,
   "metadata": {
    "scrolled": true
   },
   "outputs": [],
   "source": [
    "#-------------------Save output-------------------\n",
    "for ii in range(len(track_list)):\n",
    "    tii=track_list[ii]\n",
    "    trackidii='%d%d' %(tii.data.loc[0,'time'].year, ii+1)\n",
    "    tii.data.loc[:,'trackid']=trackidii\n",
    "    tii.trackid=trackidii\n",
    "\n",
    "    if ii==0:\n",
    "        trackdf=tii.data\n",
    "    else:\n",
    "        trackdf=pd.concat([trackdf,tii.data],ignore_index=True)\n",
    "\n",
    "    figure=plt.figure(figsize=(12,6),dpi=100)\n",
    "    ax=figure.add_subplot(111, projection=ccrs.PlateCarree())\n",
    "    plot.plotARTrack(tii,latax,lonax,ax,full=True)\n",
    "\n",
    "    #----------------- Save plot------------\n",
    "    plot_save_name='ar_track_%s' %trackidii\n",
    "    plot_save_name=os.path.join(plot_dir,plot_save_name)\n",
    "    print('\\n# <river_tracker2>: Save figure to', plot_save_name)\n",
    "    figure.savefig(plot_save_name+'.png',dpi=100,bbox_inches='tight')\n",
    "\n",
    "    plt.close(figure)\n",
    "\n",
    "#--------Save------------------------------------\n",
    "abpath_out=os.path.join(OUTPUTDIR,'ar_tracks_1984.csv')\n",
    "print('\\n# Saving output to:\\n',abpath_out)\n",
    "if sys.version_info.major==2:\n",
    "    np.set_printoptions(threshold=np.inf)\n",
    "elif sys.version_info.major==3:\n",
    "    np.set_printoptions(threshold=sys.maxsize)\n",
    "trackdf.to_csv(abpath_out,index=False)"
   ]
  },
  {
   "cell_type": "code",
   "execution_count": null,
   "metadata": {
    "scrolled": true
   },
   "outputs": [],
   "source": []
  }
 ],
 "metadata": {
  "kernelspec": {
   "display_name": "Python 3 (ipykernel)",
   "language": "python",
   "name": "python3"
  },
  "language_info": {
   "codemirror_mode": {
    "name": "ipython",
    "version": 3
   },
   "file_extension": ".py",
   "mimetype": "text/x-python",
   "name": "python",
   "nbconvert_exporter": "python",
   "pygments_lexer": "ipython3",
   "version": "3.7.13"
  }
 },
 "nbformat": 4,
 "nbformat_minor": 4
}
