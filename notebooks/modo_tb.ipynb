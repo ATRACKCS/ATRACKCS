{
 "cells": [
  {
   "cell_type": "code",
   "execution_count": 1,
   "id": "7e9adc13-be5c-497e-8c95-655707f9af5f",
   "metadata": {},
   "outputs": [
    {
     "ename": "IndentationError",
     "evalue": "unexpected indent (funcs.py, line 185)",
     "output_type": "error",
     "traceback": [
      "Traceback \u001b[1;36m(most recent call last)\u001b[0m:\n",
      "  File \u001b[0;32m\"C:\\Users\\ASUS\\anaconda3\\envs\\atrackcs_py3\\lib\\site-packages\\IPython\\core\\interactiveshell.py\"\u001b[0m, line \u001b[0;32m3457\u001b[0m, in \u001b[0;35mrun_code\u001b[0m\n    exec(code_obj, self.user_global_ns, self.user_ns)\n",
      "\u001b[1;36m  File \u001b[1;32m\"C:\\Users\\ASUS\\AppData\\Local\\Temp\\ipykernel_964\\1587736352.py\"\u001b[1;36m, line \u001b[1;32m1\u001b[1;36m, in \u001b[1;35m<module>\u001b[1;36m\u001b[0m\n\u001b[1;33m    from atrackcs.utils import funcs\u001b[0m\n",
      "\u001b[1;36m  File \u001b[1;32m\"c:\\users\\asus\\documents\\github\\atrackcs\\atrackcs\\utils\\funcs.py\"\u001b[1;36m, line \u001b[1;32m185\u001b[0m\n\u001b[1;33m    m.save(pathResultados+'map_tb225_dur6hr_MAM2019.html')\u001b[0m\n\u001b[1;37m    ^\u001b[0m\n\u001b[1;31mIndentationError\u001b[0m\u001b[1;31m:\u001b[0m unexpected indent\n"
     ]
    }
   ],
   "source": [
    "from atrackcs.utils import funcs\n",
    "from atrackcs.identify import identify_mcs\n",
    "from atrackcs.features import features_Tb, features_P, features_Tracks\n",
    "from atrackcs.track import track_mcs"
   ]
  }
 ],
 "metadata": {
  "kernelspec": {
   "display_name": "Python 3 (ipykernel)",
   "language": "python",
   "name": "python3"
  },
  "language_info": {
   "codemirror_mode": {
    "name": "ipython",
    "version": 3
   },
   "file_extension": ".py",
   "mimetype": "text/x-python",
   "name": "python",
   "nbconvert_exporter": "python",
   "pygments_lexer": "ipython3",
   "version": "3.7.13"
  }
 },
 "nbformat": 4,
 "nbformat_minor": 5
}
