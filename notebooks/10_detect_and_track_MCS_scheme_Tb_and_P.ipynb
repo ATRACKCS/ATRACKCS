{
 "cells": [
  {
   "cell_type": "markdown",
   "metadata": {},
   "source": [
    "# Track Mesoescale Convective Systems (MCS) at consecutive time steps to form tracks with a scheme based on brightness temperature and precipitation\n",
    "\n",
    "This notebook tracks detected MCS at individual time steps to form tracks. In production, you can use the `scripts/1_detect_and_track_MCS_scheme_Tb_and_P.py` for this step.\n",
    "\n",
    "The principle for detecting the MCS is from the cold top of the clouds, according to a limiting range of brightness temperature, and an approximate horizontal area generating from the convex hull. The algorithm has the option to operate with only brightness temperature or associating this scheme with precipitation features. The selection criteria and filters for considering or not a MCS can be modified. The parameterization in this notebook was established from an extensive literature review, which can be consulted below.\n",
    "\n",
    "## The detection of the MCS (regions) is performed using these steps:\n",
    "\n",
    "1. At any time pixel, find all where brightness temperature `Tb` $\\le 225 K$ and trace an approximate region, with the convex hull, according to a binary structure where the pixels that satisfy the described condition are equal to $1$ and those that do not are equal to $0$.\n",
    "2. Transform from geographic to plane coordinates the pixels and compute an approximate area of those regions traced. \n",
    "3. Discard all regions whose area is $< 2000 km^2$.\n",
    "4. Estimate the average, minimum and maximum brightness temperature of those regions.\n",
    "5. At any time pixel, find all where precipitation `P` $\\ge 2 mm \\times {h^{-1}}$ and discard pixels that do not match with the regions estimated in that time step.\n",
    "6. Estimate an approximate area of those precipitation pixels, that satisfy the previous condition and that are contained in the regions.\n",
    "7. Estimate the average and maximum precipitation for each region whose area is $\\ge 500 km^2$. The algorithm has the option of discard those regions whose precipitaion area is $< 500 km^2$, but in this case those regions are going to be part of the possible tracks.\n",
    "\n",
    "## The tracks are performed using these steps:\n",
    "\n",
    "Specifically, assume we have detected $n$ MSC at time $t$, and $m$ MSC at time $t+1$. There are theoretically $n \\times m$ possible associations to link these two groups of MCS. Of course not all of them are meaningful. The rules that are applied in the association process are:\n",
    "\n",
    "1. **overlapping priority** principle: for any MCS at time $t$, the MCS with the highest percentage of overlap at time $t+1$ \"wins\" and is associated with it. \n",
    "2. The MCS with the lowest percentage of overlap at time $t+1$ could form a track on their own, and waits to be associated in the next iteration between $t+1$ and $t+2$.\n",
    "3. No merging or splitting is allowed, any MCS at time $t$ can only be linked to one MCS at time $t+1$, similarly, any MCS at time $t+1$ can only be linked to one MCS at time $t$.\n",
    "4. All tracks that do not get updated during the $t$ - $t+1$ process terminate. This assumes that no gap in the track is allowed. \n",
    "5. In this first part no tracks are discarded based on their total duration. The algorithm has the option for filtering the tracks with a specific minimun duration or not.\n",
    "\n",
    "## Input data\n",
    "\n",
    "**Brightness Temperature:**\n",
    "NCEP/CPC L3 (Merge IR V1): Spatial and temporal resolution is 4 km and 30 minutes, \n",
    "data availability from February 7, 2000 to present. The interest variable of this dataset is `Tb` and the files format must be `netCDF4`.\n",
    "https://doi.org/10.5067/P4HZB9N27EKU\n",
    "\n",
    "**Precipitation:**\n",
    "GPM (IMERG V06B): Spatial and temporal resolution is 10 km and 30 minutes, \n",
    "data availability from June 1, 2000 to present. The interest variable of this dataset is `PrecipitationCal` and the files format must be `netCDF4`.\n",
    "https://doi.org/10.5067/GPM/IMERG/3B-HH/06\n",
    "\n",
    "In this case the algorithm is run for 5 days (2019/12/25/ 00 (UTC) - 2019/12/31/ 00 (UTC)) for northern South America. The input data are in the notebooks folder in the repository. The raw data can be downloaded with the links at the top.\n",
    "\n",
    "## Steps\n",
    "\n",
    "1. Make sure you have successfully installed the ATRACKCS library.\n",
    "2. Execute the following code blocks in sequence.\n",
    "\n",
    "## Results\n",
    "\n",
    "* `resume_Tb_P_2019_12_24_19_2019_12_31_17.csv`: a csv table listing various attributes for the tracks and MCS associated.\n",
    "* `map_Tb_P_2019_12_24_19_2019_12_31_10.html` (folium): plot of the geographical locations of the MSC with informations that links to the associaded tracks and features of the MSC.\n",
    "\n",
    "## Bibliography\n",
    "* Feng, Z., Leung, L. R., Liu, N., Wang, J., Houze, R. A., Li, J., Hardin, J. C., Chen, D., & Guo, J. (2021). A Global High‐resolution Mesoscale Convective System Database using Satellite‐derived Cloud Tops, Surface Precipitation, and Tracking. Journal of Geophysical Research: Atmospheres. https://doi.org/10.1029/2020jd034202\n",
    "* Li, J., Feng, Z., Qian, Y., & Leung, L. R. (2020). A high-resolution unified observational data product of mesoscale convective systems and isolated deep convection in the United States for 2004–2017. Earth System Science Data Discussions, October, 1–48. https://doi.org/10.5194/essd-2020-151\n",
    "* Liu, W., Cook, K. H., & Vizy, E. K. (2019). The role of mesoscale convective systems in the diurnal cycle of rainfall and its seasonality over sub-Saharan Northern Africa. Climate Dynamics, 52(1–2), 729–745. https://doi.org/10.1007/s00382-018-4162-y\n",
    "* Vizy, E. K., & Cook, K. H. (2018). Mesoscale convective systems and nocturnal rainfall over the West African Sahel: role of the Inter-tropical front. Climate Dynamics, 50(1–2), 587–614. https://doi.org/10.1007/s00382-017-3628-7"
   ]
  },
  {
   "cell_type": "markdown",
   "metadata": {},
   "source": [
    "### Set paths\n",
    "\n",
    "First of all we assign the locations to the input (raw data) using `TBDIR` and `PDIR` and output data using `OUTDIR`."
   ]
  },
  {
   "cell_type": "code",
   "execution_count": 1,
   "metadata": {
    "scrolled": true
   },
   "outputs": [],
   "source": [
    "%matplotlib inline\n",
    "import os\n",
    "\n",
    "TBDIR=os.path.join('1_input_data', 'tb/')\n",
    "PDIR=os.path.join('1_input_data', 'p/')\n",
    "\n",
    "OUTDIR=os.path.join('1_output_data/')"
   ]
  },
  {
   "cell_type": "markdown",
   "metadata": {},
   "source": [
    "### Parameters used in the MCS detection and tracking process\n",
    "\n",
    "* `UTM_LOCAL_ZONE`: int, is needed for converting the WGS geodetic coordinate system to plane coordinate system. This is a constant that must be asociated with the interest region. \n",
    "* `UTC_LOCAL_HOUR`: int, is needed for converting the raw data hour (UTC) to a local hour (interest region).\n",
    "* `UTC_LOCAL_SIGN`: str (minus, plus, local), is needed for converting the raw data hour (UTC) to a local hour (interest region).\n",
    "* `DETECT_SCHEME`: str (Tb, Both), association scheme: Tb or Both (Tb and P). \n",
    "* `TB`: int, MCS based on limited maximun threshold cold cloud top.\n",
    "* `AREA_TB`: int, MCS with a minimun largest area.\n",
    "* `MIN_P`: int, MCS with a minimun precipitation pixel.\n",
    "* `AREA_P`: int, MCS with an mimimum area precipitation.\n",
    "* `DROP_EMPTY_PRECIPITATION`: boolean, if `True` eliminates MCS that do not contain precipitation with the `MIN_P` and `AREA_P` selected. \n",
    "* `THRESHOLD_OVERLAPPING_P`: int, percentage overlap limit between MCS.\n",
    "* `LOCATION_FOLIUM`: list (lat, lon), location for center the map_folium.\n",
    "* `MIN_DURATION`: int, minimum required number of hours of a track.\n"
   ]
  },
  {
   "cell_type": "code",
   "execution_count": 2,
   "metadata": {
    "scrolled": true
   },
   "outputs": [],
   "source": [
    "#32718 is the UTM zone 18S plane coordinate system. \n",
    "#It was Used for tracking MCS in South America - Colombia.\n",
    "UTM_LOCAL_ZONE = 32718 \n",
    "\n",
    "#UTC-5 is the local hour for Colombia\n",
    "UTC_LOCAL_HOUR = 5\n",
    "UTC_LOCAL_SIGN = \"minus\"\n",
    "\n",
    "#Scheme of association\n",
    "DETECT_SCHEME = \"Both\"\n",
    "\n",
    "#RANGE Tb \n",
    "#Tb [200 k - 240 k]\n",
    "#RANGE AREA TB\n",
    "#area_Tb[>999 km]\n",
    "\n",
    "TB = 225 #[Feng et al.,(2021); Li et al.,(2020)]\n",
    "\n",
    "AREA_TB = 2000 # [Lui et al., (2019); Vizy & Cook,(2018)] \n",
    "\n",
    "#NO RESTRICTIONS AREA_P AND MIN_P\n",
    "\n",
    "MIN_P = 2 #[Feng et al.,(2021)]  \n",
    "\n",
    "AREA_P = 500 #[Feng et al.,(2021)]\n",
    "\n",
    "DROP_EMPTY_PRECIPITATION = False\n",
    "\n",
    "THRESHOLD_OVERLAPPING_P = 0\n",
    "\n",
    "LOCATION_FOLIUM = [5, -73.94]\n",
    "\n",
    "MIN_DURATION = 0"
   ]
  },
  {
   "cell_type": "markdown",
   "metadata": {},
   "source": [
    "### Importing modules"
   ]
  },
  {
   "cell_type": "code",
   "execution_count": 3,
   "metadata": {
    "scrolled": true
   },
   "outputs": [],
   "source": [
    "#--------Import modules-------------------------\n",
    "from atrackcs.utils import funcs\n",
    "from atrackcs.detect import detect_mcs\n",
    "from atrackcs.features import features_Tb, features_P, features_Tracks\n",
    "from atrackcs.track import track_mcs"
   ]
  },
  {
   "cell_type": "markdown",
   "metadata": {},
   "source": [
    "### Reading raw Tb and P data.\n",
    "\n",
    "The reading process is handled with the function `funcs.readNC()`.\n",
    "\n",
    "Also make sure the output folder exists."
   ]
  },
  {
   "cell_type": "code",
   "execution_count": 4,
   "metadata": {
    "scrolled": true
   },
   "outputs": [
    {
     "name": "stdout",
     "output_type": "stream",
     "text": [
      "Complete Tb and P data reading 2019-12-24T19:00 - 2019-12-31T18:00\n"
     ]
    }
   ],
   "source": [
    "ds = funcs.readNC(pathTb = TBDIR, pathP =PDIR, utc_local_hour = UTC_LOCAL_HOUR, \n",
    "                  utc_local_sign = UTC_LOCAL_SIGN)\n",
    "\n",
    "if not os.path.exists(OUTDIR):\n",
    "    os.makedirs(OUTDIR)"
   ]
  },
  {
   "cell_type": "markdown",
   "metadata": {},
   "source": [
    "The detection process is handled with the function `detect_mcs()`.\n",
    "\n",
    "* `ds` is the `xarray.Dataset` object we just read in."
   ]
  },
  {
   "cell_type": "markdown",
   "metadata": {},
   "source": [
    "### Detecting MCS"
   ]
  },
  {
   "cell_type": "code",
   "execution_count": 5,
   "metadata": {},
   "outputs": [
    {
     "name": "stdout",
     "output_type": "stream",
     "text": [
      "MCS detection completed\n"
     ]
    }
   ],
   "source": [
    "mcs_l = detect_mcs(ds, detect_scheme = DETECT_SCHEME, Tb = TB, area_Tb = AREA_TB, \n",
    "                   utm_local_zone = UTM_LOCAL_ZONE, path_save = None)"
   ]
  },
  {
   "cell_type": "markdown",
   "metadata": {},
   "source": [
    "The MCS Tb features is handled with the function `features_Tb()`.\n",
    "\n",
    "* `mcs_l` is the `Geopandas.GeoDataFrame` object we just created in the detection process."
   ]
  },
  {
   "cell_type": "code",
   "execution_count": 6,
   "metadata": {},
   "outputs": [
    {
     "name": "stdout",
     "output_type": "stream",
     "text": [
      "Estimating MCS's brightness temperature attributes: \n"
     ]
    },
    {
     "name": "stderr",
     "output_type": "stream",
     "text": [
      "100%|██████████████████████████████████████████████████████████████████████████████| 3200/3200 [04:45<00:00, 11.21it/s]\n"
     ]
    }
   ],
   "source": [
    "mcs_l = features_Tb(mcs_l, ds)"
   ]
  },
  {
   "cell_type": "markdown",
   "metadata": {},
   "source": [
    "* `mcs_l` is the `geopandas.GeoDataFrame` object we just created in the tracking process.\n",
    "\n",
    "Each `row` object in `mcs_l` stores a MCS record. We can have a peak into what `msc_l` columns contains so far. \n",
    "\n",
    "* `time`: datetime64, hour (UTC-5) for this case.\n",
    "* `Tb`: float, polygon index after being filtered by the established parameterization.\n",
    "* `geometry`: geometry, MCS polygon (convex hull). To view the coordinate reference system of the geometry column, access the crs attribute. For this case is `EPSG:32718`.\n",
    "* `area_Tb`: float, area polygon [$km^2$]\n",
    "* `centroid_`: geometry, geometric centroid polygon (convex hull). The crs in  this case is `EPSG:32718`.\n",
    "* `mean_tb`: float, brightness temperature average of the pixels composing the polygon. [$K$]\n",
    "* `min_tb`: float, brightness temperature min value of the pixels composing the polygon. [$K$]\n",
    "* `max_tb`: float, brightness temperature max value of the pixels composing the polygon. [$K$]\n",
    "\n",
    "For this case 3201 MCS were detected with the selected parameterization."
   ]
  },
  {
   "cell_type": "code",
   "execution_count": 7,
   "metadata": {
    "scrolled": true
   },
   "outputs": [
    {
     "data": {
      "text/html": [
       "<div>\n",
       "<style scoped>\n",
       "    .dataframe tbody tr th:only-of-type {\n",
       "        vertical-align: middle;\n",
       "    }\n",
       "\n",
       "    .dataframe tbody tr th {\n",
       "        vertical-align: top;\n",
       "    }\n",
       "\n",
       "    .dataframe thead th {\n",
       "        text-align: right;\n",
       "    }\n",
       "</style>\n",
       "<table border=\"1\" class=\"dataframe\">\n",
       "  <thead>\n",
       "    <tr style=\"text-align: right;\">\n",
       "      <th></th>\n",
       "      <th>time</th>\n",
       "      <th>Tb</th>\n",
       "      <th>geometry</th>\n",
       "      <th>area_tb</th>\n",
       "      <th>centroid_</th>\n",
       "      <th>mean_tb</th>\n",
       "      <th>min_tb</th>\n",
       "      <th>max_tb</th>\n",
       "    </tr>\n",
       "  </thead>\n",
       "  <tbody>\n",
       "    <tr>\n",
       "      <th>0</th>\n",
       "      <td>2019-12-24 19:00:00</td>\n",
       "      <td>1.0</td>\n",
       "      <td>POLYGON ((1385139.077 8889318.481, 1386208.445...</td>\n",
       "      <td>14842.2</td>\n",
       "      <td>POINT (1463228.275 8937057.716)</td>\n",
       "      <td>222.4039</td>\n",
       "      <td>212.5513</td>\n",
       "      <td>234.2721</td>\n",
       "    </tr>\n",
       "    <tr>\n",
       "      <th>1</th>\n",
       "      <td>2019-12-24 19:00:00</td>\n",
       "      <td>2.0</td>\n",
       "      <td>POLYGON ((1595866.092 8883549.520, 1585083.176...</td>\n",
       "      <td>3630.7</td>\n",
       "      <td>POINT (1633163.573 8902402.154)</td>\n",
       "      <td>219.1902</td>\n",
       "      <td>212.0816</td>\n",
       "      <td>225.6774</td>\n",
       "    </tr>\n",
       "    <tr>\n",
       "      <th>2</th>\n",
       "      <td>2019-12-24 19:00:00</td>\n",
       "      <td>4.0</td>\n",
       "      <td>POLYGON ((2088725.182 8865190.993, 2066639.621...</td>\n",
       "      <td>6145.4</td>\n",
       "      <td>POINT (2126543.231 8906654.165)</td>\n",
       "      <td>222.2126</td>\n",
       "      <td>214.0594</td>\n",
       "      <td>234.6743</td>\n",
       "    </tr>\n",
       "    <tr>\n",
       "      <th>3</th>\n",
       "      <td>2019-12-24 19:00:00</td>\n",
       "      <td>7.0</td>\n",
       "      <td>POLYGON ((285900.134 8954798.123, 274850.936 8...</td>\n",
       "      <td>3710.1</td>\n",
       "      <td>POINT (280833.135 9000177.046)</td>\n",
       "      <td>222.6613</td>\n",
       "      <td>216.3039</td>\n",
       "      <td>230.5927</td>\n",
       "    </tr>\n",
       "    <tr>\n",
       "      <th>4</th>\n",
       "      <td>2019-12-24 19:00:00</td>\n",
       "      <td>8.0</td>\n",
       "      <td>POLYGON ((681204.449 8966028.400, 637345.833 8...</td>\n",
       "      <td>3526.0</td>\n",
       "      <td>POINT (677052.995 8997699.311)</td>\n",
       "      <td>224.8544</td>\n",
       "      <td>218.0482</td>\n",
       "      <td>261.8145</td>\n",
       "    </tr>\n",
       "    <tr>\n",
       "      <th>...</th>\n",
       "      <td>...</td>\n",
       "      <td>...</td>\n",
       "      <td>...</td>\n",
       "      <td>...</td>\n",
       "      <td>...</td>\n",
       "      <td>...</td>\n",
       "      <td>...</td>\n",
       "      <td>...</td>\n",
       "    </tr>\n",
       "    <tr>\n",
       "      <th>3196</th>\n",
       "      <td>2019-12-31 17:00:00</td>\n",
       "      <td>180.0</td>\n",
       "      <td>POLYGON ((97079.094 10836238.196, 75168.595 10...</td>\n",
       "      <td>2630.5</td>\n",
       "      <td>POINT (108278.034 10864738.333)</td>\n",
       "      <td>218.2107</td>\n",
       "      <td>211.1152</td>\n",
       "      <td>223.0037</td>\n",
       "    </tr>\n",
       "    <tr>\n",
       "      <th>3197</th>\n",
       "      <td>2019-12-31 17:00:00</td>\n",
       "      <td>184.0</td>\n",
       "      <td>POLYGON ((-691865.280 10883122.696, -758907.75...</td>\n",
       "      <td>15303.5</td>\n",
       "      <td>POINT (-748773.702 10970101.458)</td>\n",
       "      <td>217.9394</td>\n",
       "      <td>203.1223</td>\n",
       "      <td>247.8695</td>\n",
       "    </tr>\n",
       "    <tr>\n",
       "      <th>3198</th>\n",
       "      <td>2019-12-31 17:00:00</td>\n",
       "      <td>185.0</td>\n",
       "      <td>POLYGON ((-1029700.410 10904530.804, -1051987....</td>\n",
       "      <td>7530.1</td>\n",
       "      <td>POINT (-1010852.082 10956828.001)</td>\n",
       "      <td>211.5872</td>\n",
       "      <td>201.9746</td>\n",
       "      <td>225.0643</td>\n",
       "    </tr>\n",
       "    <tr>\n",
       "      <th>3199</th>\n",
       "      <td>2019-12-31 17:00:00</td>\n",
       "      <td>186.0</td>\n",
       "      <td>POLYGON ((174734.077 10879929.160, 163862.710 ...</td>\n",
       "      <td>4026.6</td>\n",
       "      <td>POINT (179987.332 10927972.864)</td>\n",
       "      <td>215.6076</td>\n",
       "      <td>205.0069</td>\n",
       "      <td>226.6848</td>\n",
       "    </tr>\n",
       "    <tr>\n",
       "      <th>3200</th>\n",
       "      <td>2019-12-31 17:00:00</td>\n",
       "      <td>191.0</td>\n",
       "      <td>POLYGON ((-466527.607 10956138.926, -488528.07...</td>\n",
       "      <td>2489.3</td>\n",
       "      <td>POINT (-473937.331 10992203.358)</td>\n",
       "      <td>NaN</td>\n",
       "      <td>NaN</td>\n",
       "      <td>NaN</td>\n",
       "    </tr>\n",
       "  </tbody>\n",
       "</table>\n",
       "<p>3201 rows × 8 columns</p>\n",
       "</div>"
      ],
      "text/plain": [
       "                    time     Tb  \\\n",
       "0    2019-12-24 19:00:00    1.0   \n",
       "1    2019-12-24 19:00:00    2.0   \n",
       "2    2019-12-24 19:00:00    4.0   \n",
       "3    2019-12-24 19:00:00    7.0   \n",
       "4    2019-12-24 19:00:00    8.0   \n",
       "...                  ...    ...   \n",
       "3196 2019-12-31 17:00:00  180.0   \n",
       "3197 2019-12-31 17:00:00  184.0   \n",
       "3198 2019-12-31 17:00:00  185.0   \n",
       "3199 2019-12-31 17:00:00  186.0   \n",
       "3200 2019-12-31 17:00:00  191.0   \n",
       "\n",
       "                                               geometry  area_tb  \\\n",
       "0     POLYGON ((1385139.077 8889318.481, 1386208.445...  14842.2   \n",
       "1     POLYGON ((1595866.092 8883549.520, 1585083.176...   3630.7   \n",
       "2     POLYGON ((2088725.182 8865190.993, 2066639.621...   6145.4   \n",
       "3     POLYGON ((285900.134 8954798.123, 274850.936 8...   3710.1   \n",
       "4     POLYGON ((681204.449 8966028.400, 637345.833 8...   3526.0   \n",
       "...                                                 ...      ...   \n",
       "3196  POLYGON ((97079.094 10836238.196, 75168.595 10...   2630.5   \n",
       "3197  POLYGON ((-691865.280 10883122.696, -758907.75...  15303.5   \n",
       "3198  POLYGON ((-1029700.410 10904530.804, -1051987....   7530.1   \n",
       "3199  POLYGON ((174734.077 10879929.160, 163862.710 ...   4026.6   \n",
       "3200  POLYGON ((-466527.607 10956138.926, -488528.07...   2489.3   \n",
       "\n",
       "                              centroid_   mean_tb    min_tb    max_tb  \n",
       "0       POINT (1463228.275 8937057.716)  222.4039  212.5513  234.2721  \n",
       "1       POINT (1633163.573 8902402.154)  219.1902  212.0816  225.6774  \n",
       "2       POINT (2126543.231 8906654.165)  222.2126  214.0594  234.6743  \n",
       "3        POINT (280833.135 9000177.046)  222.6613  216.3039  230.5927  \n",
       "4        POINT (677052.995 8997699.311)  224.8544  218.0482  261.8145  \n",
       "...                                 ...       ...       ...       ...  \n",
       "3196    POINT (108278.034 10864738.333)  218.2107  211.1152  223.0037  \n",
       "3197   POINT (-748773.702 10970101.458)  217.9394  203.1223  247.8695  \n",
       "3198  POINT (-1010852.082 10956828.001)  211.5872  201.9746  225.0643  \n",
       "3199    POINT (179987.332 10927972.864)  215.6076  205.0069  226.6848  \n",
       "3200   POINT (-473937.331 10992203.358)       NaN       NaN       NaN  \n",
       "\n",
       "[3201 rows x 8 columns]"
      ]
     },
     "execution_count": 7,
     "metadata": {},
     "output_type": "execute_result"
    }
   ],
   "source": [
    "mcs_l"
   ]
  },
  {
   "cell_type": "code",
   "execution_count": 8,
   "metadata": {},
   "outputs": [
    {
     "data": {
      "text/plain": [
       "<Projected CRS: EPSG:32718>\n",
       "Name: WGS 84 / UTM zone 18S\n",
       "Axis Info [cartesian]:\n",
       "- E[east]: Easting (metre)\n",
       "- N[north]: Northing (metre)\n",
       "Area of Use:\n",
       "- name: Between 78°W and 72°W, southern hemisphere between 80°S and equator, onshore and offshore. Argentina. Brazil. Chile. Colombia. Ecuador. Peru.\n",
       "- bounds: (-78.0, -80.0, -72.0, 0.0)\n",
       "Coordinate Operation:\n",
       "- name: UTM zone 18S\n",
       "- method: Transverse Mercator\n",
       "Datum: World Geodetic System 1984\n",
       "- Ellipsoid: WGS 84\n",
       "- Prime Meridian: Greenwich"
      ]
     },
     "execution_count": 8,
     "metadata": {},
     "output_type": "execute_result"
    }
   ],
   "source": [
    "mcs_l.crs"
   ]
  },
  {
   "cell_type": "markdown",
   "metadata": {},
   "source": [
    "The MCS P features is handled with the function `features_P()`."
   ]
  },
  {
   "cell_type": "code",
   "execution_count": 9,
   "metadata": {
    "scrolled": true
   },
   "outputs": [
    {
     "name": "stdout",
     "output_type": "stream",
     "text": [
      "Estimating MCS's precipitation attributes: \n"
     ]
    },
    {
     "name": "stderr",
     "output_type": "stream",
     "text": [
      "100%|██████████████████████████████████████████████████████████████████████████████| 3200/3200 [04:14<00:00, 12.58it/s]\n"
     ]
    }
   ],
   "source": [
    "mcs_l = features_P(mcs_l, ds, min_precipitation = MIN_P, area_P = AREA_P,\n",
    "                   drop_empty_precipitation = DROP_EMPTY_PRECIPITATION)"
   ]
  },
  {
   "cell_type": "markdown",
   "metadata": {},
   "source": [
    "### Tracking MCS\n",
    "\n",
    "The tracking process is handled with the function `track_mcs()`. However, these have not been characterized in this phase. The tracks features are handled with the function `features_Tracks()`."
   ]
  },
  {
   "cell_type": "code",
   "execution_count": 10,
   "metadata": {
    "scrolled": true
   },
   "outputs": [
    {
     "name": "stdout",
     "output_type": "stream",
     "text": [
      "Estimating trajectories: \n"
     ]
    },
    {
     "name": "stderr",
     "output_type": "stream",
     "text": [
      "100%|██████████████████████████████████████████████████████████████████████████████| 3200/3200 [05:35<00:00,  9.55it/s]\n"
     ]
    }
   ],
   "source": [
    "tracks_l = track_mcs(mcs_l, threshold_overlapping_percentage = THRESHOLD_OVERLAPPING_P, utm_local_zone = UTM_LOCAL_ZONE,\n",
    "                path_save = None)"
   ]
  },
  {
   "cell_type": "code",
   "execution_count": 11,
   "metadata": {},
   "outputs": [
    {
     "name": "stdout",
     "output_type": "stream",
     "text": [
      "Estimating distance and direction between geometrics centroids: \n"
     ]
    },
    {
     "name": "stderr",
     "output_type": "stream",
     "text": [
      "100%|██████████████████████████████████████████████████████████████████████████████| 1207/1207 [00:39<00:00, 30.87it/s]\n"
     ]
    }
   ],
   "source": [
    "tracks_l = features_Tracks(tracks_l, initial_time_hour = MIN_DURATION,\n",
    "                         path_save = OUTDIR, encrypt_index = False)"
   ]
  },
  {
   "cell_type": "markdown",
   "metadata": {},
   "source": [
    "* `tracks_l` is a `geopandas.GeoDataFrame` object we just created in the tracking process and stores the MCS polygons and the tracks. \n",
    "* This `GeoDataFrame` contains exactly the information previously referenced except for the dropping of some features associated to the brightness temperature and the addition of some characteristics associated to the MCS precipitation and some characteristics generated for the tracks.\n",
    "* The indexing of this object is a `pandas.MultiIndex` since it hierarchically associates an id for each track and an id for each MCS.\n",
    "* The indexing of this object is encrypted generated using the `uuid` library. To disable encryption for both MCS and tracks, use the parameter `encrypt_index = False` in the `features_Tracks()` function. The index generated when not using encryption is a `int` iteration result  of the tracking process.\n",
    "* The indexes encryption is useful when processing a long period of time and must iterate for smaller periods of time, for example every 6 months. This is a limitation imposed by the hardware used to run the algorithm.\n",
    "\n",
    "We can have a peak into what `tracks_l` new columns contains. \n",
    "\n",
    "\n",
    "* `belong`: str, encrypted index generated for each track.\n",
    "* `id_gdf`: str, encrypted index generated for each MCS.\n",
    "* `geometry`: geometry, polygon. The crs is `EPSG:4326-WGS84`\n",
    "* `centroid_`: geometry, geometric centroid polygon. The crs is `EPSG:4326`.\n",
    "* `mean_pp`: float, precipitation average of the pixels composing the polygon [$mm \\times {h^{-1}}$].\n",
    "* `max_pp`: float, precipitation max value of the pixels composing the polygon [$mm \\times {h^{-1}}$].\n",
    "* `intersection_percentage`: float, percentage overlap between MCS [%].\n",
    "* `distance_c`: float, distance between the overlapping geometric centroids of the MCS [km].\n",
    "* `direction`: float, direction between the overlapping geometric centroids of the MCS [°].\n",
    "* `total_duration`: float, total duration of the event or the track. This value is associated to each MCS of the corresponding track [h]. \n",
    "* `total_distance`: float, total distance of the event or the track. This value is associated to each MCS of the corresponding track [km]. \n",
    "* `mean_velocity`: float, velocity average of the  event or the track. This value is associated to each MCS of the corresponding track [$km \\times {h^{-1}}$]. "
   ]
  },
  {
   "cell_type": "code",
   "execution_count": 12,
   "metadata": {},
   "outputs": [
    {
     "data": {
      "text/html": [
       "<div>\n",
       "<style scoped>\n",
       "    .dataframe tbody tr th:only-of-type {\n",
       "        vertical-align: middle;\n",
       "    }\n",
       "\n",
       "    .dataframe tbody tr th {\n",
       "        vertical-align: top;\n",
       "    }\n",
       "\n",
       "    .dataframe thead th {\n",
       "        text-align: right;\n",
       "    }\n",
       "</style>\n",
       "<table border=\"1\" class=\"dataframe\">\n",
       "  <thead>\n",
       "    <tr style=\"text-align: right;\">\n",
       "      <th></th>\n",
       "      <th></th>\n",
       "      <th>time</th>\n",
       "      <th>geometry</th>\n",
       "      <th>area_tb</th>\n",
       "      <th>centroid_</th>\n",
       "      <th>mean_tb</th>\n",
       "      <th>mean_pp</th>\n",
       "      <th>max_pp</th>\n",
       "      <th>intersection_percentage</th>\n",
       "      <th>distance_c</th>\n",
       "      <th>direction</th>\n",
       "      <th>total_duration</th>\n",
       "      <th>total_distance</th>\n",
       "      <th>mean_velocity</th>\n",
       "    </tr>\n",
       "    <tr>\n",
       "      <th>belong</th>\n",
       "      <th>id_gdf</th>\n",
       "      <th></th>\n",
       "      <th></th>\n",
       "      <th></th>\n",
       "      <th></th>\n",
       "      <th></th>\n",
       "      <th></th>\n",
       "      <th></th>\n",
       "      <th></th>\n",
       "      <th></th>\n",
       "      <th></th>\n",
       "      <th></th>\n",
       "      <th></th>\n",
       "      <th></th>\n",
       "    </tr>\n",
       "  </thead>\n",
       "  <tbody>\n",
       "    <tr>\n",
       "      <th>0.0</th>\n",
       "      <th>3200</th>\n",
       "      <td>2019-12-31 17:00:00</td>\n",
       "      <td>POLYGON ((-83.75000 8.55000, -83.95000 8.65000...</td>\n",
       "      <td>2489.3</td>\n",
       "      <td>POINT (-83.82415 8.87081)</td>\n",
       "      <td>NaN</td>\n",
       "      <td>NaN</td>\n",
       "      <td>NaN</td>\n",
       "      <td>NaN</td>\n",
       "      <td>NaN</td>\n",
       "      <td>NaN</td>\n",
       "      <td>1</td>\n",
       "      <td>0.0</td>\n",
       "      <td>0.0</td>\n",
       "    </tr>\n",
       "    <tr>\n",
       "      <th rowspan=\"3\" valign=\"top\">1.0</th>\n",
       "      <th>0</th>\n",
       "      <td>2019-12-24 19:00:00</td>\n",
       "      <td>POLYGON ((-66.95000 -9.95000, -66.95000 -9.550...</td>\n",
       "      <td>14842.2</td>\n",
       "      <td>POINT (-66.25648 -9.50545)</td>\n",
       "      <td>222.4039</td>\n",
       "      <td>2.5412</td>\n",
       "      <td>3.1973</td>\n",
       "      <td>37.6</td>\n",
       "      <td>NaN</td>\n",
       "      <td>NaN</td>\n",
       "      <td>3</td>\n",
       "      <td>60.04063</td>\n",
       "      <td>20.013543</td>\n",
       "    </tr>\n",
       "    <tr>\n",
       "      <th>29</th>\n",
       "      <td>2019-12-24 20:00:00</td>\n",
       "      <td>POLYGON ((-66.95000 -9.95000, -67.05000 -9.750...</td>\n",
       "      <td>5824.9</td>\n",
       "      <td>POINT (-66.52978 -9.69913)</td>\n",
       "      <td>223.3118</td>\n",
       "      <td>3.4127</td>\n",
       "      <td>5.0729</td>\n",
       "      <td>52.7</td>\n",
       "      <td>36.863569</td>\n",
       "      <td>234.7</td>\n",
       "      <td>3</td>\n",
       "      <td>60.04063</td>\n",
       "      <td>20.013543</td>\n",
       "    </tr>\n",
       "    <tr>\n",
       "      <th>49</th>\n",
       "      <td>2019-12-24 21:00:00</td>\n",
       "      <td>POLYGON ((-67.15000 -9.95000, -66.95000 -9.450...</td>\n",
       "      <td>3528.5</td>\n",
       "      <td>POINT (-66.72932 -9.76785)</td>\n",
       "      <td>222.5473</td>\n",
       "      <td>2.9931</td>\n",
       "      <td>3.8397</td>\n",
       "      <td>NaN</td>\n",
       "      <td>23.177062</td>\n",
       "      <td>251.0</td>\n",
       "      <td>3</td>\n",
       "      <td>60.04063</td>\n",
       "      <td>20.013543</td>\n",
       "    </tr>\n",
       "    <tr>\n",
       "      <th>2.0</th>\n",
       "      <th>1</th>\n",
       "      <td>2019-12-24 19:00:00</td>\n",
       "      <td>POLYGON ((-65.05000 -9.95000, -65.15000 -9.850...</td>\n",
       "      <td>3630.7</td>\n",
       "      <td>POINT (-64.72032 -9.77201)</td>\n",
       "      <td>219.1902</td>\n",
       "      <td>NaN</td>\n",
       "      <td>NaN</td>\n",
       "      <td>NaN</td>\n",
       "      <td>NaN</td>\n",
       "      <td>NaN</td>\n",
       "      <td>1</td>\n",
       "      <td>0.0</td>\n",
       "      <td>0.0</td>\n",
       "    </tr>\n",
       "    <tr>\n",
       "      <th>...</th>\n",
       "      <th>...</th>\n",
       "      <td>...</td>\n",
       "      <td>...</td>\n",
       "      <td>...</td>\n",
       "      <td>...</td>\n",
       "      <td>...</td>\n",
       "      <td>...</td>\n",
       "      <td>...</td>\n",
       "      <td>...</td>\n",
       "      <td>...</td>\n",
       "      <td>...</td>\n",
       "      <td>...</td>\n",
       "      <td>...</td>\n",
       "      <td>...</td>\n",
       "    </tr>\n",
       "    <tr>\n",
       "      <th>1203.0</th>\n",
       "      <th>3177</th>\n",
       "      <td>2019-12-31 17:00:00</td>\n",
       "      <td>POLYGON ((-67.25000 -7.55000, -67.65000 -7.350...</td>\n",
       "      <td>2607.9</td>\n",
       "      <td>POINT (-67.41661 -7.24370)</td>\n",
       "      <td>219.3605</td>\n",
       "      <td>3.9192</td>\n",
       "      <td>7.3737</td>\n",
       "      <td>NaN</td>\n",
       "      <td>NaN</td>\n",
       "      <td>NaN</td>\n",
       "      <td>1</td>\n",
       "      <td>0.0</td>\n",
       "      <td>0.0</td>\n",
       "    </tr>\n",
       "    <tr>\n",
       "      <th>1204.0</th>\n",
       "      <th>3188</th>\n",
       "      <td>2019-12-31 17:00:00</td>\n",
       "      <td>POLYGON ((-69.65000 -1.85000, -69.65000 -1.450...</td>\n",
       "      <td>2234.1</td>\n",
       "      <td>POINT (-69.45738 -1.59999)</td>\n",
       "      <td>204.5638</td>\n",
       "      <td>NaN</td>\n",
       "      <td>NaN</td>\n",
       "      <td>NaN</td>\n",
       "      <td>NaN</td>\n",
       "      <td>NaN</td>\n",
       "      <td>1</td>\n",
       "      <td>0.0</td>\n",
       "      <td>0.0</td>\n",
       "    </tr>\n",
       "    <tr>\n",
       "      <th>1205.0</th>\n",
       "      <th>3192</th>\n",
       "      <td>2019-12-31 17:00:00</td>\n",
       "      <td>POLYGON ((-84.95000 6.05000, -85.05000 6.15000...</td>\n",
       "      <td>2899.3</td>\n",
       "      <td>POINT (-85.04569 6.42976)</td>\n",
       "      <td>221.5338</td>\n",
       "      <td>NaN</td>\n",
       "      <td>NaN</td>\n",
       "      <td>NaN</td>\n",
       "      <td>NaN</td>\n",
       "      <td>NaN</td>\n",
       "      <td>1</td>\n",
       "      <td>0.0</td>\n",
       "      <td>0.0</td>\n",
       "    </tr>\n",
       "    <tr>\n",
       "      <th>1206.0</th>\n",
       "      <th>3194</th>\n",
       "      <td>2019-12-31 17:00:00</td>\n",
       "      <td>POLYGON ((-84.55000 6.45000, -84.65000 6.55000...</td>\n",
       "      <td>2825.7</td>\n",
       "      <td>POINT (-84.51452 6.71008)</td>\n",
       "      <td>219.5173</td>\n",
       "      <td>NaN</td>\n",
       "      <td>NaN</td>\n",
       "      <td>NaN</td>\n",
       "      <td>NaN</td>\n",
       "      <td>NaN</td>\n",
       "      <td>1</td>\n",
       "      <td>0.0</td>\n",
       "      <td>0.0</td>\n",
       "    </tr>\n",
       "    <tr>\n",
       "      <th>1207.0</th>\n",
       "      <th>3196</th>\n",
       "      <td>2019-12-31 17:00:00</td>\n",
       "      <td>POLYGON ((-78.65000 7.55000, -78.85000 7.75000...</td>\n",
       "      <td>2630.5</td>\n",
       "      <td>POINT (-78.55082 7.80814)</td>\n",
       "      <td>218.2107</td>\n",
       "      <td>2.9343</td>\n",
       "      <td>3.5326</td>\n",
       "      <td>NaN</td>\n",
       "      <td>NaN</td>\n",
       "      <td>NaN</td>\n",
       "      <td>1</td>\n",
       "      <td>0.0</td>\n",
       "      <td>0.0</td>\n",
       "    </tr>\n",
       "  </tbody>\n",
       "</table>\n",
       "<p>3201 rows × 13 columns</p>\n",
       "</div>"
      ],
      "text/plain": [
       "                             time  \\\n",
       "belong id_gdf                       \n",
       "0.0    3200   2019-12-31 17:00:00   \n",
       "1.0    0      2019-12-24 19:00:00   \n",
       "       29     2019-12-24 20:00:00   \n",
       "       49     2019-12-24 21:00:00   \n",
       "2.0    1      2019-12-24 19:00:00   \n",
       "...                           ...   \n",
       "1203.0 3177   2019-12-31 17:00:00   \n",
       "1204.0 3188   2019-12-31 17:00:00   \n",
       "1205.0 3192   2019-12-31 17:00:00   \n",
       "1206.0 3194   2019-12-31 17:00:00   \n",
       "1207.0 3196   2019-12-31 17:00:00   \n",
       "\n",
       "                                                        geometry  area_tb  \\\n",
       "belong id_gdf                                                               \n",
       "0.0    3200    POLYGON ((-83.75000 8.55000, -83.95000 8.65000...   2489.3   \n",
       "1.0    0       POLYGON ((-66.95000 -9.95000, -66.95000 -9.550...  14842.2   \n",
       "       29      POLYGON ((-66.95000 -9.95000, -67.05000 -9.750...   5824.9   \n",
       "       49      POLYGON ((-67.15000 -9.95000, -66.95000 -9.450...   3528.5   \n",
       "2.0    1       POLYGON ((-65.05000 -9.95000, -65.15000 -9.850...   3630.7   \n",
       "...                                                          ...      ...   \n",
       "1203.0 3177    POLYGON ((-67.25000 -7.55000, -67.65000 -7.350...   2607.9   \n",
       "1204.0 3188    POLYGON ((-69.65000 -1.85000, -69.65000 -1.450...   2234.1   \n",
       "1205.0 3192    POLYGON ((-84.95000 6.05000, -85.05000 6.15000...   2899.3   \n",
       "1206.0 3194    POLYGON ((-84.55000 6.45000, -84.65000 6.55000...   2825.7   \n",
       "1207.0 3196    POLYGON ((-78.65000 7.55000, -78.85000 7.75000...   2630.5   \n",
       "\n",
       "                                centroid_   mean_tb  mean_pp  max_pp  \\\n",
       "belong id_gdf                                                          \n",
       "0.0    3200     POINT (-83.82415 8.87081)       NaN      NaN     NaN   \n",
       "1.0    0       POINT (-66.25648 -9.50545)  222.4039   2.5412  3.1973   \n",
       "       29      POINT (-66.52978 -9.69913)  223.3118   3.4127  5.0729   \n",
       "       49      POINT (-66.72932 -9.76785)  222.5473   2.9931  3.8397   \n",
       "2.0    1       POINT (-64.72032 -9.77201)  219.1902      NaN     NaN   \n",
       "...                                   ...       ...      ...     ...   \n",
       "1203.0 3177    POINT (-67.41661 -7.24370)  219.3605   3.9192  7.3737   \n",
       "1204.0 3188    POINT (-69.45738 -1.59999)  204.5638      NaN     NaN   \n",
       "1205.0 3192     POINT (-85.04569 6.42976)  221.5338      NaN     NaN   \n",
       "1206.0 3194     POINT (-84.51452 6.71008)  219.5173      NaN     NaN   \n",
       "1207.0 3196     POINT (-78.55082 7.80814)  218.2107   2.9343  3.5326   \n",
       "\n",
       "               intersection_percentage  distance_c  direction total_duration  \\\n",
       "belong id_gdf                                                                  \n",
       "0.0    3200                        NaN         NaN        NaN              1   \n",
       "1.0    0                          37.6         NaN        NaN              3   \n",
       "       29                         52.7   36.863569      234.7              3   \n",
       "       49                          NaN   23.177062      251.0              3   \n",
       "2.0    1                           NaN         NaN        NaN              1   \n",
       "...                                ...         ...        ...            ...   \n",
       "1203.0 3177                        NaN         NaN        NaN              1   \n",
       "1204.0 3188                        NaN         NaN        NaN              1   \n",
       "1205.0 3192                        NaN         NaN        NaN              1   \n",
       "1206.0 3194                        NaN         NaN        NaN              1   \n",
       "1207.0 3196                        NaN         NaN        NaN              1   \n",
       "\n",
       "              total_distance mean_velocity  \n",
       "belong id_gdf                               \n",
       "0.0    3200              0.0           0.0  \n",
       "1.0    0            60.04063     20.013543  \n",
       "       29           60.04063     20.013543  \n",
       "       49           60.04063     20.013543  \n",
       "2.0    1                 0.0           0.0  \n",
       "...                      ...           ...  \n",
       "1203.0 3177              0.0           0.0  \n",
       "1204.0 3188              0.0           0.0  \n",
       "1205.0 3192              0.0           0.0  \n",
       "1206.0 3194              0.0           0.0  \n",
       "1207.0 3196              0.0           0.0  \n",
       "\n",
       "[3201 rows x 13 columns]"
      ]
     },
     "execution_count": 12,
     "metadata": {},
     "output_type": "execute_result"
    }
   ],
   "source": [
    "tracks_l"
   ]
  },
  {
   "cell_type": "code",
   "execution_count": 13,
   "metadata": {},
   "outputs": [
    {
     "data": {
      "text/plain": [
       "<Geographic 2D CRS: EPSG:4326>\n",
       "Name: WGS 84\n",
       "Axis Info [ellipsoidal]:\n",
       "- Lat[north]: Geodetic latitude (degree)\n",
       "- Lon[east]: Geodetic longitude (degree)\n",
       "Area of Use:\n",
       "- name: World.\n",
       "- bounds: (-180.0, -90.0, 180.0, 90.0)\n",
       "Datum: World Geodetic System 1984\n",
       "- Ellipsoid: WGS 84\n",
       "- Prime Meridian: Greenwich"
      ]
     },
     "execution_count": 13,
     "metadata": {},
     "output_type": "execute_result"
    }
   ],
   "source": [
    "tracks_l.crs"
   ]
  },
  {
   "cell_type": "code",
   "execution_count": 14,
   "metadata": {},
   "outputs": [
    {
     "name": "stdout",
     "output_type": "stream",
     "text": [
      "total tracks detected: 1208 and total MCS detected: 3201\n"
     ]
    }
   ],
   "source": [
    "#Total tracks and MCS detected \n",
    "\n",
    "print (\"total tracks detected: \" + str(len(tracks_l.index.levels[0])) + \" and total MCS detected: \" + str(len(tracks_l.index.levels[1])))"
   ]
  },
  {
   "cell_type": "markdown",
   "metadata": {},
   "source": [
    "### As the last step, let is reload the tracks results from the local storage and plot the MCS with the help of the folium library.\n",
    "\n",
    "The read process tracks is handled with the function `funcs.readTRACKS()`.\n"
   ]
  },
  {
   "cell_type": "code",
   "execution_count": 15,
   "metadata": {},
   "outputs": [
    {
     "name": "stdout",
     "output_type": "stream",
     "text": [
      "total tracks that last less than 10 hours : 20 and total MCS detected: 227\n"
     ]
    }
   ],
   "source": [
    "#-------------------Load results-------------------\n",
    "tracks_l = funcs.readTRACKS('1_output_data/resume_Tb_P_2019_12_24_19_2019_12_31_17.csv')\n",
    "\n",
    "#---------Discarding tracks that last less than 10 hours--------\n",
    "tracks_l = tracks_l.reset_index()\n",
    "tracks_l = tracks_l[tracks_l.total_duration >= 10].sort_index()\n",
    "tracks_l = tracks_l.set_index([\"belong\", \"id_gdf\"])\n",
    "tracks_l = tracks_l.sort_index()\n",
    "\n",
    "print (\"total tracks that last less than 10 hours : \" + str(len(tracks_l.index.levels[0])) + \" and total MCS detected: \" + str(len(tracks_l.index.levels[1])))"
   ]
  },
  {
   "cell_type": "markdown",
   "metadata": {},
   "source": [
    "The function `funcs.plot_folium()` saves the `.html` result and return the path where was saved.\n"
   ]
  },
  {
   "cell_type": "code",
   "execution_count": 16,
   "metadata": {
    "scrolled": true
   },
   "outputs": [],
   "source": [
    "path_html_folium = funcs.plot_folium(tracks_l, location = LOCATION_FOLIUM, path_save = OUTDIR)"
   ]
  },
  {
   "cell_type": "code",
   "execution_count": 17,
   "metadata": {},
   "outputs": [
    {
     "data": {
      "text/html": [
       "<iframe src=1_output_data/map_Tb_P_2019_12_24_19_2019_12_31_10.html width=1000 height=500></iframe>"
      ],
      "text/plain": [
       "<IPython.core.display.HTML object>"
      ]
     },
     "execution_count": 17,
     "metadata": {},
     "output_type": "execute_result"
    }
   ],
   "source": [
    "import IPython\n",
    "iframe = '<iframe src=' + path_html_folium + ' width=1000 height=500></iframe>'\n",
    "IPython.display.HTML(iframe)"
   ]
  }
 ],
 "metadata": {
  "kernelspec": {
   "display_name": "Python 3 (ipykernel)",
   "language": "python",
   "name": "python3"
  },
  "language_info": {
   "codemirror_mode": {
    "name": "ipython",
    "version": 3
   },
   "file_extension": ".py",
   "mimetype": "text/x-python",
   "name": "python",
   "nbconvert_exporter": "python",
   "pygments_lexer": "ipython3",
   "version": "3.7.13"
  }
 },
 "nbformat": 4,
 "nbformat_minor": 4
}
