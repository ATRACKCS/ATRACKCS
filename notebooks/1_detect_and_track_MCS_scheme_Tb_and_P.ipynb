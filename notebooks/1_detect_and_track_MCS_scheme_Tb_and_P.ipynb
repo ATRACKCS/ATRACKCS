{
 "cells": [
  {
   "cell_type": "markdown",
   "metadata": {
    "tags": []
   },
   "source": [
    "# Track Mesoescale Convective Systems (MCS) at consecutive time steps to form tracks with a scheme based on brightness temperature and precipitation\n",
    "\n",
    "This notebook tracks detected MCS at individual time steps to form tracks. In production, you can use the `scripts/1_detect_and_track_MCS_scheme_Tb_and_P.py` for this step.\n",
    "\n",
    "ATRACKCS is a Python package for the automated detection and tracking of MCS. It is a potential tool for characterizing their spatio-temporal distribution and evolution. ATRACKCS provides a set of Python functions designed for a workflow analysis  that includes the detection and characterization of  MCS, as well as the integration in tracks, allowing detailed monitoring of the MCS life cycle both in space and time.\n",
    "\n",
    "ATRACKCS uses brightness temperature (Tb) and precipitation (P) coming from satellite data and can operate with Tb as the only input variable or associating precipitation features. Although the magnitude of Tb does not represent a direct measurement of P, it is an indirect representation of cloud cover height associated with an MCS event. Some methodologies for MCS detection use other satellite spectral bands as a proxy for P. The algorithm parameterization can be adapted to the needs of the MCS detection, as the user is allowed to define the thresholds of Tb and P. The parameterization in this notebook was established from an extensive literature review, which can be consulted below.\n",
    "\n",
    "## The detection of the MCS (regions) is performed using these steps:\n",
    "\n",
    "1. At a given time step, the algorithm finds all pixels where `Tb` $\\le 225 K$ and defines approximate regions with the convex hull, using a binary structure where the pixels that satisfy the described condition are equal to $1$ and the remaining pixels are equal to $0$.\n",
    "2. Transform from geographic to plane coordinates and compute an approximate area of the defined regions.\n",
    "3. Discard all regions whose area is $< 2000 km^2$.\n",
    "4. Estimate the average, minimum and maximum brightness temperature of those regions.\n",
    "5. At a given time step, the algorithm finds all pixels where `P` $\\ge 2 mm \\times {h^{-1}}$ and discard pixels that do not match with this condition.\n",
    "6. Estimate an approximate area of the precipitation pixels that are contained in each region.\n",
    "7. Estimate the average and maximum precipitation for each region whose area is $\\ge 500 km^2$. The algorithm has the option of discard those regions whose precipitaion area is $< 500 km^2$, but in this case those regions are going to be part of the possible tracks.\n",
    "\n",
    "## The tracks are performed using these steps:\n",
    "\n",
    "Specifically, assume we have detected $n$ MSC at time $t$, and $m$ MSC at time $t+1$. There are theoretically $n \\times m$ possible associations to link these two groups of MCS. Of course not all of them are meaningful. The rules that are applied in the association process are:\n",
    "\n",
    "1. **overlapping priority** principle: for any MCS at time t, the MCS with the highest overlap percentage at time t+1 \"wins\" and is associated with it.\n",
    "2. The MCS (with lower or no overlap percentages) at time $t+1$ could form a track on their own, and are left to be associated in the next iteration between $t+1$ and $t+2$.\n",
    "3. No merging or splitting is allowed, any MCS at time $t$ can only be linked to one MCS at time $t+1$, similarly, any MCS at time $t+1$ can only be linked to one MCS at time $t$.\n",
    "4. All tracks that do not get updated during the $t$ - $t+1$ process terminate. This assumes that no gap in the track is allowed. \n",
    "5. In this parameterization, no tracks are discarded based on their total duration. The algorithm has the option for filtering the tracks with a specific minimun duration.\n",
    "\n",
    "## Input data\n",
    "\n",
    "**Brightness Temperature:**\n",
    "NCEP/CPC L3 (Merge IR V1): Spatial and temporal resolution is 4 km and 30 minutes, \n",
    "data availability from February 7, 2000 to present. The interest variable of this dataset is `Tb` and the files format must be `netCDF4`.\n",
    "https://doi.org/10.5067/P4HZB9N27EKU\n",
    "\n",
    "**Precipitation:**\n",
    "GPM (IMERG V06B): Spatial and temporal resolution is 10 km and 30 minutes, \n",
    "data availability from June 1, 2000 to present. The interest variable of this dataset is `PrecipitationCal` and the files format must be `netCDF4`.\n",
    "https://doi.org/10.5067/GPM/IMERG/3B-HH/06\n",
    "\n",
    "We suggest the option `subset/get data` and use `OpenDAP` method for downloading and refining the date range and interest region.\n",
    "\n",
    "In this case the algorithm is run for 5 days (2019/12/25/ 00 (UTC) - 2019/12/31/ 00 (UTC)) for northern South America. The input data are in the notebooks folder in the repository. The raw data can be downloaded with the links at the top.\n",
    "\n",
    "## Steps\n",
    "\n",
    "1. Make sure you have successfully installed the ATRACKCS library.\n",
    "2. Execute the following code blocks in sequence.\n",
    "\n",
    "## Results\n",
    "\n",
    "* `resume_Tb_P_2019_12_24_19_2019_12_31_17.csv`: a csv table listing various attributes for the tracks and MCS associated.\n",
    "* `map_Tb_P_2019_12_24_19_2019_12_31_10.html` (folium): plot of the geographical locations of the MSC with informations that links to the associaded tracks and features of the MSC.\n",
    "\n",
    "## Bibliography\n",
    "* Feng, Z., Leung, L. R., Liu, N., Wang, J., Houze, R. A., Li, J., Hardin, J. C., Chen, D., & Guo, J. (2021). A Global High‐resolution Mesoscale Convective System Database using Satellite‐derived Cloud Tops, Surface Precipitation, and Tracking. Journal of Geophysical Research: Atmospheres. https://doi.org/10.1029/2020jd034202\n",
    "* Li, J., Feng, Z., Qian, Y., & Leung, L. R. (2020). A high-resolution unified observational data product of mesoscale convective systems and isolated deep convection in the United States for 2004–2017. Earth System Science Data Discussions, October, 1–48. https://doi.org/10.5194/essd-2020-151\n",
    "* Liu, W., Cook, K. H., & Vizy, E. K. (2019). The role of mesoscale convective systems in the diurnal cycle of rainfall and its seasonality over sub-Saharan Northern Africa. Climate Dynamics, 52(1–2), 729–745. https://doi.org/10.1007/s00382-018-4162-y\n",
    "* Vizy, E. K., & Cook, K. H. (2018). Mesoscale convective systems and nocturnal rainfall over the West African Sahel: role of the Inter-tropical front. Climate Dynamics, 50(1–2), 587–614. https://doi.org/10.1007/s00382-017-3628-7"
   ]
  },
  {
   "cell_type": "markdown",
   "metadata": {},
   "source": [
    "### Set paths\n",
    "\n",
    "First of all we assign the locations to the input (raw data) using `TBDIR` and `PDIR` and output data using `OUTDIR`."
   ]
  },
  {
   "cell_type": "code",
   "execution_count": 3,
   "metadata": {
    "scrolled": true
   },
   "outputs": [],
   "source": [
    "%matplotlib inline\n",
    "import os\n",
    "\n",
    "TBDIR=os.path.join('1_input_data', 'tb/')\n",
    "PDIR=os.path.join('1_input_data', 'p/')\n",
    "\n",
    "OUTDIR=os.path.join('1_output_data/')"
   ]
  },
  {
   "cell_type": "markdown",
   "metadata": {},
   "source": [
    "### Parameters used in the MCS detection and tracking process\n",
    "\n",
    "* `UTM_LOCAL_ZONE`: int, is needed for converting the WGS geodetic coordinate system to plane coordinate system. This is a constant that must be asociated with the interest region. \n",
    "* `UTC_LOCAL_HOUR`: int, is needed for converting the raw data hour (UTC) to a local hour (interest region).\n",
    "* `UTC_LOCAL_SIGN`: str (minus, plus, local), is needed for converting the raw data hour (UTC) to a local hour (interest region).\n",
    "* `DETECT_SCHEME`: str (Tb, Both), association scheme: Tb or Both (Tb and P). \n",
    "* `TB`: int, MCS based on limited maximun threshold cold cloud top.\n",
    "* `AREA_TB`: int, MCS with a minimun largest area.\n",
    "* `MIN_P`: int, MCS with a minimun precipitation pixel.\n",
    "* `AREA_P`: int, MCS with an mimimum area precipitation.\n",
    "* `DROP_EMPTY_PRECIPITATION`: boolean, if `True` eliminates MCS that do not contain precipitation with the `MIN_P` and `AREA_P` selected. \n",
    "* `THRESHOLD_OVERLAPPING_P`: int, percentage overlap limit between MCS to be considered part of the track.\n",
    "* `LOCATION_FOLIUM`: list (lat, lon), location for center the map_folium.\n",
    "* `MIN_DURATION`: int, for filtering tracks based on minimun duration.\n"
   ]
  },
  {
   "cell_type": "code",
   "execution_count": 4,
   "metadata": {
    "scrolled": true,
    "tags": []
   },
   "outputs": [],
   "source": [
    "#32718 is the UTM zone 18S plane coordinate system. \n",
    "#It was Used for tracking MCS in South America - Colombia.\n",
    "UTM_LOCAL_ZONE = 32718 \n",
    "\n",
    "#UTC-5 is the local hour for Colombia\n",
    "UTC_LOCAL_HOUR = 5\n",
    "UTC_LOCAL_SIGN = \"minus\"\n",
    "\n",
    "#Scheme of association\n",
    "DETECT_SCHEME = \"Both\"\n",
    "\n",
    "#RANGE Tb \n",
    "#Tb [200 k - 240 k]\n",
    "#RANGE AREA TB\n",
    "#area_Tb[>999 km]\n",
    "\n",
    "TB = 225 #[Feng et al.,(2021); Li et al.,(2020)]\n",
    "\n",
    "AREA_TB = 2000 # [Lui et al., (2019); Vizy & Cook,(2018)] \n",
    "\n",
    "#NO RESTRICTIONS AREA_P AND MIN_P\n",
    "\n",
    "MIN_P = 2 #[Feng et al.,(2021)]  \n",
    "\n",
    "AREA_P = 500 #[Feng et al.,(2021)]\n",
    "\n",
    "DROP_EMPTY_PRECIPITATION = False\n",
    "\n",
    "THRESHOLD_OVERLAPPING_P = 0\n",
    "\n",
    "LOCATION_FOLIUM = [5, -73.94]\n",
    "\n",
    "MIN_DURATION = 0"
   ]
  },
  {
   "cell_type": "markdown",
   "metadata": {},
   "source": [
    "### Importing modules"
   ]
  },
  {
   "cell_type": "code",
   "execution_count": 5,
   "metadata": {
    "scrolled": true
   },
   "outputs": [],
   "source": [
    "#--------Import modules-------------------------\n",
    "from atrackcs.utils import funcs\n",
    "from atrackcs.detect import detect_mcs\n",
    "from atrackcs.features import features_Tb, features_P, features_Tracks\n",
    "from atrackcs.track import track_mcs"
   ]
  },
  {
   "cell_type": "markdown",
   "metadata": {},
   "source": [
    "### Reading raw Tb and P data.\n",
    "\n",
    "The reading process is handled with the function `funcs.readNC()`.\n",
    "\n",
    "Also make sure the output folder exists."
   ]
  },
  {
   "cell_type": "code",
   "execution_count": 6,
   "metadata": {
    "scrolled": true
   },
   "outputs": [
    {
     "name": "stdout",
     "output_type": "stream",
     "text": [
      "Complete Tb and P data reading 2019-12-24T19:00 - 2019-12-31T18:00\n"
     ]
    }
   ],
   "source": [
    "ds = funcs.readNC(pathTb = TBDIR, pathP =PDIR, utc_local_hour = UTC_LOCAL_HOUR, \n",
    "                  utc_local_sign = UTC_LOCAL_SIGN)\n",
    "\n",
    "if not os.path.exists(OUTDIR):\n",
    "    os.makedirs(OUTDIR)"
   ]
  },
  {
   "cell_type": "markdown",
   "metadata": {},
   "source": [
    "The detection process is handled with the function `detect_mcs()`.\n",
    "\n",
    "* `ds` is the `xarray.Dataset` object we just read in."
   ]
  },
  {
   "cell_type": "markdown",
   "metadata": {},
   "source": [
    "### Detecting MCS"
   ]
  },
  {
   "cell_type": "code",
   "execution_count": 7,
   "metadata": {},
   "outputs": [
    {
     "name": "stdout",
     "output_type": "stream",
     "text": [
      "MCS detection completed\n"
     ]
    }
   ],
   "source": [
    "mcs_l = detect_mcs(ds, detect_scheme = DETECT_SCHEME, Tb = TB, area_Tb = AREA_TB, \n",
    "                   utm_local_zone = UTM_LOCAL_ZONE, path_save = None)"
   ]
  },
  {
   "cell_type": "markdown",
   "metadata": {},
   "source": [
    "The MCS Tb features is handled with the function `features_Tb()`.\n",
    "\n",
    "* `mcs_l` is the `Geopandas.GeoDataFrame` object we just created in the detection process."
   ]
  },
  {
   "cell_type": "code",
   "execution_count": 8,
   "metadata": {},
   "outputs": [
    {
     "name": "stdout",
     "output_type": "stream",
     "text": [
      "Estimating MCS's brightness temperature attributes: \n"
     ]
    },
    {
     "name": "stderr",
     "output_type": "stream",
     "text": [
      "100%|██████████████████████████████████████████████████████████████████████████████| 3200/3200 [03:42<00:00, 14.40it/s]\n"
     ]
    }
   ],
   "source": [
    "mcs_l = features_Tb(mcs_l, ds)"
   ]
  },
  {
   "cell_type": "markdown",
   "metadata": {},
   "source": [
    "* `mcs_l` is the `geopandas.GeoDataFrame` object we just created in the tracking process.\n",
    "\n",
    "Each `row` object in `mcs_l` stores a MCS record. We can have a peak into what `msc_l` columns contains so far. \n",
    "\n",
    "* `time`: datetime64, hour (UTC-5) for this case.\n",
    "* `Tb`: float, polygon index after being filtered by the established parameterization.\n",
    "* `geometry`: geometry, MCS polygon (convex hull). To view the coordinate reference system of the geometry column, access the crs attribute. For this case is `EPSG:32718`.\n",
    "* `area_Tb`: float, area polygon [$km^2$]\n",
    "* `centroid_`: geometry, geometric centroid polygon (convex hull). The crs in  this case is `EPSG:32718`.\n",
    "* `mean_tb`: float, brightness temperature average of the pixels composing the polygon. [$K$]\n",
    "* `min_tb`: float, brightness temperature min value of the pixels composing the polygon. [$K$]\n",
    "* `max_tb`: float, brightness temperature max value of the pixels composing the polygon. [$K$]\n",
    "\n",
    "For this case 3201 MCS were detected with the selected parameterization."
   ]
  },
  {
   "cell_type": "code",
   "execution_count": 9,
   "metadata": {
    "scrolled": true
   },
   "outputs": [
    {
     "data": {
      "text/html": [
       "<div>\n",
       "<style scoped>\n",
       "    .dataframe tbody tr th:only-of-type {\n",
       "        vertical-align: middle;\n",
       "    }\n",
       "\n",
       "    .dataframe tbody tr th {\n",
       "        vertical-align: top;\n",
       "    }\n",
       "\n",
       "    .dataframe thead th {\n",
       "        text-align: right;\n",
       "    }\n",
       "</style>\n",
       "<table border=\"1\" class=\"dataframe\">\n",
       "  <thead>\n",
       "    <tr style=\"text-align: right;\">\n",
       "      <th></th>\n",
       "      <th>time</th>\n",
       "      <th>Tb</th>\n",
       "      <th>geometry</th>\n",
       "      <th>area_tb</th>\n",
       "      <th>centroid_</th>\n",
       "      <th>mean_tb</th>\n",
       "      <th>min_tb</th>\n",
       "      <th>max_tb</th>\n",
       "    </tr>\n",
       "  </thead>\n",
       "  <tbody>\n",
       "    <tr>\n",
       "      <th>0</th>\n",
       "      <td>2019-12-24 19:00:00</td>\n",
       "      <td>1.0</td>\n",
       "      <td>POLYGON ((1385139.077 8889318.481, 1386208.445...</td>\n",
       "      <td>14842.2</td>\n",
       "      <td>POINT (1463228.275 8937057.716)</td>\n",
       "      <td>222.4039</td>\n",
       "      <td>212.5513</td>\n",
       "      <td>234.2721</td>\n",
       "    </tr>\n",
       "    <tr>\n",
       "      <th>1</th>\n",
       "      <td>2019-12-24 19:00:00</td>\n",
       "      <td>2.0</td>\n",
       "      <td>POLYGON ((1595866.092 8883549.520, 1585083.176...</td>\n",
       "      <td>3630.7</td>\n",
       "      <td>POINT (1633163.573 8902402.154)</td>\n",
       "      <td>219.1902</td>\n",
       "      <td>212.0816</td>\n",
       "      <td>225.6774</td>\n",
       "    </tr>\n",
       "    <tr>\n",
       "      <th>2</th>\n",
       "      <td>2019-12-24 19:00:00</td>\n",
       "      <td>4.0</td>\n",
       "      <td>POLYGON ((2088725.182 8865190.993, 2066639.621...</td>\n",
       "      <td>6145.4</td>\n",
       "      <td>POINT (2126543.231 8906654.165)</td>\n",
       "      <td>222.2126</td>\n",
       "      <td>214.0594</td>\n",
       "      <td>234.6743</td>\n",
       "    </tr>\n",
       "    <tr>\n",
       "      <th>3</th>\n",
       "      <td>2019-12-24 19:00:00</td>\n",
       "      <td>7.0</td>\n",
       "      <td>POLYGON ((285900.134 8954798.123, 274850.936 8...</td>\n",
       "      <td>3710.1</td>\n",
       "      <td>POINT (280833.135 9000177.046)</td>\n",
       "      <td>222.6613</td>\n",
       "      <td>216.3039</td>\n",
       "      <td>230.5927</td>\n",
       "    </tr>\n",
       "    <tr>\n",
       "      <th>4</th>\n",
       "      <td>2019-12-24 19:00:00</td>\n",
       "      <td>8.0</td>\n",
       "      <td>POLYGON ((681204.449 8966028.400, 637345.833 8...</td>\n",
       "      <td>3526.0</td>\n",
       "      <td>POINT (677052.995 8997699.311)</td>\n",
       "      <td>224.8544</td>\n",
       "      <td>218.0482</td>\n",
       "      <td>261.8145</td>\n",
       "    </tr>\n",
       "    <tr>\n",
       "      <th>...</th>\n",
       "      <td>...</td>\n",
       "      <td>...</td>\n",
       "      <td>...</td>\n",
       "      <td>...</td>\n",
       "      <td>...</td>\n",
       "      <td>...</td>\n",
       "      <td>...</td>\n",
       "      <td>...</td>\n",
       "    </tr>\n",
       "    <tr>\n",
       "      <th>3196</th>\n",
       "      <td>2019-12-31 17:00:00</td>\n",
       "      <td>180.0</td>\n",
       "      <td>POLYGON ((97079.094 10836238.196, 75168.595 10...</td>\n",
       "      <td>2630.5</td>\n",
       "      <td>POINT (108278.034 10864738.333)</td>\n",
       "      <td>218.2107</td>\n",
       "      <td>211.1152</td>\n",
       "      <td>223.0037</td>\n",
       "    </tr>\n",
       "    <tr>\n",
       "      <th>3197</th>\n",
       "      <td>2019-12-31 17:00:00</td>\n",
       "      <td>184.0</td>\n",
       "      <td>POLYGON ((-691865.280 10883122.696, -758907.75...</td>\n",
       "      <td>15303.5</td>\n",
       "      <td>POINT (-748773.702 10970101.458)</td>\n",
       "      <td>217.9394</td>\n",
       "      <td>203.1223</td>\n",
       "      <td>247.8695</td>\n",
       "    </tr>\n",
       "    <tr>\n",
       "      <th>3198</th>\n",
       "      <td>2019-12-31 17:00:00</td>\n",
       "      <td>185.0</td>\n",
       "      <td>POLYGON ((-1029700.410 10904530.804, -1051987....</td>\n",
       "      <td>7530.1</td>\n",
       "      <td>POINT (-1010852.082 10956828.001)</td>\n",
       "      <td>211.5872</td>\n",
       "      <td>201.9746</td>\n",
       "      <td>225.0643</td>\n",
       "    </tr>\n",
       "    <tr>\n",
       "      <th>3199</th>\n",
       "      <td>2019-12-31 17:00:00</td>\n",
       "      <td>186.0</td>\n",
       "      <td>POLYGON ((174734.077 10879929.160, 163862.710 ...</td>\n",
       "      <td>4026.6</td>\n",
       "      <td>POINT (179987.332 10927972.864)</td>\n",
       "      <td>215.6076</td>\n",
       "      <td>205.0069</td>\n",
       "      <td>226.6848</td>\n",
       "    </tr>\n",
       "    <tr>\n",
       "      <th>3200</th>\n",
       "      <td>2019-12-31 17:00:00</td>\n",
       "      <td>191.0</td>\n",
       "      <td>POLYGON ((-466527.607 10956138.926, -488528.07...</td>\n",
       "      <td>2489.3</td>\n",
       "      <td>POINT (-473937.331 10992203.358)</td>\n",
       "      <td>NaN</td>\n",
       "      <td>NaN</td>\n",
       "      <td>NaN</td>\n",
       "    </tr>\n",
       "  </tbody>\n",
       "</table>\n",
       "<p>3201 rows × 8 columns</p>\n",
       "</div>"
      ],
      "text/plain": [
       "                    time     Tb  \\\n",
       "0    2019-12-24 19:00:00    1.0   \n",
       "1    2019-12-24 19:00:00    2.0   \n",
       "2    2019-12-24 19:00:00    4.0   \n",
       "3    2019-12-24 19:00:00    7.0   \n",
       "4    2019-12-24 19:00:00    8.0   \n",
       "...                  ...    ...   \n",
       "3196 2019-12-31 17:00:00  180.0   \n",
       "3197 2019-12-31 17:00:00  184.0   \n",
       "3198 2019-12-31 17:00:00  185.0   \n",
       "3199 2019-12-31 17:00:00  186.0   \n",
       "3200 2019-12-31 17:00:00  191.0   \n",
       "\n",
       "                                               geometry  area_tb  \\\n",
       "0     POLYGON ((1385139.077 8889318.481, 1386208.445...  14842.2   \n",
       "1     POLYGON ((1595866.092 8883549.520, 1585083.176...   3630.7   \n",
       "2     POLYGON ((2088725.182 8865190.993, 2066639.621...   6145.4   \n",
       "3     POLYGON ((285900.134 8954798.123, 274850.936 8...   3710.1   \n",
       "4     POLYGON ((681204.449 8966028.400, 637345.833 8...   3526.0   \n",
       "...                                                 ...      ...   \n",
       "3196  POLYGON ((97079.094 10836238.196, 75168.595 10...   2630.5   \n",
       "3197  POLYGON ((-691865.280 10883122.696, -758907.75...  15303.5   \n",
       "3198  POLYGON ((-1029700.410 10904530.804, -1051987....   7530.1   \n",
       "3199  POLYGON ((174734.077 10879929.160, 163862.710 ...   4026.6   \n",
       "3200  POLYGON ((-466527.607 10956138.926, -488528.07...   2489.3   \n",
       "\n",
       "                              centroid_   mean_tb    min_tb    max_tb  \n",
       "0       POINT (1463228.275 8937057.716)  222.4039  212.5513  234.2721  \n",
       "1       POINT (1633163.573 8902402.154)  219.1902  212.0816  225.6774  \n",
       "2       POINT (2126543.231 8906654.165)  222.2126  214.0594  234.6743  \n",
       "3        POINT (280833.135 9000177.046)  222.6613  216.3039  230.5927  \n",
       "4        POINT (677052.995 8997699.311)  224.8544  218.0482  261.8145  \n",
       "...                                 ...       ...       ...       ...  \n",
       "3196    POINT (108278.034 10864738.333)  218.2107  211.1152  223.0037  \n",
       "3197   POINT (-748773.702 10970101.458)  217.9394  203.1223  247.8695  \n",
       "3198  POINT (-1010852.082 10956828.001)  211.5872  201.9746  225.0643  \n",
       "3199    POINT (179987.332 10927972.864)  215.6076  205.0069  226.6848  \n",
       "3200   POINT (-473937.331 10992203.358)       NaN       NaN       NaN  \n",
       "\n",
       "[3201 rows x 8 columns]"
      ]
     },
     "execution_count": 9,
     "metadata": {},
     "output_type": "execute_result"
    }
   ],
   "source": [
    "mcs_l"
   ]
  },
  {
   "cell_type": "code",
   "execution_count": 10,
   "metadata": {},
   "outputs": [
    {
     "data": {
      "text/plain": [
       "<Projected CRS: EPSG:32718>\n",
       "Name: WGS 84 / UTM zone 18S\n",
       "Axis Info [cartesian]:\n",
       "- E[east]: Easting (metre)\n",
       "- N[north]: Northing (metre)\n",
       "Area of Use:\n",
       "- name: Between 78°W and 72°W, southern hemisphere between 80°S and equator, onshore and offshore. Argentina. Brazil. Chile. Colombia. Ecuador. Peru.\n",
       "- bounds: (-78.0, -80.0, -72.0, 0.0)\n",
       "Coordinate Operation:\n",
       "- name: UTM zone 18S\n",
       "- method: Transverse Mercator\n",
       "Datum: World Geodetic System 1984\n",
       "- Ellipsoid: WGS 84\n",
       "- Prime Meridian: Greenwich"
      ]
     },
     "execution_count": 10,
     "metadata": {},
     "output_type": "execute_result"
    }
   ],
   "source": [
    "mcs_l.crs"
   ]
  },
  {
   "cell_type": "markdown",
   "metadata": {},
   "source": [
    "The MCS P features is handled with the function `features_P()`."
   ]
  },
  {
   "cell_type": "code",
   "execution_count": 11,
   "metadata": {
    "scrolled": true
   },
   "outputs": [
    {
     "name": "stdout",
     "output_type": "stream",
     "text": [
      "Estimating MCS's precipitation attributes: \n"
     ]
    },
    {
     "name": "stderr",
     "output_type": "stream",
     "text": [
      "100%|██████████████████████████████████████████████████████████████████████████████| 3200/3200 [03:54<00:00, 13.64it/s]\n"
     ]
    }
   ],
   "source": [
    "mcs_l = features_P(mcs_l, ds, min_precipitation = MIN_P, area_P = AREA_P,\n",
    "                   drop_empty_precipitation = DROP_EMPTY_PRECIPITATION)"
   ]
  },
  {
   "cell_type": "markdown",
   "metadata": {},
   "source": [
    "### Tracking MCS\n",
    "\n",
    "The tracking process is handled with the function `track_mcs()`. However, these have not been characterized in this phase. The tracks features are handled with the function `features_Tracks()`."
   ]
  },
  {
   "cell_type": "code",
   "execution_count": 12,
   "metadata": {
    "scrolled": true
   },
   "outputs": [
    {
     "name": "stdout",
     "output_type": "stream",
     "text": [
      "Estimating trajectories: \n"
     ]
    },
    {
     "name": "stderr",
     "output_type": "stream",
     "text": [
      "100%|██████████████████████████████████████████████████████████████████████████████| 3200/3200 [05:07<00:00, 10.40it/s]\n"
     ]
    }
   ],
   "source": [
    "tracks_l = track_mcs(mcs_l, threshold_overlapping_percentage = THRESHOLD_OVERLAPPING_P, utm_local_zone = UTM_LOCAL_ZONE,\n",
    "                path_save = None)"
   ]
  },
  {
   "cell_type": "code",
   "execution_count": 13,
   "metadata": {},
   "outputs": [
    {
     "name": "stdout",
     "output_type": "stream",
     "text": [
      "Estimating distance and direction between geometrics centroids: \n"
     ]
    },
    {
     "name": "stderr",
     "output_type": "stream",
     "text": [
      "100%|██████████████████████████████████████████████████████████████████████████████| 1207/1207 [00:36<00:00, 33.15it/s]\n"
     ]
    }
   ],
   "source": [
    "tracks_l = features_Tracks(tracks_l, initial_time_hour = MIN_DURATION,\n",
    "                         path_save = OUTDIR)"
   ]
  },
  {
   "cell_type": "markdown",
   "metadata": {},
   "source": [
    "* `tracks_l` is a `geopandas.GeoDataFrame` object we just created in the tracking process and stores the MCS polygons and the tracks. \n",
    "* This `GeoDataFrame` contains exactly the information previously referenced except for the dropping of some features associated to the brightness temperature and the addition of some characteristics associated to the MCS precipitation and some characteristics generated for the tracks.\n",
    "* The indexing of this object is a `pandas.MultiIndex` since it hierarchically associates an id for each track and an id for each MCS.\n",
    "* The indexing of this object is encrypted generated using the `uuid` library. To disable encryption for both MCS and tracks, use the parameter `encrypt_index = False` in the `features_Tracks()` function. The index generated when not using encryption is a `int` iteration result  of the tracking process.\n",
    "* The indexes encryption is useful when processing a long period of time and must iterate for smaller periods of time, for example every 6 months. This is a limitation imposed by the hardware used to run the algorithm.\n",
    "\n",
    "We can have a peak into what `tracks_l` new columns contains. \n",
    "\n",
    "\n",
    "* `belong`: str, encrypted index generated for each track.\n",
    "* `id_gdf`: str, encrypted index generated for each MCS.\n",
    "* `geometry`: geometry, polygon. The crs is `EPSG:4326-WGS84`\n",
    "* `centroid_`: geometry, geometric centroid polygon. The crs is `EPSG:4326`.\n",
    "* `mean_pp`: float, precipitation average of the pixels composing the polygon [$mm \\times {h^{-1}}$].\n",
    "* `max_pp`: float, precipitation max value of the pixels composing the polygon [$mm \\times {h^{-1}}$].\n",
    "* `intersection_percentage`: float, percentage overlap between MCS [%].\n",
    "* `distance_c`: float, distance between the overlapping geometric centroids of the MCS [km].\n",
    "* `direction`: float, direction between the overlapping geometric centroids of the MCS [°].\n",
    "* `total_duration`: float, total duration of the event or the track. This value is associated to each MCS of the corresponding track [h]. \n",
    "* `total_distance`: float, total distance of the event or the track. This value is associated to each MCS of the corresponding track [km]. \n",
    "* `mean_velocity`: float, velocity average of the  event or the track. This value is associated to each MCS of the corresponding track [$km \\times {h^{-1}}$]. "
   ]
  },
  {
   "cell_type": "code",
   "execution_count": 14,
   "metadata": {},
   "outputs": [
    {
     "data": {
      "text/html": [
       "<div>\n",
       "<style scoped>\n",
       "    .dataframe tbody tr th:only-of-type {\n",
       "        vertical-align: middle;\n",
       "    }\n",
       "\n",
       "    .dataframe tbody tr th {\n",
       "        vertical-align: top;\n",
       "    }\n",
       "\n",
       "    .dataframe thead th {\n",
       "        text-align: right;\n",
       "    }\n",
       "</style>\n",
       "<table border=\"1\" class=\"dataframe\">\n",
       "  <thead>\n",
       "    <tr style=\"text-align: right;\">\n",
       "      <th></th>\n",
       "      <th></th>\n",
       "      <th>time</th>\n",
       "      <th>geometry</th>\n",
       "      <th>area_tb</th>\n",
       "      <th>centroid_</th>\n",
       "      <th>mean_tb</th>\n",
       "      <th>mean_pp</th>\n",
       "      <th>max_pp</th>\n",
       "      <th>intersection_percentage</th>\n",
       "      <th>distance_c</th>\n",
       "      <th>direction</th>\n",
       "      <th>total_duration</th>\n",
       "      <th>total_distance</th>\n",
       "      <th>mean_velocity</th>\n",
       "    </tr>\n",
       "    <tr>\n",
       "      <th>belong</th>\n",
       "      <th>id_gdf</th>\n",
       "      <th></th>\n",
       "      <th></th>\n",
       "      <th></th>\n",
       "      <th></th>\n",
       "      <th></th>\n",
       "      <th></th>\n",
       "      <th></th>\n",
       "      <th></th>\n",
       "      <th></th>\n",
       "      <th></th>\n",
       "      <th></th>\n",
       "      <th></th>\n",
       "      <th></th>\n",
       "    </tr>\n",
       "  </thead>\n",
       "  <tbody>\n",
       "    <tr>\n",
       "      <th rowspan=\"4\" valign=\"top\">001c2463-06e7</th>\n",
       "      <th>4383-bcad-fc9d0f669f55</th>\n",
       "      <td>2019-12-27 15:00:00</td>\n",
       "      <td>POLYGON ((-61.65000 4.55000, -61.95000 4.75000...</td>\n",
       "      <td>5835.1</td>\n",
       "      <td>POINT (-61.42484 4.91631)</td>\n",
       "      <td>223.1638</td>\n",
       "      <td>3.1587</td>\n",
       "      <td>5.9144</td>\n",
       "      <td>40.1</td>\n",
       "      <td>NaN</td>\n",
       "      <td>NaN</td>\n",
       "      <td>4</td>\n",
       "      <td>79.612314</td>\n",
       "      <td>19.903078</td>\n",
       "    </tr>\n",
       "    <tr>\n",
       "      <th>452f-89cc-a6336711ff1c</th>\n",
       "      <td>2019-12-27 18:00:00</td>\n",
       "      <td>POLYGON ((-62.45000 4.65000, -62.35000 4.95000...</td>\n",
       "      <td>6781.6</td>\n",
       "      <td>POINT (-61.74337 5.20817)</td>\n",
       "      <td>222.7266</td>\n",
       "      <td>3.3044</td>\n",
       "      <td>5.9730</td>\n",
       "      <td>NaN</td>\n",
       "      <td>35.510231</td>\n",
       "      <td>260.5</td>\n",
       "      <td>4</td>\n",
       "      <td>79.612314</td>\n",
       "      <td>19.903078</td>\n",
       "    </tr>\n",
       "    <tr>\n",
       "      <th>4980-8968-59a8c88925e9</th>\n",
       "      <td>2019-12-27 16:00:00</td>\n",
       "      <td>POLYGON ((-62.05000 4.65000, -62.05000 5.05000...</td>\n",
       "      <td>10377.5</td>\n",
       "      <td>POINT (-61.33094 5.14862)</td>\n",
       "      <td>217.5831</td>\n",
       "      <td>4.4978</td>\n",
       "      <td>8.4378</td>\n",
       "      <td>53.3</td>\n",
       "      <td>27.719698</td>\n",
       "      <td>22.0</td>\n",
       "      <td>4</td>\n",
       "      <td>79.612314</td>\n",
       "      <td>19.903078</td>\n",
       "    </tr>\n",
       "    <tr>\n",
       "      <th>4ef7-9d41-2133e9674c99</th>\n",
       "      <td>2019-12-27 17:00:00</td>\n",
       "      <td>POLYGON ((-62.45000 4.65000, -62.45000 4.95000...</td>\n",
       "      <td>13484.2</td>\n",
       "      <td>POINT (-61.42739 5.26086)</td>\n",
       "      <td>222.3609</td>\n",
       "      <td>3.9170</td>\n",
       "      <td>15.5196</td>\n",
       "      <td>48.8</td>\n",
       "      <td>16.382385</td>\n",
       "      <td>319.3</td>\n",
       "      <td>4</td>\n",
       "      <td>79.612314</td>\n",
       "      <td>19.903078</td>\n",
       "    </tr>\n",
       "    <tr>\n",
       "      <th>00321212-27b1</th>\n",
       "      <th>4acb-92f8-fc527943bb68</th>\n",
       "      <td>2019-12-30 06:00:00</td>\n",
       "      <td>POLYGON ((-73.95000 6.25000, -73.95000 6.35000...</td>\n",
       "      <td>2507.0</td>\n",
       "      <td>POINT (-73.68091 6.53948)</td>\n",
       "      <td>220.1129</td>\n",
       "      <td>NaN</td>\n",
       "      <td>NaN</td>\n",
       "      <td>NaN</td>\n",
       "      <td>32.482982</td>\n",
       "      <td>48.1</td>\n",
       "      <td>2</td>\n",
       "      <td>32.482982</td>\n",
       "      <td>16.241491</td>\n",
       "    </tr>\n",
       "    <tr>\n",
       "      <th>...</th>\n",
       "      <th>...</th>\n",
       "      <td>...</td>\n",
       "      <td>...</td>\n",
       "      <td>...</td>\n",
       "      <td>...</td>\n",
       "      <td>...</td>\n",
       "      <td>...</td>\n",
       "      <td>...</td>\n",
       "      <td>...</td>\n",
       "      <td>...</td>\n",
       "      <td>...</td>\n",
       "      <td>...</td>\n",
       "      <td>...</td>\n",
       "      <td>...</td>\n",
       "    </tr>\n",
       "    <tr>\n",
       "      <th rowspan=\"5\" valign=\"top\">ffcdebf4-efff</th>\n",
       "      <th>42e4-9d7f-a7e3dd6423fb</th>\n",
       "      <td>2019-12-27 19:00:00</td>\n",
       "      <td>POLYGON ((-78.75000 1.15000, -78.75000 1.55000...</td>\n",
       "      <td>13810.2</td>\n",
       "      <td>POINT (-78.21297 2.02218)</td>\n",
       "      <td>218.7538</td>\n",
       "      <td>5.4267</td>\n",
       "      <td>14.6697</td>\n",
       "      <td>70.2</td>\n",
       "      <td>23.827398</td>\n",
       "      <td>203.1</td>\n",
       "      <td>5</td>\n",
       "      <td>69.815754</td>\n",
       "      <td>13.963151</td>\n",
       "    </tr>\n",
       "    <tr>\n",
       "      <th>4478-86af-07c7660c4d93</th>\n",
       "      <td>2019-12-27 21:00:00</td>\n",
       "      <td>POLYGON ((-78.25000 1.45000, -78.55000 1.75000...</td>\n",
       "      <td>16584.1</td>\n",
       "      <td>POINT (-78.24542 2.30949)</td>\n",
       "      <td>220.7396</td>\n",
       "      <td>4.7531</td>\n",
       "      <td>12.2553</td>\n",
       "      <td>55.3</td>\n",
       "      <td>11.431202</td>\n",
       "      <td>318.7</td>\n",
       "      <td>5</td>\n",
       "      <td>69.815754</td>\n",
       "      <td>13.963151</td>\n",
       "    </tr>\n",
       "    <tr>\n",
       "      <th>44d5-ac48-02c19127d00e</th>\n",
       "      <td>2019-12-27 22:00:00</td>\n",
       "      <td>POLYGON ((-78.35000 1.45000, -78.45000 1.55000...</td>\n",
       "      <td>9369.8</td>\n",
       "      <td>POINT (-78.24736 2.20983)</td>\n",
       "      <td>224.8508</td>\n",
       "      <td>5.8867</td>\n",
       "      <td>16.7848</td>\n",
       "      <td>NaN</td>\n",
       "      <td>11.022444</td>\n",
       "      <td>181.1</td>\n",
       "      <td>5</td>\n",
       "      <td>69.815754</td>\n",
       "      <td>13.963151</td>\n",
       "    </tr>\n",
       "    <tr>\n",
       "      <th>47c7-8215-3fd96d947e0b</th>\n",
       "      <td>2019-12-27 20:00:00</td>\n",
       "      <td>POLYGON ((-78.35000 1.35000, -78.65000 1.55000...</td>\n",
       "      <td>17444.7</td>\n",
       "      <td>POINT (-78.17741 2.23199)</td>\n",
       "      <td>218.1037</td>\n",
       "      <td>5.7096</td>\n",
       "      <td>13.7417</td>\n",
       "      <td>78.7</td>\n",
       "      <td>23.534710</td>\n",
       "      <td>9.6</td>\n",
       "      <td>5</td>\n",
       "      <td>69.815754</td>\n",
       "      <td>13.963151</td>\n",
       "    </tr>\n",
       "    <tr>\n",
       "      <th>4dcc-9b3d-70cd4b878ee2</th>\n",
       "      <td>2019-12-27 18:00:00</td>\n",
       "      <td>POLYGON ((-78.15000 1.75000, -78.35000 1.85000...</td>\n",
       "      <td>5300.6</td>\n",
       "      <td>POINT (-78.12834 2.22013)</td>\n",
       "      <td>210.7928</td>\n",
       "      <td>7.8008</td>\n",
       "      <td>23.9949</td>\n",
       "      <td>38.4</td>\n",
       "      <td>NaN</td>\n",
       "      <td>NaN</td>\n",
       "      <td>5</td>\n",
       "      <td>69.815754</td>\n",
       "      <td>13.963151</td>\n",
       "    </tr>\n",
       "  </tbody>\n",
       "</table>\n",
       "<p>3201 rows × 13 columns</p>\n",
       "</div>"
      ],
      "text/plain": [
       "                                                    time  \\\n",
       "belong        id_gdf                                       \n",
       "001c2463-06e7 4383-bcad-fc9d0f669f55 2019-12-27 15:00:00   \n",
       "              452f-89cc-a6336711ff1c 2019-12-27 18:00:00   \n",
       "              4980-8968-59a8c88925e9 2019-12-27 16:00:00   \n",
       "              4ef7-9d41-2133e9674c99 2019-12-27 17:00:00   \n",
       "00321212-27b1 4acb-92f8-fc527943bb68 2019-12-30 06:00:00   \n",
       "...                                                  ...   \n",
       "ffcdebf4-efff 42e4-9d7f-a7e3dd6423fb 2019-12-27 19:00:00   \n",
       "              4478-86af-07c7660c4d93 2019-12-27 21:00:00   \n",
       "              44d5-ac48-02c19127d00e 2019-12-27 22:00:00   \n",
       "              47c7-8215-3fd96d947e0b 2019-12-27 20:00:00   \n",
       "              4dcc-9b3d-70cd4b878ee2 2019-12-27 18:00:00   \n",
       "\n",
       "                                                                               geometry  \\\n",
       "belong        id_gdf                                                                      \n",
       "001c2463-06e7 4383-bcad-fc9d0f669f55  POLYGON ((-61.65000 4.55000, -61.95000 4.75000...   \n",
       "              452f-89cc-a6336711ff1c  POLYGON ((-62.45000 4.65000, -62.35000 4.95000...   \n",
       "              4980-8968-59a8c88925e9  POLYGON ((-62.05000 4.65000, -62.05000 5.05000...   \n",
       "              4ef7-9d41-2133e9674c99  POLYGON ((-62.45000 4.65000, -62.45000 4.95000...   \n",
       "00321212-27b1 4acb-92f8-fc527943bb68  POLYGON ((-73.95000 6.25000, -73.95000 6.35000...   \n",
       "...                                                                                 ...   \n",
       "ffcdebf4-efff 42e4-9d7f-a7e3dd6423fb  POLYGON ((-78.75000 1.15000, -78.75000 1.55000...   \n",
       "              4478-86af-07c7660c4d93  POLYGON ((-78.25000 1.45000, -78.55000 1.75000...   \n",
       "              44d5-ac48-02c19127d00e  POLYGON ((-78.35000 1.45000, -78.45000 1.55000...   \n",
       "              47c7-8215-3fd96d947e0b  POLYGON ((-78.35000 1.35000, -78.65000 1.55000...   \n",
       "              4dcc-9b3d-70cd4b878ee2  POLYGON ((-78.15000 1.75000, -78.35000 1.85000...   \n",
       "\n",
       "                                      area_tb                  centroid_  \\\n",
       "belong        id_gdf                                                       \n",
       "001c2463-06e7 4383-bcad-fc9d0f669f55   5835.1  POINT (-61.42484 4.91631)   \n",
       "              452f-89cc-a6336711ff1c   6781.6  POINT (-61.74337 5.20817)   \n",
       "              4980-8968-59a8c88925e9  10377.5  POINT (-61.33094 5.14862)   \n",
       "              4ef7-9d41-2133e9674c99  13484.2  POINT (-61.42739 5.26086)   \n",
       "00321212-27b1 4acb-92f8-fc527943bb68   2507.0  POINT (-73.68091 6.53948)   \n",
       "...                                       ...                        ...   \n",
       "ffcdebf4-efff 42e4-9d7f-a7e3dd6423fb  13810.2  POINT (-78.21297 2.02218)   \n",
       "              4478-86af-07c7660c4d93  16584.1  POINT (-78.24542 2.30949)   \n",
       "              44d5-ac48-02c19127d00e   9369.8  POINT (-78.24736 2.20983)   \n",
       "              47c7-8215-3fd96d947e0b  17444.7  POINT (-78.17741 2.23199)   \n",
       "              4dcc-9b3d-70cd4b878ee2   5300.6  POINT (-78.12834 2.22013)   \n",
       "\n",
       "                                       mean_tb  mean_pp   max_pp  \\\n",
       "belong        id_gdf                                               \n",
       "001c2463-06e7 4383-bcad-fc9d0f669f55  223.1638   3.1587   5.9144   \n",
       "              452f-89cc-a6336711ff1c  222.7266   3.3044   5.9730   \n",
       "              4980-8968-59a8c88925e9  217.5831   4.4978   8.4378   \n",
       "              4ef7-9d41-2133e9674c99  222.3609   3.9170  15.5196   \n",
       "00321212-27b1 4acb-92f8-fc527943bb68  220.1129      NaN      NaN   \n",
       "...                                        ...      ...      ...   \n",
       "ffcdebf4-efff 42e4-9d7f-a7e3dd6423fb  218.7538   5.4267  14.6697   \n",
       "              4478-86af-07c7660c4d93  220.7396   4.7531  12.2553   \n",
       "              44d5-ac48-02c19127d00e  224.8508   5.8867  16.7848   \n",
       "              47c7-8215-3fd96d947e0b  218.1037   5.7096  13.7417   \n",
       "              4dcc-9b3d-70cd4b878ee2  210.7928   7.8008  23.9949   \n",
       "\n",
       "                                      intersection_percentage  distance_c  \\\n",
       "belong        id_gdf                                                        \n",
       "001c2463-06e7 4383-bcad-fc9d0f669f55                     40.1         NaN   \n",
       "              452f-89cc-a6336711ff1c                      NaN   35.510231   \n",
       "              4980-8968-59a8c88925e9                     53.3   27.719698   \n",
       "              4ef7-9d41-2133e9674c99                     48.8   16.382385   \n",
       "00321212-27b1 4acb-92f8-fc527943bb68                      NaN   32.482982   \n",
       "...                                                       ...         ...   \n",
       "ffcdebf4-efff 42e4-9d7f-a7e3dd6423fb                     70.2   23.827398   \n",
       "              4478-86af-07c7660c4d93                     55.3   11.431202   \n",
       "              44d5-ac48-02c19127d00e                      NaN   11.022444   \n",
       "              47c7-8215-3fd96d947e0b                     78.7   23.534710   \n",
       "              4dcc-9b3d-70cd4b878ee2                     38.4         NaN   \n",
       "\n",
       "                                      direction total_duration total_distance  \\\n",
       "belong        id_gdf                                                            \n",
       "001c2463-06e7 4383-bcad-fc9d0f669f55        NaN              4      79.612314   \n",
       "              452f-89cc-a6336711ff1c      260.5              4      79.612314   \n",
       "              4980-8968-59a8c88925e9       22.0              4      79.612314   \n",
       "              4ef7-9d41-2133e9674c99      319.3              4      79.612314   \n",
       "00321212-27b1 4acb-92f8-fc527943bb68       48.1              2      32.482982   \n",
       "...                                         ...            ...            ...   \n",
       "ffcdebf4-efff 42e4-9d7f-a7e3dd6423fb      203.1              5      69.815754   \n",
       "              4478-86af-07c7660c4d93      318.7              5      69.815754   \n",
       "              44d5-ac48-02c19127d00e      181.1              5      69.815754   \n",
       "              47c7-8215-3fd96d947e0b        9.6              5      69.815754   \n",
       "              4dcc-9b3d-70cd4b878ee2        NaN              5      69.815754   \n",
       "\n",
       "                                     mean_velocity  \n",
       "belong        id_gdf                                \n",
       "001c2463-06e7 4383-bcad-fc9d0f669f55     19.903078  \n",
       "              452f-89cc-a6336711ff1c     19.903078  \n",
       "              4980-8968-59a8c88925e9     19.903078  \n",
       "              4ef7-9d41-2133e9674c99     19.903078  \n",
       "00321212-27b1 4acb-92f8-fc527943bb68     16.241491  \n",
       "...                                            ...  \n",
       "ffcdebf4-efff 42e4-9d7f-a7e3dd6423fb     13.963151  \n",
       "              4478-86af-07c7660c4d93     13.963151  \n",
       "              44d5-ac48-02c19127d00e     13.963151  \n",
       "              47c7-8215-3fd96d947e0b     13.963151  \n",
       "              4dcc-9b3d-70cd4b878ee2     13.963151  \n",
       "\n",
       "[3201 rows x 13 columns]"
      ]
     },
     "execution_count": 14,
     "metadata": {},
     "output_type": "execute_result"
    }
   ],
   "source": [
    "tracks_l"
   ]
  },
  {
   "cell_type": "code",
   "execution_count": 15,
   "metadata": {},
   "outputs": [
    {
     "data": {
      "text/plain": [
       "<Geographic 2D CRS: EPSG:4326>\n",
       "Name: WGS 84\n",
       "Axis Info [ellipsoidal]:\n",
       "- Lat[north]: Geodetic latitude (degree)\n",
       "- Lon[east]: Geodetic longitude (degree)\n",
       "Area of Use:\n",
       "- name: World.\n",
       "- bounds: (-180.0, -90.0, 180.0, 90.0)\n",
       "Datum: World Geodetic System 1984\n",
       "- Ellipsoid: WGS 84\n",
       "- Prime Meridian: Greenwich"
      ]
     },
     "execution_count": 15,
     "metadata": {},
     "output_type": "execute_result"
    }
   ],
   "source": [
    "tracks_l.crs"
   ]
  },
  {
   "cell_type": "code",
   "execution_count": 16,
   "metadata": {},
   "outputs": [
    {
     "name": "stdout",
     "output_type": "stream",
     "text": [
      "total tracks detected: 1208 and total MCS detected: 3201\n"
     ]
    }
   ],
   "source": [
    "#Total tracks and MCS detected \n",
    "\n",
    "print (\"total tracks detected: \" + str(len(tracks_l.index.levels[0])) + \" and total MCS detected: \" + str(len(tracks_l.index.levels[1])))"
   ]
  },
  {
   "cell_type": "markdown",
   "metadata": {},
   "source": [
    "### As the last step, let is reload the tracks results from the local storage and plot the MCS with the help of the folium library.\n",
    "\n",
    "The read process tracks is handled with the function `funcs.readTRACKS()`.\n"
   ]
  },
  {
   "cell_type": "code",
   "execution_count": 17,
   "metadata": {},
   "outputs": [
    {
     "name": "stdout",
     "output_type": "stream",
     "text": [
      "total tracks that last less than 10 hours : 20 and total MCS detected: 227\n"
     ]
    }
   ],
   "source": [
    "#-------------------Load results-------------------\n",
    "tracks_l = funcs.readTRACKS('1_output_data/resume_Tb_P_2019_12_24_19_2019_12_31_17.csv')\n",
    "\n",
    "#---------Discarding tracks that last less than 10 hours--------\n",
    "tracks_l = tracks_l.reset_index()\n",
    "tracks_l = tracks_l[tracks_l.total_duration >= 10].sort_index()\n",
    "tracks_l = tracks_l.set_index([\"belong\", \"id_gdf\"])\n",
    "tracks_l = tracks_l.sort_index()\n",
    "\n",
    "print (\"total tracks that last less than 10 hours : \" + str(len(tracks_l.index.levels[0])) + \" and total MCS detected: \" + str(len(tracks_l.index.levels[1])))"
   ]
  },
  {
   "cell_type": "markdown",
   "metadata": {},
   "source": [
    "The function `funcs.plot_folium()` saves the `.html` result and return the path where was saved.\n"
   ]
  },
  {
   "cell_type": "code",
   "execution_count": 18,
   "metadata": {
    "scrolled": true
   },
   "outputs": [],
   "source": [
    "path_html_folium = funcs.plot_folium(tracks_l, location = LOCATION_FOLIUM, path_save = OUTDIR)"
   ]
  },
  {
   "cell_type": "code",
   "execution_count": 19,
   "metadata": {},
   "outputs": [
    {
     "data": {
      "text/html": [
       "<iframe src=1_output_data/map_Tb_P_2019_12_24_19_2019_12_31_10.html width=1000 height=500></iframe>"
      ],
      "text/plain": [
       "<IPython.core.display.HTML object>"
      ]
     },
     "execution_count": 19,
     "metadata": {},
     "output_type": "execute_result"
    }
   ],
   "source": [
    "import IPython\n",
    "iframe = '<iframe src=' + path_html_folium + ' width=1000 height=500></iframe>'\n",
    "IPython.display.HTML(iframe)"
   ]
  }
 ],
 "metadata": {
  "kernelspec": {
   "display_name": "Python 3 (ipykernel)",
   "language": "python",
   "name": "python3"
  },
  "language_info": {
   "codemirror_mode": {
    "name": "ipython",
    "version": 3
   },
   "file_extension": ".py",
   "mimetype": "text/x-python",
   "name": "python",
   "nbconvert_exporter": "python",
   "pygments_lexer": "ipython3",
   "version": "3.8.15"
  }
 },
 "nbformat": 4,
 "nbformat_minor": 4
}
