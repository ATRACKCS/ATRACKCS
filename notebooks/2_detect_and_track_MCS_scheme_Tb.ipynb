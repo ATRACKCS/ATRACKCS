{
 "cells": [
  {
   "cell_type": "markdown",
   "metadata": {
    "tags": []
   },
   "source": [
    "# Track Mesoescale Convective Systems (MCS) at consecutive time steps to form tracks with a scheme based on brightness temperature\n",
    "\n",
    "This notebook tracks detected MCS at individual time steps to form tracks. In production, you can use the `scripts/2_detect_and_track_MCS_scheme_Tb.py` for this step.\n",
    "\n",
    "ATRACKCS is a Python package for the automated detection and tracking of MCS. It is a potential tool for characterizing their spatio-temporal distribution and evolution. ATRACKCS provides a set of Python functions designed for a workflow analysis  that includes the detection and characterization of  MCS, as well as the integration in tracks, allowing detailed monitoring of the MCS life cycle both in space and time.\n",
    "\n",
    "ATRACKCS uses brightness temperature (Tb) and precipitation (P) coming from satellite data and can operate with Tb as the only input variable or associating precipitation features. Although the magnitude of Tb does not represent a direct measurement of P, it is an indirect representation of cloud cover height associated with an MCS event. Some methodologies for MCS detection use other satellite spectral bands as a proxy for P. The algorithm parameterization can be adapted to the needs of the MCS detection, as the user is allowed to define the thresholds of Tb and P. The parameterization in this notebook is only based on the use of Tb.\n",
    "\n",
    "## The detection of the MCS (regions) is performed using these steps:\n",
    "\n",
    "1. At a given time step, the algorithm finds all pixels where `Tb` $\\le 215 K$ and defines approximate regions with the convex hull, using a binary structure where the pixels that satisfy the described condition are equal to $1$ and the remaining pixels are equal to $0$.\n",
    "2. Transform from geographic to plane coordinates and compute an approximate area of the defined regions.\n",
    "3. Discard all regions whose area is $< 1000 km^2$.\n",
    "4. Estimate the average, minimum and maximum brightness temperature of those regions.\n",
    "\n",
    "## The tracks are performed using these steps:\n",
    "\n",
    "Specifically, assume we have detected $n$ MSC at time $t$, and $m$ MSC at time $t+1$. There are theoretically $n \\times m$ possible associations to link these two groups of MCS.  Of course not all of them are meaningful. The rules that are applied in the association process are:\n",
    "\n",
    "1. **overlapping priority** principle: for any MCS at time t, the MCS with the highest overlap percentage at time t+1 \"wins\" and is associated with it.\n",
    "2. The MCS (with lower or no overlap percentages) at time $t+1$ could form a track on their own, and are left to be associated in the next iteration between $t+1$ and $t+2$.\n",
    "3. No merging or splitting is allowed, any MCS at time $t$ can only be linked to one MCS at time $t+1$, similarly, any MCS at time $t+1$ can only be linked to one MCS at time $t$.\n",
    "4. All tracks that do not get updated during the $t$ - $t+1$ process terminate. This assumes that no gap in the track is allowed. \n",
    "5. Discard tracks that last 2 hours or less.\n",
    "\n",
    "## Input data\n",
    "\n",
    "**Brightness Temperature:**\n",
    "NCEP/CPC L3 (Merge IR V1): Spatial and temporal resolution is 4 km and 30 minutes, \n",
    "data availability from February 7, 2000 to present. The interest variable of this dataset is `Tb` and the files format must be `netCDF4`.\n",
    "https://doi.org/10.5067/P4HZB9N27EKU\n",
    "\n",
    "We suggest the option `subset/get data` and use `OpenDAP` method for downloading and refining the date range and interest region.\n",
    "\n",
    "In this case the algorithm is run for 2 days (2001/12/30/ 00 (UTC) - 2001/12/31/ 22 (UTC)) for northern South America. The input data are in the notebooks folder in the repository. The raw data can be downloaded with the link at the top.\n",
    "\n",
    "## Steps\n",
    "\n",
    "1. Make sure you have successfully installed the ATRACKCS library.\n",
    "2. Execute the following code blocks in sequence.\n",
    "\n",
    "## Results\n",
    "\n",
    "* `resume_Tb_2001_12_29_19_2001_12_31_13.csv`: a csv table listing various attributes for the tracks and MCS associated.\n",
    "* `map_Tb_2001_12_29_19_2001_12_31_13.html` (folium): plot of the geographical locations of the MSC with informations that links to the associaded tracks and features of the MSC.\n",
    "\n",
    "## Bibliography\n",
    "* Feng, Z., Leung, L. R., Liu, N., Wang, J., Houze, R. A., Li, J., Hardin, J. C., Chen, D., & Guo, J. (2021). A Global High‐resolution Mesoscale Convective System Database using Satellite‐derived Cloud Tops, Surface Precipitation, and Tracking. Journal of Geophysical Research: Atmospheres. https://doi.org/10.1029/2020jd034202\n",
    "* Li, J., Feng, Z., Qian, Y., & Leung, L. R. (2020). A high-resolution unified observational data product of mesoscale convective systems and isolated deep convection in the United States for 2004–2017. Earth System Science Data Discussions, October, 1–48. https://doi.org/10.5194/essd-2020-151\n",
    "* Liu, W., Cook, K. H., & Vizy, E. K. (2019). The role of mesoscale convective systems in the diurnal cycle of rainfall and its seasonality over sub-Saharan Northern Africa. Climate Dynamics, 52(1–2), 729–745. https://doi.org/10.1007/s00382-018-4162-y\n",
    "* Vizy, E. K., & Cook, K. H. (2018). Mesoscale convective systems and nocturnal rainfall over the West African Sahel: role of the Inter-tropical front. Climate Dynamics, 50(1–2), 587–614. https://doi.org/10.1007/s00382-017-3628-7"
   ]
  },
  {
   "cell_type": "markdown",
   "metadata": {},
   "source": [
    "### Set paths\n",
    "\n",
    "First of all we assign the locations to the input (raw data) using `TBDIR` and output data using `OUTDIR`."
   ]
  },
  {
   "cell_type": "code",
   "execution_count": 1,
   "metadata": {
    "scrolled": true
   },
   "outputs": [],
   "source": [
    "%matplotlib inline\n",
    "import os\n",
    "\n",
    "TBDIR=os.path.join('2_input_data', 'tb/')\n",
    "\n",
    "OUTDIR=os.path.join('2_output_data/')"
   ]
  },
  {
   "cell_type": "markdown",
   "metadata": {},
   "source": [
    "### Parameters used in the MCS detection and tracking process\n",
    "\n",
    "* `UTM_LOCAL_ZONE`: int, is needed for converting the WGS geodetic coordinate system to plane coordinate system. This is a constant that must be asociated with the interest region. \n",
    "* `UTC_LOCAL_HOUR`: int, is needed for converting the raw data hour (UTC) to a local hour (interest region).\n",
    "* `UTC_LOCAL_SIGN`: str (minus, plus, local), is needed for converting the raw data hour (UTC) to a local hour (interest region).\n",
    "* `DETECT_SCHEME`: str (Tb, Both), association scheme: Tb or Both (Tb and P). \n",
    "* `TB`: int, MCS based on limited maximun threshold cold cloud top.\n",
    "* `AREA_TB`: int, MCS with a minimun largest area.\n",
    "* `THRESHOLD_OVERLAPPING_P`: int, percentage overlap limit between MCS to be considered part of the track.\n",
    "* `LOCATION_FOLIUM`: list (lat, lon), location for center the map_folium.\n",
    "* `MIN_DURATION`: int, for filtering tracks based on minimun duration."
   ]
  },
  {
   "cell_type": "code",
   "execution_count": 2,
   "metadata": {
    "scrolled": true
   },
   "outputs": [],
   "source": [
    "#32718 is the UTM zone 18S plane coordinate system. \n",
    "#It was Used for tracking MCS in South America - Colombia.\n",
    "UTM_LOCAL_ZONE = 32718 \n",
    "\n",
    "#UTC-5 is the local hour for Colombia\n",
    "UTC_LOCAL_HOUR = 5\n",
    "UTC_LOCAL_SIGN = \"minus\"\n",
    "\n",
    "#Scheme of association\n",
    "DETECT_SCHEME = \"Tb\"\n",
    "\n",
    "TB = 215 #deep convection regions\n",
    "\n",
    "AREA_TB = 1000\n",
    "\n",
    "THRESHOLD_OVERLAPPING_P = 15\n",
    "\n",
    "LOCATION_FOLIUM = [5, -73.94]\n",
    "\n",
    "MIN_DURATION = 3"
   ]
  },
  {
   "cell_type": "markdown",
   "metadata": {},
   "source": [
    "### Importing modules"
   ]
  },
  {
   "cell_type": "code",
   "execution_count": 3,
   "metadata": {
    "scrolled": true
   },
   "outputs": [],
   "source": [
    "#--------Import modules-------------------------\n",
    "from atrackcs.utils import funcs\n",
    "from atrackcs.detect import detect_mcs\n",
    "from atrackcs.features import features_Tb, features_Tracks\n",
    "from atrackcs.track import track_mcs"
   ]
  },
  {
   "cell_type": "markdown",
   "metadata": {},
   "source": [
    "### Reading raw Tb data.\n",
    "\n",
    "The reading process is handled with the function `funcs.readNC()`.\n",
    "\n",
    "Also make sure the output folder exists."
   ]
  },
  {
   "cell_type": "code",
   "execution_count": 4,
   "metadata": {
    "scrolled": true
   },
   "outputs": [
    {
     "name": "stdout",
     "output_type": "stream",
     "text": [
      "Complete Tb data reading 2001-12-29T19:00 - 2001-12-31T17:00\n"
     ]
    }
   ],
   "source": [
    "ds = funcs.readNC(pathTb = TBDIR, pathP =None, utc_local_hour = UTC_LOCAL_HOUR, \n",
    "                  utc_local_sign = UTC_LOCAL_SIGN)\n",
    "\n",
    "if not os.path.exists(OUTDIR):\n",
    "    os.makedirs(OUTDIR)"
   ]
  },
  {
   "cell_type": "markdown",
   "metadata": {},
   "source": [
    "The detection process is handled with the function `detect_mcs()`.\n",
    "\n",
    "* `ds` is the `xarray.Dataset` object we just read in."
   ]
  },
  {
   "cell_type": "markdown",
   "metadata": {},
   "source": [
    "### Detecting MCS"
   ]
  },
  {
   "cell_type": "code",
   "execution_count": 5,
   "metadata": {},
   "outputs": [
    {
     "name": "stdout",
     "output_type": "stream",
     "text": [
      "MCS detection completed\n"
     ]
    }
   ],
   "source": [
    "mcs_l = detect_mcs(ds, detect_scheme = DETECT_SCHEME, Tb = TB, area_Tb = AREA_TB, \n",
    "                   utm_local_zone = UTM_LOCAL_ZONE, path_save = None)"
   ]
  },
  {
   "cell_type": "markdown",
   "metadata": {},
   "source": [
    "The MCS Tb features is handled with the function `features_Tb()`.\n",
    "\n",
    "* `mcs_l` is the `Geopandas.GeoDataFrame` object we just created in the detection process."
   ]
  },
  {
   "cell_type": "code",
   "execution_count": 6,
   "metadata": {},
   "outputs": [
    {
     "name": "stdout",
     "output_type": "stream",
     "text": [
      "Estimating MCS's brightness temperature attributes: \n"
     ]
    },
    {
     "name": "stderr",
     "output_type": "stream",
     "text": [
      "100%|████████████████████████████████████████████████████████████████████████████████| 978/978 [01:07<00:00, 14.52it/s]\n"
     ]
    }
   ],
   "source": [
    "mcs_l = features_Tb(mcs_l, ds)"
   ]
  },
  {
   "cell_type": "markdown",
   "metadata": {},
   "source": [
    "* `mcs_l` is the `geopandas.GeoDataFrame` object we just created in the tracking process.\n",
    "\n",
    "Each `row` object in `mcs_l` stores a MCS record. We can have a peak into what `msc_l` columns contains so far. \n",
    "\n",
    "* `time`: datetime64, hour (UTC-5) for this case.\n",
    "* `Tb`: float, polygon index after being filtered by the established parameterization.\n",
    "* `geometry`: geometry, MCS polygon (convex hull). To view the coordinate reference system of the geometry column, access the crs attribute. For this case is `EPSG:32718`.\n",
    "* `area_Tb`: float, area polygon [$km^2$]\n",
    "* `centroid_`: geometry, geometric centroid polygon (convex hull). The crs in  this case is `EPSG:32718`.\n",
    "* `mean_tb`: float, brightness temperature average of the pixels composing the polygon. [$K$]\n",
    "* `min_tb`: float, brightness temperature min value of the pixels composing the polygon. [$K$]\n",
    "* `max_tb`: float, brightness temperature max value of the pixels composing the polygon. [$K$]\n",
    "\n",
    "For this case 979 MCS were detected with the selected parameterization."
   ]
  },
  {
   "cell_type": "code",
   "execution_count": 7,
   "metadata": {
    "scrolled": true
   },
   "outputs": [
    {
     "data": {
      "text/html": [
       "<div>\n",
       "<style scoped>\n",
       "    .dataframe tbody tr th:only-of-type {\n",
       "        vertical-align: middle;\n",
       "    }\n",
       "\n",
       "    .dataframe tbody tr th {\n",
       "        vertical-align: top;\n",
       "    }\n",
       "\n",
       "    .dataframe thead th {\n",
       "        text-align: right;\n",
       "    }\n",
       "</style>\n",
       "<table border=\"1\" class=\"dataframe\">\n",
       "  <thead>\n",
       "    <tr style=\"text-align: right;\">\n",
       "      <th></th>\n",
       "      <th>time</th>\n",
       "      <th>Tb</th>\n",
       "      <th>geometry</th>\n",
       "      <th>area_tb</th>\n",
       "      <th>centroid_</th>\n",
       "      <th>mean_tb</th>\n",
       "      <th>min_tb</th>\n",
       "      <th>max_tb</th>\n",
       "    </tr>\n",
       "  </thead>\n",
       "  <tbody>\n",
       "    <tr>\n",
       "      <th>0</th>\n",
       "      <td>2001-12-29 19:00:00</td>\n",
       "      <td>4.0</td>\n",
       "      <td>POLYGON ((588581.067 8980308.452, 560619.762 8...</td>\n",
       "      <td>6881.7</td>\n",
       "      <td>POINT (596434.594 9030696.135)</td>\n",
       "      <td>206.3886</td>\n",
       "      <td>196.0</td>\n",
       "      <td>219.0</td>\n",
       "    </tr>\n",
       "    <tr>\n",
       "      <th>1</th>\n",
       "      <td>2001-12-29 19:00:00</td>\n",
       "      <td>5.0</td>\n",
       "      <td>POLYGON ((756503.800 8983596.395, 752530.163 8...</td>\n",
       "      <td>1788.7</td>\n",
       "      <td>POINT (779127.063 9001996.176)</td>\n",
       "      <td>208.6316</td>\n",
       "      <td>203.0</td>\n",
       "      <td>221.0</td>\n",
       "    </tr>\n",
       "    <tr>\n",
       "      <th>2</th>\n",
       "      <td>2001-12-29 19:00:00</td>\n",
       "      <td>6.0</td>\n",
       "      <td>POLYGON ((456662.179 9024635.193, 436580.870 9...</td>\n",
       "      <td>9958.2</td>\n",
       "      <td>POINT (496475.685 9079680.424)</td>\n",
       "      <td>208.5105</td>\n",
       "      <td>196.0</td>\n",
       "      <td>235.0</td>\n",
       "    </tr>\n",
       "    <tr>\n",
       "      <th>3</th>\n",
       "      <td>2001-12-29 19:00:00</td>\n",
       "      <td>14.0</td>\n",
       "      <td>POLYGON ((1043090.386 9162378.939, 1031053.674...</td>\n",
       "      <td>1423.4</td>\n",
       "      <td>POINT (1042465.448 9183727.004)</td>\n",
       "      <td>209.6966</td>\n",
       "      <td>204.0</td>\n",
       "      <td>216.0</td>\n",
       "    </tr>\n",
       "    <tr>\n",
       "      <th>4</th>\n",
       "      <td>2001-12-29 19:00:00</td>\n",
       "      <td>16.0</td>\n",
       "      <td>POLYGON ((332056.056 9177224.939, 324010.729 9...</td>\n",
       "      <td>22988.6</td>\n",
       "      <td>POINT (383921.811 9259032.613)</td>\n",
       "      <td>206.5761</td>\n",
       "      <td>195.0</td>\n",
       "      <td>231.0</td>\n",
       "    </tr>\n",
       "    <tr>\n",
       "      <th>...</th>\n",
       "      <td>...</td>\n",
       "      <td>...</td>\n",
       "      <td>...</td>\n",
       "      <td>...</td>\n",
       "      <td>...</td>\n",
       "      <td>...</td>\n",
       "      <td>...</td>\n",
       "      <td>...</td>\n",
       "    </tr>\n",
       "    <tr>\n",
       "      <th>974</th>\n",
       "      <td>2001-12-31 17:00:00</td>\n",
       "      <td>88.0</td>\n",
       "      <td>POLYGON ((1324502.020 10148030.754, 1316327.87...</td>\n",
       "      <td>2217.7</td>\n",
       "      <td>POINT (1325217.005 10182458.642)</td>\n",
       "      <td>209.2093</td>\n",
       "      <td>204.0</td>\n",
       "      <td>215.0</td>\n",
       "    </tr>\n",
       "    <tr>\n",
       "      <th>975</th>\n",
       "      <td>2001-12-31 17:00:00</td>\n",
       "      <td>94.0</td>\n",
       "      <td>POLYGON ((-185800.524 10912282.073, -185482.70...</td>\n",
       "      <td>2668.7</td>\n",
       "      <td>POINT (-154911.838 10955537.688)</td>\n",
       "      <td>212.8415</td>\n",
       "      <td>208.0</td>\n",
       "      <td>222.0</td>\n",
       "    </tr>\n",
       "    <tr>\n",
       "      <th>976</th>\n",
       "      <td>2001-12-31 17:00:00</td>\n",
       "      <td>95.0</td>\n",
       "      <td>POLYGON ((-261845.639 10945946.695, -261772.99...</td>\n",
       "      <td>6082.0</td>\n",
       "      <td>POINT (-206888.235 10997871.976)</td>\n",
       "      <td>213.8760</td>\n",
       "      <td>211.0</td>\n",
       "      <td>225.0</td>\n",
       "    </tr>\n",
       "    <tr>\n",
       "      <th>977</th>\n",
       "      <td>2001-12-31 17:00:00</td>\n",
       "      <td>101.0</td>\n",
       "      <td>POLYGON ((66392.993 11159093.993, 58464.441 11...</td>\n",
       "      <td>2668.3</td>\n",
       "      <td>POINT (70470.248 11192769.061)</td>\n",
       "      <td>215.7267</td>\n",
       "      <td>209.0</td>\n",
       "      <td>228.0</td>\n",
       "    </tr>\n",
       "    <tr>\n",
       "      <th>978</th>\n",
       "      <td>2001-12-31 17:00:00</td>\n",
       "      <td>107.0</td>\n",
       "      <td>POLYGON ((-160163.913 11223371.020, -315027.04...</td>\n",
       "      <td>24393.6</td>\n",
       "      <td>POINT (-209630.327 11305310.491)</td>\n",
       "      <td>NaN</td>\n",
       "      <td>NaN</td>\n",
       "      <td>NaN</td>\n",
       "    </tr>\n",
       "  </tbody>\n",
       "</table>\n",
       "<p>979 rows × 8 columns</p>\n",
       "</div>"
      ],
      "text/plain": [
       "                   time     Tb  \\\n",
       "0   2001-12-29 19:00:00    4.0   \n",
       "1   2001-12-29 19:00:00    5.0   \n",
       "2   2001-12-29 19:00:00    6.0   \n",
       "3   2001-12-29 19:00:00   14.0   \n",
       "4   2001-12-29 19:00:00   16.0   \n",
       "..                  ...    ...   \n",
       "974 2001-12-31 17:00:00   88.0   \n",
       "975 2001-12-31 17:00:00   94.0   \n",
       "976 2001-12-31 17:00:00   95.0   \n",
       "977 2001-12-31 17:00:00  101.0   \n",
       "978 2001-12-31 17:00:00  107.0   \n",
       "\n",
       "                                              geometry  area_tb  \\\n",
       "0    POLYGON ((588581.067 8980308.452, 560619.762 8...   6881.7   \n",
       "1    POLYGON ((756503.800 8983596.395, 752530.163 8...   1788.7   \n",
       "2    POLYGON ((456662.179 9024635.193, 436580.870 9...   9958.2   \n",
       "3    POLYGON ((1043090.386 9162378.939, 1031053.674...   1423.4   \n",
       "4    POLYGON ((332056.056 9177224.939, 324010.729 9...  22988.6   \n",
       "..                                                 ...      ...   \n",
       "974  POLYGON ((1324502.020 10148030.754, 1316327.87...   2217.7   \n",
       "975  POLYGON ((-185800.524 10912282.073, -185482.70...   2668.7   \n",
       "976  POLYGON ((-261845.639 10945946.695, -261772.99...   6082.0   \n",
       "977  POLYGON ((66392.993 11159093.993, 58464.441 11...   2668.3   \n",
       "978  POLYGON ((-160163.913 11223371.020, -315027.04...  24393.6   \n",
       "\n",
       "                            centroid_   mean_tb  min_tb  max_tb  \n",
       "0      POINT (596434.594 9030696.135)  206.3886   196.0   219.0  \n",
       "1      POINT (779127.063 9001996.176)  208.6316   203.0   221.0  \n",
       "2      POINT (496475.685 9079680.424)  208.5105   196.0   235.0  \n",
       "3     POINT (1042465.448 9183727.004)  209.6966   204.0   216.0  \n",
       "4      POINT (383921.811 9259032.613)  206.5761   195.0   231.0  \n",
       "..                                ...       ...     ...     ...  \n",
       "974  POINT (1325217.005 10182458.642)  209.2093   204.0   215.0  \n",
       "975  POINT (-154911.838 10955537.688)  212.8415   208.0   222.0  \n",
       "976  POINT (-206888.235 10997871.976)  213.8760   211.0   225.0  \n",
       "977    POINT (70470.248 11192769.061)  215.7267   209.0   228.0  \n",
       "978  POINT (-209630.327 11305310.491)       NaN     NaN     NaN  \n",
       "\n",
       "[979 rows x 8 columns]"
      ]
     },
     "execution_count": 7,
     "metadata": {},
     "output_type": "execute_result"
    }
   ],
   "source": [
    "mcs_l"
   ]
  },
  {
   "cell_type": "code",
   "execution_count": 8,
   "metadata": {},
   "outputs": [
    {
     "data": {
      "text/plain": [
       "<Projected CRS: EPSG:32718>\n",
       "Name: WGS 84 / UTM zone 18S\n",
       "Axis Info [cartesian]:\n",
       "- E[east]: Easting (metre)\n",
       "- N[north]: Northing (metre)\n",
       "Area of Use:\n",
       "- name: Between 78°W and 72°W, southern hemisphere between 80°S and equator, onshore and offshore. Argentina. Brazil. Chile. Colombia. Ecuador. Peru.\n",
       "- bounds: (-78.0, -80.0, -72.0, 0.0)\n",
       "Coordinate Operation:\n",
       "- name: UTM zone 18S\n",
       "- method: Transverse Mercator\n",
       "Datum: World Geodetic System 1984\n",
       "- Ellipsoid: WGS 84\n",
       "- Prime Meridian: Greenwich"
      ]
     },
     "execution_count": 8,
     "metadata": {},
     "output_type": "execute_result"
    }
   ],
   "source": [
    "mcs_l.crs"
   ]
  },
  {
   "cell_type": "markdown",
   "metadata": {},
   "source": [
    "### Tracking MCS\n",
    "\n",
    "The tracking process is handled with the function `track_mcs()`. However, these have not been characterized in this phase. The tracks features are handled with the function `features_Tracks()`."
   ]
  },
  {
   "cell_type": "code",
   "execution_count": 9,
   "metadata": {
    "scrolled": true
   },
   "outputs": [
    {
     "name": "stdout",
     "output_type": "stream",
     "text": [
      "Estimating trajectories: \n"
     ]
    },
    {
     "name": "stderr",
     "output_type": "stream",
     "text": [
      "100%|████████████████████████████████████████████████████████████████████████████████| 978/978 [01:32<00:00, 10.57it/s]\n"
     ]
    }
   ],
   "source": [
    "tracks_l = track_mcs(mcs_l, threshold_overlapping_percentage = THRESHOLD_OVERLAPPING_P, utm_local_zone = UTM_LOCAL_ZONE,\n",
    "                path_save = None)"
   ]
  },
  {
   "cell_type": "code",
   "execution_count": 10,
   "metadata": {},
   "outputs": [
    {
     "name": "stdout",
     "output_type": "stream",
     "text": [
      "Estimating distance and direction between geometrics centroids: \n"
     ]
    },
    {
     "name": "stderr",
     "output_type": "stream",
     "text": [
      "100%|████████████████████████████████████████████████████████████████████████████████| 580/580 [00:15<00:00, 38.03it/s]\n"
     ]
    }
   ],
   "source": [
    "tracks_l = features_Tracks(tracks_l, initial_time_hour = MIN_DURATION,\n",
    "                         path_save = OUTDIR)"
   ]
  },
  {
   "cell_type": "markdown",
   "metadata": {},
   "source": [
    "* `tracks_l` is a `geopandas.GeoDataFrame` object we just created in the tracking process and stores the MCS polygons and the tracks. \n",
    "* This `GeoDataFrame` contains exactly the information previously referenced except for the dropping of some features associated to the brightness temperature and some characteristics generated for the tracks.\n",
    "* The indexing of this object is a `pandas.MultiIndex` since it hierarchically associates an id for each track and an id for each MCS.\n",
    "* The indexing of this object is encrypted generated using the `uuid` library. To disable encryption use the parameter `encrypt_index = False` in the `features_Tracks()` function. The index generated when not using encryption is a `int` iteration result  of the tracking process.\n",
    "* The indexes encryption is useful when processing a long period of time and must iterate for smaller periods of time, for example every 6 months. This is a limitation imposed by the hardware used to run the algorithm.\n",
    "\n",
    "We can have a peak into what `tracks_l` new columns contains. \n",
    "\n",
    "\n",
    "* `belong`: str, encrypted index generated for each track.\n",
    "* `id_gdf`: str, encrypted index generated for each MCS.\n",
    "* `geometry`: geometry, polygon. The crs is `EPSG:4326-WGS84`\n",
    "* `centroid_`: geometry, geometric centroid polygon. The crs is `EPSG:4326`.\n",
    "* `intersection_percentage`: float, percentage overlap between MCS [%].\n",
    "* `distance_c`: float, distance between the overlapping geometric centroids of the MCS [km].\n",
    "* `direction`: float, direction between the overlapping geometric centroids of the MCS [°].\n",
    "* `total_duration`: float, total duration of the event or the track. This value is associated to each MCS of the corresponding track [h]. \n",
    "* `total_distance`: float, total distance of the event or the track. This value is associated to each MCS of the corresponding track [km]. \n",
    "* `mean_velocity`: float, velocity average of the  event or the track. This value is associated to each MCS of the corresponding track [$km \\times {h^{-1}}$]. "
   ]
  },
  {
   "cell_type": "code",
   "execution_count": 11,
   "metadata": {},
   "outputs": [
    {
     "data": {
      "text/html": [
       "<div>\n",
       "<style scoped>\n",
       "    .dataframe tbody tr th:only-of-type {\n",
       "        vertical-align: middle;\n",
       "    }\n",
       "\n",
       "    .dataframe tbody tr th {\n",
       "        vertical-align: top;\n",
       "    }\n",
       "\n",
       "    .dataframe thead th {\n",
       "        text-align: right;\n",
       "    }\n",
       "</style>\n",
       "<table border=\"1\" class=\"dataframe\">\n",
       "  <thead>\n",
       "    <tr style=\"text-align: right;\">\n",
       "      <th></th>\n",
       "      <th></th>\n",
       "      <th>time</th>\n",
       "      <th>geometry</th>\n",
       "      <th>area_tb</th>\n",
       "      <th>centroid_</th>\n",
       "      <th>mean_tb</th>\n",
       "      <th>intersection_percentage</th>\n",
       "      <th>distance_c</th>\n",
       "      <th>direction</th>\n",
       "      <th>total_duration</th>\n",
       "      <th>total_distance</th>\n",
       "      <th>mean_velocity</th>\n",
       "    </tr>\n",
       "    <tr>\n",
       "      <th>belong</th>\n",
       "      <th>id_gdf</th>\n",
       "      <th></th>\n",
       "      <th></th>\n",
       "      <th></th>\n",
       "      <th></th>\n",
       "      <th></th>\n",
       "      <th></th>\n",
       "      <th></th>\n",
       "      <th></th>\n",
       "      <th></th>\n",
       "      <th></th>\n",
       "      <th></th>\n",
       "    </tr>\n",
       "  </thead>\n",
       "  <tbody>\n",
       "    <tr>\n",
       "      <th rowspan=\"3\" valign=\"top\">1289561f-e0e3</th>\n",
       "      <th>48f4-80f4-de9a2382d590</th>\n",
       "      <td>2001-12-29 23:00:00</td>\n",
       "      <td>POLYGON ((-79.14107 7.76835, -79.21382 7.80473...</td>\n",
       "      <td>2414.0</td>\n",
       "      <td>POINT (-79.01020 8.07086)</td>\n",
       "      <td>210.7297</td>\n",
       "      <td>35.0</td>\n",
       "      <td>NaN</td>\n",
       "      <td>NaN</td>\n",
       "      <td>3</td>\n",
       "      <td>54.069248</td>\n",
       "      <td>18.023083</td>\n",
       "    </tr>\n",
       "    <tr>\n",
       "      <th>4a58-90d1-a42d1848e81a</th>\n",
       "      <td>2001-12-30 02:00:00</td>\n",
       "      <td>POLYGON ((-79.43209 6.89509, -79.54123 6.96786...</td>\n",
       "      <td>38597.2</td>\n",
       "      <td>POINT (-78.52969 8.15990)</td>\n",
       "      <td>212.1504</td>\n",
       "      <td>NaN</td>\n",
       "      <td>45.295089</td>\n",
       "      <td>81.7</td>\n",
       "      <td>3</td>\n",
       "      <td>54.069248</td>\n",
       "      <td>18.023083</td>\n",
       "    </tr>\n",
       "    <tr>\n",
       "      <th>4b99-a026-9ed11a97e73e</th>\n",
       "      <td>2001-12-30 00:00:00</td>\n",
       "      <td>POLYGON ((-79.14107 7.62280, -79.21382 7.65919...</td>\n",
       "      <td>6900.3</td>\n",
       "      <td>POINT (-78.93632 8.10040)</td>\n",
       "      <td>210.6698</td>\n",
       "      <td>17.9</td>\n",
       "      <td>8.774159</td>\n",
       "      <td>68.2</td>\n",
       "      <td>3</td>\n",
       "      <td>54.069248</td>\n",
       "      <td>18.023083</td>\n",
       "    </tr>\n",
       "    <tr>\n",
       "      <th rowspan=\"2\" valign=\"top\">16553548-86ba</th>\n",
       "      <th>40fd-ae58-fd5760d34917</th>\n",
       "      <td>2001-12-30 09:00:00</td>\n",
       "      <td>POLYGON ((-87.90825 4.71195, -88.30840 4.74833...</td>\n",
       "      <td>30899.2</td>\n",
       "      <td>POINT (-87.45844 5.57253)</td>\n",
       "      <td>215.4708</td>\n",
       "      <td>48.8</td>\n",
       "      <td>64.719231</td>\n",
       "      <td>16.2</td>\n",
       "      <td>4</td>\n",
       "      <td>243.509468</td>\n",
       "      <td>60.877367</td>\n",
       "    </tr>\n",
       "    <tr>\n",
       "      <th>4526-b0d6-2ef11a5cb448</th>\n",
       "      <td>2001-12-30 07:00:00</td>\n",
       "      <td>POLYGON ((-87.94463 4.60279, -88.05376 4.63918...</td>\n",
       "      <td>9001.5</td>\n",
       "      <td>POINT (-87.62163 5.01061)</td>\n",
       "      <td>212.7443</td>\n",
       "      <td>25.5</td>\n",
       "      <td>4.034909</td>\n",
       "      <td>46.4</td>\n",
       "      <td>4</td>\n",
       "      <td>243.509468</td>\n",
       "      <td>60.877367</td>\n",
       "    </tr>\n",
       "    <tr>\n",
       "      <th>...</th>\n",
       "      <th>...</th>\n",
       "      <td>...</td>\n",
       "      <td>...</td>\n",
       "      <td>...</td>\n",
       "      <td>...</td>\n",
       "      <td>...</td>\n",
       "      <td>...</td>\n",
       "      <td>...</td>\n",
       "      <td>...</td>\n",
       "      <td>...</td>\n",
       "      <td>...</td>\n",
       "      <td>...</td>\n",
       "    </tr>\n",
       "    <tr>\n",
       "      <th rowspan=\"2\" valign=\"top\">f864e2e8-7933</th>\n",
       "      <th>4904-b535-981b3cafcf9a</th>\n",
       "      <td>2001-12-29 19:00:00</td>\n",
       "      <td>POLYGON ((-74.19361 -9.22377, -74.44826 -9.151...</td>\n",
       "      <td>6881.7</td>\n",
       "      <td>POINT (-74.12322 -8.76789)</td>\n",
       "      <td>206.3886</td>\n",
       "      <td>51.0</td>\n",
       "      <td>NaN</td>\n",
       "      <td>NaN</td>\n",
       "      <td>3</td>\n",
       "      <td>55.467188</td>\n",
       "      <td>18.489063</td>\n",
       "    </tr>\n",
       "    <tr>\n",
       "      <th>49ac-85d0-30baa30624d0</th>\n",
       "      <td>2001-12-29 21:00:00</td>\n",
       "      <td>POLYGON ((-74.22999 -9.47847, -74.30275 -9.369...</td>\n",
       "      <td>1840.8</td>\n",
       "      <td>POINT (-74.15063 -9.26216)</td>\n",
       "      <td>213.5593</td>\n",
       "      <td>NaN</td>\n",
       "      <td>27.124123</td>\n",
       "      <td>173.7</td>\n",
       "      <td>3</td>\n",
       "      <td>55.467188</td>\n",
       "      <td>18.489063</td>\n",
       "    </tr>\n",
       "    <tr>\n",
       "      <th rowspan=\"3\" valign=\"top\">fb037325-65bb</th>\n",
       "      <th>46fb-b101-801f7d6f873f</th>\n",
       "      <td>2001-12-30 01:00:00</td>\n",
       "      <td>POLYGON ((-81.46928 6.45846, -81.61479 6.53123...</td>\n",
       "      <td>15340.5</td>\n",
       "      <td>POINT (-80.98043 7.03558)</td>\n",
       "      <td>209.6794</td>\n",
       "      <td>60.3</td>\n",
       "      <td>NaN</td>\n",
       "      <td>NaN</td>\n",
       "      <td>3</td>\n",
       "      <td>183.215099</td>\n",
       "      <td>61.0717</td>\n",
       "    </tr>\n",
       "    <tr>\n",
       "      <th>4aa9-bafb-5c3b1284a198</th>\n",
       "      <td>2001-12-30 02:00:00</td>\n",
       "      <td>POLYGON ((-80.85085 6.42208, -81.57841 6.49485...</td>\n",
       "      <td>25324.4</td>\n",
       "      <td>POINT (-80.91121 7.06723)</td>\n",
       "      <td>210.5013</td>\n",
       "      <td>21.3</td>\n",
       "      <td>8.411150</td>\n",
       "      <td>65.4</td>\n",
       "      <td>3</td>\n",
       "      <td>183.215099</td>\n",
       "      <td>61.0717</td>\n",
       "    </tr>\n",
       "    <tr>\n",
       "      <th>4ec7-8020-0477be2472f1</th>\n",
       "      <td>2001-12-30 04:00:00</td>\n",
       "      <td>POLYGON ((-80.30518 6.24015, -80.88723 6.34930...</td>\n",
       "      <td>100973.5</td>\n",
       "      <td>POINT (-79.46052 7.70055)</td>\n",
       "      <td>212.0053</td>\n",
       "      <td>NaN</td>\n",
       "      <td>174.803949</td>\n",
       "      <td>66.4</td>\n",
       "      <td>3</td>\n",
       "      <td>183.215099</td>\n",
       "      <td>61.0717</td>\n",
       "    </tr>\n",
       "  </tbody>\n",
       "</table>\n",
       "<p>68 rows × 11 columns</p>\n",
       "</div>"
      ],
      "text/plain": [
       "                                                    time  \\\n",
       "belong        id_gdf                                       \n",
       "1289561f-e0e3 48f4-80f4-de9a2382d590 2001-12-29 23:00:00   \n",
       "              4a58-90d1-a42d1848e81a 2001-12-30 02:00:00   \n",
       "              4b99-a026-9ed11a97e73e 2001-12-30 00:00:00   \n",
       "16553548-86ba 40fd-ae58-fd5760d34917 2001-12-30 09:00:00   \n",
       "              4526-b0d6-2ef11a5cb448 2001-12-30 07:00:00   \n",
       "...                                                  ...   \n",
       "f864e2e8-7933 4904-b535-981b3cafcf9a 2001-12-29 19:00:00   \n",
       "              49ac-85d0-30baa30624d0 2001-12-29 21:00:00   \n",
       "fb037325-65bb 46fb-b101-801f7d6f873f 2001-12-30 01:00:00   \n",
       "              4aa9-bafb-5c3b1284a198 2001-12-30 02:00:00   \n",
       "              4ec7-8020-0477be2472f1 2001-12-30 04:00:00   \n",
       "\n",
       "                                                                               geometry  \\\n",
       "belong        id_gdf                                                                      \n",
       "1289561f-e0e3 48f4-80f4-de9a2382d590  POLYGON ((-79.14107 7.76835, -79.21382 7.80473...   \n",
       "              4a58-90d1-a42d1848e81a  POLYGON ((-79.43209 6.89509, -79.54123 6.96786...   \n",
       "              4b99-a026-9ed11a97e73e  POLYGON ((-79.14107 7.62280, -79.21382 7.65919...   \n",
       "16553548-86ba 40fd-ae58-fd5760d34917  POLYGON ((-87.90825 4.71195, -88.30840 4.74833...   \n",
       "              4526-b0d6-2ef11a5cb448  POLYGON ((-87.94463 4.60279, -88.05376 4.63918...   \n",
       "...                                                                                 ...   \n",
       "f864e2e8-7933 4904-b535-981b3cafcf9a  POLYGON ((-74.19361 -9.22377, -74.44826 -9.151...   \n",
       "              49ac-85d0-30baa30624d0  POLYGON ((-74.22999 -9.47847, -74.30275 -9.369...   \n",
       "fb037325-65bb 46fb-b101-801f7d6f873f  POLYGON ((-81.46928 6.45846, -81.61479 6.53123...   \n",
       "              4aa9-bafb-5c3b1284a198  POLYGON ((-80.85085 6.42208, -81.57841 6.49485...   \n",
       "              4ec7-8020-0477be2472f1  POLYGON ((-80.30518 6.24015, -80.88723 6.34930...   \n",
       "\n",
       "                                       area_tb                   centroid_  \\\n",
       "belong        id_gdf                                                         \n",
       "1289561f-e0e3 48f4-80f4-de9a2382d590    2414.0   POINT (-79.01020 8.07086)   \n",
       "              4a58-90d1-a42d1848e81a   38597.2   POINT (-78.52969 8.15990)   \n",
       "              4b99-a026-9ed11a97e73e    6900.3   POINT (-78.93632 8.10040)   \n",
       "16553548-86ba 40fd-ae58-fd5760d34917   30899.2   POINT (-87.45844 5.57253)   \n",
       "              4526-b0d6-2ef11a5cb448    9001.5   POINT (-87.62163 5.01061)   \n",
       "...                                        ...                         ...   \n",
       "f864e2e8-7933 4904-b535-981b3cafcf9a    6881.7  POINT (-74.12322 -8.76789)   \n",
       "              49ac-85d0-30baa30624d0    1840.8  POINT (-74.15063 -9.26216)   \n",
       "fb037325-65bb 46fb-b101-801f7d6f873f   15340.5   POINT (-80.98043 7.03558)   \n",
       "              4aa9-bafb-5c3b1284a198   25324.4   POINT (-80.91121 7.06723)   \n",
       "              4ec7-8020-0477be2472f1  100973.5   POINT (-79.46052 7.70055)   \n",
       "\n",
       "                                       mean_tb  intersection_percentage  \\\n",
       "belong        id_gdf                                                      \n",
       "1289561f-e0e3 48f4-80f4-de9a2382d590  210.7297                     35.0   \n",
       "              4a58-90d1-a42d1848e81a  212.1504                      NaN   \n",
       "              4b99-a026-9ed11a97e73e  210.6698                     17.9   \n",
       "16553548-86ba 40fd-ae58-fd5760d34917  215.4708                     48.8   \n",
       "              4526-b0d6-2ef11a5cb448  212.7443                     25.5   \n",
       "...                                        ...                      ...   \n",
       "f864e2e8-7933 4904-b535-981b3cafcf9a  206.3886                     51.0   \n",
       "              49ac-85d0-30baa30624d0  213.5593                      NaN   \n",
       "fb037325-65bb 46fb-b101-801f7d6f873f  209.6794                     60.3   \n",
       "              4aa9-bafb-5c3b1284a198  210.5013                     21.3   \n",
       "              4ec7-8020-0477be2472f1  212.0053                      NaN   \n",
       "\n",
       "                                      distance_c  direction total_duration  \\\n",
       "belong        id_gdf                                                         \n",
       "1289561f-e0e3 48f4-80f4-de9a2382d590         NaN        NaN              3   \n",
       "              4a58-90d1-a42d1848e81a   45.295089       81.7              3   \n",
       "              4b99-a026-9ed11a97e73e    8.774159       68.2              3   \n",
       "16553548-86ba 40fd-ae58-fd5760d34917   64.719231       16.2              4   \n",
       "              4526-b0d6-2ef11a5cb448    4.034909       46.4              4   \n",
       "...                                          ...        ...            ...   \n",
       "f864e2e8-7933 4904-b535-981b3cafcf9a         NaN        NaN              3   \n",
       "              49ac-85d0-30baa30624d0   27.124123      173.7              3   \n",
       "fb037325-65bb 46fb-b101-801f7d6f873f         NaN        NaN              3   \n",
       "              4aa9-bafb-5c3b1284a198    8.411150       65.4              3   \n",
       "              4ec7-8020-0477be2472f1  174.803949       66.4              3   \n",
       "\n",
       "                                     total_distance mean_velocity  \n",
       "belong        id_gdf                                               \n",
       "1289561f-e0e3 48f4-80f4-de9a2382d590      54.069248     18.023083  \n",
       "              4a58-90d1-a42d1848e81a      54.069248     18.023083  \n",
       "              4b99-a026-9ed11a97e73e      54.069248     18.023083  \n",
       "16553548-86ba 40fd-ae58-fd5760d34917     243.509468     60.877367  \n",
       "              4526-b0d6-2ef11a5cb448     243.509468     60.877367  \n",
       "...                                             ...           ...  \n",
       "f864e2e8-7933 4904-b535-981b3cafcf9a      55.467188     18.489063  \n",
       "              49ac-85d0-30baa30624d0      55.467188     18.489063  \n",
       "fb037325-65bb 46fb-b101-801f7d6f873f     183.215099       61.0717  \n",
       "              4aa9-bafb-5c3b1284a198     183.215099       61.0717  \n",
       "              4ec7-8020-0477be2472f1     183.215099       61.0717  \n",
       "\n",
       "[68 rows x 11 columns]"
      ]
     },
     "execution_count": 11,
     "metadata": {},
     "output_type": "execute_result"
    }
   ],
   "source": [
    "tracks_l"
   ]
  },
  {
   "cell_type": "code",
   "execution_count": 12,
   "metadata": {},
   "outputs": [
    {
     "data": {
      "text/plain": [
       "<Geographic 2D CRS: EPSG:4326>\n",
       "Name: WGS 84\n",
       "Axis Info [ellipsoidal]:\n",
       "- Lat[north]: Geodetic latitude (degree)\n",
       "- Lon[east]: Geodetic longitude (degree)\n",
       "Area of Use:\n",
       "- name: World.\n",
       "- bounds: (-180.0, -90.0, 180.0, 90.0)\n",
       "Datum: World Geodetic System 1984\n",
       "- Ellipsoid: WGS 84\n",
       "- Prime Meridian: Greenwich"
      ]
     },
     "execution_count": 12,
     "metadata": {},
     "output_type": "execute_result"
    }
   ],
   "source": [
    "tracks_l.crs"
   ]
  },
  {
   "cell_type": "code",
   "execution_count": 13,
   "metadata": {},
   "outputs": [
    {
     "name": "stdout",
     "output_type": "stream",
     "text": [
      "total tracks detected: 21 and total MCS detected: 68\n"
     ]
    }
   ],
   "source": [
    "#Total tracks and MCS detected \n",
    "\n",
    "print (\"total tracks detected: \" + str(len(tracks_l.index.levels[0])) + \" and total MCS detected: \" + str(len(tracks_l.index.levels[1])))"
   ]
  },
  {
   "cell_type": "markdown",
   "metadata": {},
   "source": [
    "### As the last step, let is reload the tracks results from the local storage and plot the MCS with the help of the folium library.\n",
    "\n",
    "The read process tracks is handled with the function `funcs.readTRACKS()`.\n"
   ]
  },
  {
   "cell_type": "code",
   "execution_count": 14,
   "metadata": {},
   "outputs": [
    {
     "name": "stdout",
     "output_type": "stream",
     "text": [
      "total tracks detected: : 21 and total MCS detected: 68\n"
     ]
    }
   ],
   "source": [
    "#-------------------Load results-------------------\n",
    "tracks_l = funcs.readTRACKS('2_output_data/resume_Tb_2001_12_29_19_2001_12_31_07.csv')\n",
    "\n",
    "print (\"total tracks detected: : \" + str(len(tracks_l.index.levels[0])) + \" and total MCS detected: \" + str(len(tracks_l.index.levels[1])))"
   ]
  },
  {
   "cell_type": "markdown",
   "metadata": {},
   "source": [
    "The function `funcs.plot_folium()` saves the `.html` result and return the path where was saved.\n"
   ]
  },
  {
   "cell_type": "code",
   "execution_count": 15,
   "metadata": {
    "scrolled": true
   },
   "outputs": [],
   "source": [
    "path_html_folium = funcs.plot_folium(tracks_l, location = LOCATION_FOLIUM, path_save = OUTDIR)"
   ]
  },
  {
   "cell_type": "code",
   "execution_count": 16,
   "metadata": {},
   "outputs": [
    {
     "data": {
      "text/html": [
       "<iframe src=2_output_data/map_Tb_2001_12_29_19_2001_12_31_07.html width=1000 height=500></iframe>"
      ],
      "text/plain": [
       "<IPython.core.display.HTML object>"
      ]
     },
     "execution_count": 16,
     "metadata": {},
     "output_type": "execute_result"
    }
   ],
   "source": [
    "import IPython\n",
    "iframe = '<iframe src=' + path_html_folium + ' width=1000 height=500></iframe>'\n",
    "IPython.display.HTML(iframe)"
   ]
  }
 ],
 "metadata": {
  "kernelspec": {
   "display_name": "Python 3 (ipykernel)",
   "language": "python",
   "name": "python3"
  },
  "language_info": {
   "codemirror_mode": {
    "name": "ipython",
    "version": 3
   },
   "file_extension": ".py",
   "mimetype": "text/x-python",
   "name": "python",
   "nbconvert_exporter": "python",
   "pygments_lexer": "ipython3",
   "version": "3.7.13"
  }
 },
 "nbformat": 4,
 "nbformat_minor": 4
}
